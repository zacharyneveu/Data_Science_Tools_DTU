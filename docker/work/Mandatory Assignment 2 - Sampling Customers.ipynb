{
 "cells": [
  {
   "cell_type": "markdown",
   "metadata": {},
   "source": [
    "# Mandatory Assignment 2: Sampling Customers\n",
    "\n",
    "**This is the second of three mandatory assignments to be handed in as part of the assessment for the course 02807 Computational Tools for Data Science at Technical University of Denmark, autumn 2019.**\n",
    "\n",
    "#### Practical info\n",
    "- **The assignment is to be done individually. You are under no circumstances allowed to collaborate with anyone on solving the exercises (cf. the full policy on this on the course website)**\n",
    "- **You must hand in one Jupyter notebook (this notebook) with your solution**\n",
    "- **The hand-in of the notebook is due 2019-11-10, 23:59 on DTU Inside**\n",
    "\n",
    "#### Your solution\n",
    "- **Your solution should be in Python**\n",
    "- **You may use more cells than the provided ones for your answers**\n",
    "- **You should not remove the problem statements**\n",
    "- **Your notebook should be runnable, i.e., clicking [>>] in Jupyter should generate the result that you want to be assessed**"
   ]
  },
  {
   "cell_type": "markdown",
   "metadata": {},
   "source": [
    "---\n",
    "## Introduction\n",
    "When computing group aggregates from a sample, simple random sampling does not give good results. Instead, a representative sample can be obtained by storing each record seen from a sample of the elements we group by. \n",
    "\n",
    "In this assignment you should implement this sampling method on a stream of customer spendings.\n",
    "\n",
    "### Example\n",
    "Suppose you are sampling from a stream of customer spendings. Each element of the stream consists of a customer ID and an amount. For example:\n",
    "\n",
    "`123e4567-e89b-12d3-a456-426655440000 29.99`\n",
    "\n",
    "To obtain a representative sample, you should sample some customer IDs and make sure that every occurrence of the sampled customer IDs are in your final sample. For example, if the customer ID `123e4567-e89b-12d3-a456-426655440000` is among the sampled customer IDs, every element with this ID should be in your sample. "
   ]
  },
  {
   "cell_type": "markdown",
   "metadata": {},
   "source": [
    "## Reading the stream\n",
    "The following code reads a remote file line by line. It is wrapped in a generator to make it easier to extend. You should design your algorithm to read from the generator as a stream. You may extend or modify this to fit your requirements."
   ]
  },
  {
   "cell_type": "code",
   "execution_count": 1,
   "metadata": {},
   "outputs": [],
   "source": [
    "url = 'https://files.dtu.dk/fss/public/link/public/stream/read/spending?linkToken=wkMPLdtDDyvQQw8o&itemName=spending'"
   ]
  },
  {
   "cell_type": "markdown",
   "metadata": {},
   "source": [
    "Note:  \n",
    "Changed stream to separate id/value pairs and to return $n$ objects instead of $n+1$"
   ]
  },
  {
   "cell_type": "code",
   "execution_count": 2,
   "metadata": {},
   "outputs": [],
   "source": [
    "import urllib\n",
    "\n",
    "def stream(n):\n",
    "    i = 0\n",
    "    with urllib.request.urlopen(url) as f:\n",
    "        for line in f:\n",
    "            if i == n:\n",
    "                break\n",
    "            element = line.rstrip().decode(\"utf-8\").split(' ')\n",
    "            yield element\n",
    "            i += 1"
   ]
  },
  {
   "cell_type": "code",
   "execution_count": 3,
   "metadata": {},
   "outputs": [],
   "source": [
    "STREAM_SIZE = 10\n",
    "customer_stream = stream(STREAM_SIZE)"
   ]
  },
  {
   "cell_type": "code",
   "execution_count": 4,
   "metadata": {},
   "outputs": [
    {
     "data": {
      "text/plain": [
       "['0051a824-11a1-41e8-9023-694e75b92e41', '44.26']"
      ]
     },
     "execution_count": 4,
     "metadata": {},
     "output_type": "execute_result"
    }
   ],
   "source": [
    "next(customer_stream)"
   ]
  },
  {
   "cell_type": "markdown",
   "metadata": {},
   "source": [
    "## Exercise 1\n",
    "Implement an algorithm that computes a sample from the stream. The sample must be representative of customers, i.e., you should be able to answer group aggregate questions from it.\n",
    "\n",
    "The sample size should be approximately 10% of the number of elements read from the stream.\n",
    "\n",
    "It is important that your algorithm is a streaming algorithm. This means that your algorithm should update the sample every time an element from the stream is processed, and you should also only process the stream once.\n",
    "\n",
    "### Hints\n",
    "Hint 1: Since simple random sampling is not a good idea, you should not use the reservoir sampling algorithm.\n",
    "\n",
    "Hint 2: The sample does not have to be exactly $k$ elements.\n",
    "\n",
    "Hint 3: You should use a hash function and the fact that it can be used to uniformly map elements from a large universe to a smaller domain. Murmurhash3 (`mmh3`) is a suitable hash function from strings to integers for this."
   ]
  },
  {
   "cell_type": "markdown",
   "metadata": {},
   "source": [
    "### Solution\n",
    "+ Hash customer IDs to $\\frac{1}{10\\%} = 10$ bins.\n",
    "+ Keep the first bin as out sample"
   ]
  },
  {
   "cell_type": "code",
   "execution_count": 5,
   "metadata": {},
   "outputs": [],
   "source": [
    "import mmh3\n",
    "from tqdm import tqdm_notebook as tqdm # for nice progress bars on long streams"
   ]
  },
  {
   "cell_type": "code",
   "execution_count": 17,
   "metadata": {},
   "outputs": [
    {
     "data": {
      "application/vnd.jupyter.widget-view+json": {
       "model_id": "86f650d8c64340a29270bc3eb6c0e82f",
       "version_major": 2,
       "version_minor": 0
      },
      "text/plain": [
       "HBox(children=(IntProgress(value=0, max=1000000), HTML(value='')))"
      ]
     },
     "metadata": {},
     "output_type": "display_data"
    },
    {
     "name": "stdout",
     "output_type": "stream",
     "text": [
      "\n",
      "Sample Size: 91926/1000000 (9.19%)\n"
     ]
    }
   ],
   "source": [
    "n_sample_stream = int(1e6)\n",
    "sample_stream = stream(n_sample_stream)\n",
    "sample = []\n",
    "for c in tqdm(sample_stream, total=n_sample_stream):\n",
    "    hash_bin = mmh3.hash(c[0]) % 10\n",
    "    if hash_bin == 0:\n",
    "        sample.append(c)\n",
    "        \n",
    "print(f'Sample Size: {len(sample)}/{n_sample_stream} ({round(len(sample)/n_sample_stream*100,2)}%)')"
   ]
  },
  {
   "cell_type": "markdown",
   "metadata": {},
   "source": [
    "## Exercise 2\n",
    "Use the sample obtained in the previous exercise to answer the following question.\n",
    "\n",
    "- What is the average spending per customer?"
   ]
  },
  {
   "cell_type": "code",
   "execution_count": 18,
   "metadata": {},
   "outputs": [
    {
     "name": "stdout",
     "output_type": "stream",
     "text": [
      "The average customer spent 137071.6\n"
     ]
    }
   ],
   "source": [
    "totals_spending = {cid: round(sum([float(t[1])  for t in sample if t[0]==cid]),2) for cid in set(list(zip(*sample))[0])}\n",
    "avg_spend_per_customer = round(sum(totals_spending.values()) / len(totals_spending.keys()), 2)\n",
    "print(f'The average customer spent {avg_spend_per_customer}')"
   ]
  },
  {
   "cell_type": "markdown",
   "metadata": {},
   "source": [
    "## Exercise 3\n",
    "Explain why simple random sampling would not give as good an answer to the question in exercise 2 as your new algorithm does.\n",
    "\n",
    "Hint: Look at the distribution of amounts for some customer in your sample."
   ]
  },
  {
   "cell_type": "markdown",
   "metadata": {},
   "source": [
    "### Explanation\n",
    "With reservoir/random sampling, approximately 10% of the transactions from each customer would be included in the sample. Looking at the distribution of transaction amounts for a single customer, it appears to be approximately uniform, thus having a very large variance. Randomly sampling 10% of this distribution, it would be very likely to get an unrepresentative sample. Multiplying the sum of the sample by 10 to approximate the total would even further throw off the estimate. By sampling 10% of customers instead and including all transactions for each customer, we trade our assumption of equal value transactions for an assumption that all customers are similar. Looking at the histogram of total amount purchased per customer, this appears to be a more valid assumption as the variance is smaller. In this case, we are also estimating the total directly instead of multiplying which will help minimize estimation error."
   ]
  },
  {
   "cell_type": "code",
   "execution_count": 8,
   "metadata": {},
   "outputs": [],
   "source": [
    "import matplotlib.pyplot as plt"
   ]
  },
  {
   "cell_type": "code",
   "execution_count": 9,
   "metadata": {},
   "outputs": [],
   "source": [
    "customer_a = [t[1] for t in sample if t[0]==sample[0][0]]"
   ]
  },
  {
   "cell_type": "code",
   "execution_count": 14,
   "metadata": {},
   "outputs": [
    {
     "data": {
      "text/plain": [
       "Text(0.5, 1.0, 'Distribution of Transaction Amounts for a Sample Customer')"
      ]
     },
     "execution_count": 14,
     "metadata": {},
     "output_type": "execute_result"
    },
    {
     "data": {
      "image/png": "[encoded data removed]",
      "text/plain": [
       "<Figure size 432x288 with 1 Axes>"
      ]
     },
     "metadata": {
      "needs_background": "light"
     },
     "output_type": "display_data"
    }
   ],
   "source": [
    "%matplotlib inline\n",
    "plt.hist(customer_a, 30)\n",
    "plt.title('Distribution of Transaction Amounts for a Sample Customer')"
   ]
  },
  {
   "cell_type": "code",
   "execution_count": 15,
   "metadata": {},
   "outputs": [
    {
     "data": {
      "text/plain": [
       "Text(0.5, 1.0, 'Distribution of total spending per customer')"
      ]
     },
     "execution_count": 15,
     "metadata": {},
     "output_type": "execute_result"
    },
    {
     "data": {
      "image/png": "[encoded data removed]",
      "text/plain": [
       "<Figure size 432x288 with 1 Axes>"
      ]
     },
     "metadata": {
      "needs_background": "light"
     },
     "output_type": "display_data"
    }
   ],
   "source": [
    "%matplotlib inline\n",
    "plt.hist(totals_spending.values())\n",
    "plt.title('Distribution of total spending per customer')"
   ]
  },
  {
   "cell_type": "code",
   "execution_count": null,
   "metadata": {},
   "outputs": [],
   "source": []
  }
 ],
 "metadata": {
  "kernelspec": {
   "display_name": "Python 3",
   "language": "python",
   "name": "python3"
  },
  "language_info": {
   "codemirror_mode": {
    "name": "ipython",
    "version": 3
   },
   "file_extension": ".py",
   "mimetype": "text/x-python",
   "name": "python",
   "nbconvert_exporter": "python",
   "pygments_lexer": "ipython3",
   "version": "3.7.1"
  },
  "widgets": {
   "application/vnd.jupyter.widget-state+json": {
    "state": {},
    "version_major": 2,
    "version_minor": 0
   }
  }
 },
 "nbformat": 4,
 "nbformat_minor": 4
}
