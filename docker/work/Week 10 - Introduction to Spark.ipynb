{
 "cells": [
  {
   "cell_type": "markdown",
   "metadata": {},
   "source": [
    "# Creating a Spark session"
   ]
  },
  {
   "cell_type": "code",
   "execution_count": 1,
   "metadata": {},
   "outputs": [],
   "source": [
    "from pyspark.sql import *\n",
    "from pyspark.sql import functions as f\n",
    "from pyspark.sql.types import *\n",
    "\n",
    "spark = SparkSession.builder.appName(\"SparkIntro\").getOrCreate()"
   ]
  },
  {
   "cell_type": "markdown",
   "metadata": {},
   "source": [
    "# Reading data\n",
    "We specify that we want to interpret the first line as headers and that we want Spark to try to infer the types of the data."
   ]
  },
  {
   "cell_type": "code",
   "execution_count": 2,
   "metadata": {},
   "outputs": [],
   "source": [
    "df = spark.read.option('header', True).option('inferSchema', True).csv('data/titanic.csv')"
   ]
  },
  {
   "cell_type": "markdown",
   "metadata": {},
   "source": [
    "# Inspecting the file\n",
    "The first three things you should always do when working with data:\n",
    "- Check that it looks ok (`show()`)\n",
    "- Check that the schema is correct (`printSchema()`)\n",
    "- See how big the dataset is (`count()`, unless it is huge!)"
   ]
  },
  {
   "cell_type": "code",
   "execution_count": 3,
   "metadata": {},
   "outputs": [
    {
     "name": "stdout",
     "output_type": "stream",
     "text": [
      "+-----------+--------+------+--------------------+------+----+-----+-----+----------------+-------+-----+--------+\n",
      "|PassengerId|Survived|Pclass|                Name|   Sex| Age|SibSp|Parch|          Ticket|   Fare|Cabin|Embarked|\n",
      "+-----------+--------+------+--------------------+------+----+-----+-----+----------------+-------+-----+--------+\n",
      "|          1|   false|     3|Braund, Mr. Owen ...|  male|22.0|    1|    0|       A/5 21171|   7.25| null|       S|\n",
      "|          2|    true|     1|Cumings, Mrs. Joh...|female|38.0|    1|    0|        PC 17599|71.2833|  C85|       C|\n",
      "|          3|    true|     3|Heikkinen, Miss. ...|female|26.0|    0|    0|STON/O2. 3101282|  7.925| null|       S|\n",
      "|          4|    true|     1|Futrelle, Mrs. Ja...|female|35.0|    1|    0|          113803|   53.1| C123|       S|\n",
      "|          5|   false|     3|Allen, Mr. Willia...|  male|35.0|    0|    0|          373450|   8.05| null|       S|\n",
      "|          6|   false|     3|    Moran, Mr. James|  male|null|    0|    0|          330877| 8.4583| null|       Q|\n",
      "|          7|   false|     1|McCarthy, Mr. Tim...|  male|54.0|    0|    0|           17463|51.8625|  E46|       S|\n",
      "|          8|   false|     3|Palsson, Master. ...|  male| 2.0|    3|    1|          349909| 21.075| null|       S|\n",
      "|          9|    true|     3|Johnson, Mrs. Osc...|female|27.0|    0|    2|          347742|11.1333| null|       S|\n",
      "|         10|    true|     2|Nasser, Mrs. Nich...|female|14.0|    1|    0|          237736|30.0708| null|       C|\n",
      "|         11|    true|     3|Sandstrom, Miss. ...|female| 4.0|    1|    1|         PP 9549|   16.7|   G6|       S|\n",
      "|         12|    true|     1|Bonnell, Miss. El...|female|58.0|    0|    0|          113783|  26.55| C103|       S|\n",
      "|         13|   false|     3|Saundercock, Mr. ...|  male|20.0|    0|    0|       A/5. 2151|   8.05| null|       S|\n",
      "|         14|   false|     3|Andersson, Mr. An...|  male|39.0|    1|    5|          347082| 31.275| null|       S|\n",
      "|         15|   false|     3|Vestrom, Miss. Hu...|female|14.0|    0|    0|          350406| 7.8542| null|       S|\n",
      "|         16|    true|     2|Hewlett, Mrs. (Ma...|female|55.0|    0|    0|          248706|   16.0| null|       S|\n",
      "|         17|   false|     3|Rice, Master. Eugene|  male| 2.0|    4|    1|          382652| 29.125| null|       Q|\n",
      "|         18|    true|     2|Williams, Mr. Cha...|  male|null|    0|    0|          244373|   13.0| null|       S|\n",
      "|         19|   false|     3|Vander Planke, Mr...|female|31.0|    1|    0|          345763|   18.0| null|       S|\n",
      "|         20|    true|     3|Masselmani, Mrs. ...|female|null|    0|    0|            2649|  7.225| null|       C|\n",
      "+-----------+--------+------+--------------------+------+----+-----+-----+----------------+-------+-----+--------+\n",
      "only showing top 20 rows\n",
      "\n"
     ]
    }
   ],
   "source": [
    "df.show()"
   ]
  },
  {
   "cell_type": "code",
   "execution_count": 4,
   "metadata": {},
   "outputs": [
    {
     "name": "stdout",
     "output_type": "stream",
     "text": [
      "root\n",
      " |-- PassengerId: integer (nullable = true)\n",
      " |-- Survived: boolean (nullable = true)\n",
      " |-- Pclass: integer (nullable = true)\n",
      " |-- Name: string (nullable = true)\n",
      " |-- Sex: string (nullable = true)\n",
      " |-- Age: double (nullable = true)\n",
      " |-- SibSp: integer (nullable = true)\n",
      " |-- Parch: integer (nullable = true)\n",
      " |-- Ticket: string (nullable = true)\n",
      " |-- Fare: double (nullable = true)\n",
      " |-- Cabin: string (nullable = true)\n",
      " |-- Embarked: string (nullable = true)\n",
      "\n"
     ]
    }
   ],
   "source": [
    "df.printSchema()"
   ]
  },
  {
   "cell_type": "code",
   "execution_count": 5,
   "metadata": {},
   "outputs": [
    {
     "data": {
      "text/plain": [
       "891"
      ]
     },
     "execution_count": 5,
     "metadata": {},
     "output_type": "execute_result"
    }
   ],
   "source": [
    "df.count()"
   ]
  },
  {
   "cell_type": "markdown",
   "metadata": {},
   "source": [
    "# Filtering dataframe"
   ]
  },
  {
   "cell_type": "code",
   "execution_count": 6,
   "metadata": {},
   "outputs": [],
   "source": [
    "filtered_df = df.filter(f.col('survived') == True).filter(f.col('Cabin').isNotNull())"
   ]
  },
  {
   "cell_type": "code",
   "execution_count": 7,
   "metadata": {},
   "outputs": [
    {
     "name": "stdout",
     "output_type": "stream",
     "text": [
      "+-----------+--------+------+--------------------+------+----+-----+-----+----------+--------+-----------+--------+\n",
      "|PassengerId|Survived|Pclass|                Name|   Sex| Age|SibSp|Parch|    Ticket|    Fare|      Cabin|Embarked|\n",
      "+-----------+--------+------+--------------------+------+----+-----+-----+----------+--------+-----------+--------+\n",
      "|          2|    true|     1|Cumings, Mrs. Joh...|female|38.0|    1|    0|  PC 17599| 71.2833|        C85|       C|\n",
      "|          4|    true|     1|Futrelle, Mrs. Ja...|female|35.0|    1|    0|    113803|    53.1|       C123|       S|\n",
      "|         11|    true|     3|Sandstrom, Miss. ...|female| 4.0|    1|    1|   PP 9549|    16.7|         G6|       S|\n",
      "|         12|    true|     1|Bonnell, Miss. El...|female|58.0|    0|    0|    113783|   26.55|       C103|       S|\n",
      "|         22|    true|     2|Beesley, Mr. Lawr...|  male|34.0|    0|    0|    248698|    13.0|        D56|       S|\n",
      "|         24|    true|     1|Sloper, Mr. Willi...|  male|28.0|    0|    0|    113788|    35.5|         A6|       S|\n",
      "|         32|    true|     1|Spencer, Mrs. Wil...|female|null|    1|    0|  PC 17569|146.5208|        B78|       C|\n",
      "|         53|    true|     1|Harper, Mrs. Henr...|female|49.0|    1|    0|  PC 17572| 76.7292|        D33|       C|\n",
      "|         56|    true|     1|   Woolner, Mr. Hugh|  male|null|    0|    0|     19947|    35.5|        C52|       S|\n",
      "|         62|    true|     1| Icard, Miss. Amelie|female|38.0|    0|    0|    113572|    80.0|        B28|    null|\n",
      "|         67|    true|     2|Nye, Mrs. (Elizab...|female|29.0|    0|    0|C.A. 29395|    10.5|        F33|       S|\n",
      "|         89|    true|     1|Fortune, Miss. Ma...|female|23.0|    3|    2|     19950|   263.0|C23 C25 C27|       S|\n",
      "|         98|    true|     1|Greenfield, Mr. W...|  male|23.0|    0|    1|  PC 17759| 63.3583|    D10 D12|       C|\n",
      "|        124|    true|     2| Webber, Miss. Susan|female|32.5|    0|    0|     27267|    13.0|       E101|       S|\n",
      "|        129|    true|     3|   Peter, Miss. Anna|female|null|    1|    1|      2668| 22.3583|      F E69|       C|\n",
      "|        137|    true|     1|Newsom, Miss. Hel...|female|19.0|    0|    2|     11752| 26.2833|        D47|       S|\n",
      "|        152|    true|     1|Pears, Mrs. Thoma...|female|22.0|    1|    0|    113776|    66.6|         C2|       S|\n",
      "|        167|    true|     1|Chibnall, Mrs. (E...|female|null|    0|    1|    113505|    55.0|        E33|       S|\n",
      "|        184|    true|     2|Becker, Master. R...|  male| 1.0|    2|    1|    230136|    39.0|         F4|       S|\n",
      "|        194|    true|     2|Navratil, Master....|  male| 3.0|    1|    1|    230080|    26.0|         F2|       S|\n",
      "+-----------+--------+------+--------------------+------+----+-----+-----+----------+--------+-----------+--------+\n",
      "only showing top 20 rows\n",
      "\n"
     ]
    }
   ],
   "source": [
    "filtered_df.show()"
   ]
  },
  {
   "cell_type": "code",
   "execution_count": 8,
   "metadata": {},
   "outputs": [
    {
     "data": {
      "text/plain": [
       "136"
      ]
     },
     "execution_count": 8,
     "metadata": {},
     "output_type": "execute_result"
    }
   ],
   "source": [
    "filtered_df.count()"
   ]
  },
  {
   "cell_type": "markdown",
   "metadata": {},
   "source": [
    "# Sorting the dataframe\n",
    "Only sort when you really need it and when the dataframe is small. It is an expensive operation."
   ]
  },
  {
   "cell_type": "code",
   "execution_count": 34,
   "metadata": {},
   "outputs": [
    {
     "name": "stdout",
     "output_type": "stream",
     "text": [
      "+-----------+--------+------+--------------------+------+----+-----+-----+----------+-------+-----+--------+\n",
      "|PassengerId|Survived|Pclass|                Name|   Sex| Age|SibSp|Parch|    Ticket|   Fare|Cabin|Embarked|\n",
      "+-----------+--------+------+--------------------+------+----+-----+-----+----------+-------+-----+--------+\n",
      "|        147|    true|     3|\"Andersson, Mr. A...|  male|27.0|    0|    0|    350043| 7.7958| null|       S|\n",
      "|        519|    true|     2|\"Angle, Mrs. Will...|female|36.0|    1|    0|    226875|   26.0| null|       S|\n",
      "|        291|    true|     1|\"Barber, Miss. El...|female|26.0|    0|    0|     19877|  78.85| null|       S|\n",
      "|        625|   false|     3|\"Bowen, Mr. David...|  male|21.0|    0|    0|     54636|   16.1| null|       S|\n",
      "|        508|    true|     1|\"Bradley, Mr. Geo...|  male|null|    0|    0|    111427|  26.55| null|       S|\n",
      "|        346|    true|     2|\"Brown, Miss. Ame...|female|24.0|    0|    0|    248733|   13.0|  F33|       S|\n",
      "|        209|    true|     3|\"Carr, Miss. Hele...|female|16.0|    0|    0|    367231|   7.75| null|       Q|\n",
      "|        205|    true|     3|\"Cohen, Mr. Gursh...|  male|18.0|    0|    0|  A/5 3540|   8.05| null|       S|\n",
      "|        238|    true|     2|\"Collyer, Miss. M...|female| 8.0|    0|    2|C.A. 31921|  26.25| null|       S|\n",
      "|        490|    true|     3|\"Coutts, Master. ...|  male| 9.0|    1|    1|C.A. 37671|   15.9| null|       S|\n",
      "|        349|    true|     3|\"Coutts, Master. ...|  male| 3.0|    1|    1|C.A. 37671|   15.9| null|       S|\n",
      "|        557|    true|     1|\"Duff Gordon, Lad...|female|48.0|    1|    0|     11755|   39.6|  A16|       C|\n",
      "|        600|    true|     1|\"Duff Gordon, Sir...|  male|49.0|    1|    0|  PC 17485|56.9292|  A20|       C|\n",
      "|        573|    true|     1|\"Flynn, Mr. John ...|  male|36.0|    0|    0|  PC 17474|26.3875|  E25|       S|\n",
      "|        437|   false|     3|\"Ford, Miss. Dool...|female|21.0|    2|    2|W./C. 6608| 34.375| null|       S|\n",
      "|        148|   false|     3|\"Ford, Miss. Robi...|female| 9.0|    2|    2|W./C. 6608| 34.375| null|       S|\n",
      "|        482|   false|     2|\"Frost, Mr. Antho...|  male|null|    0|    0|    239854|    0.0| null|       S|\n",
      "|        157|    true|     3|\"Gilnagh, Miss. K...|female|16.0|    0|    0|     35851| 7.7333| null|       Q|\n",
      "|        166|    true|     3|\"Goldsmith, Maste...|  male| 9.0|    0|    2|    363291| 20.525| null|       S|\n",
      "|        721|    true|     2|\"Harper, Miss. An...|female| 6.0|    0|    1|    248727|   33.0| null|       S|\n",
      "+-----------+--------+------+--------------------+------+----+-----+-----+----------+-------+-----+--------+\n",
      "only showing top 20 rows\n",
      "\n"
     ]
    }
   ],
   "source": [
    "df.orderBy('Name').show()"
   ]
  },
  {
   "cell_type": "markdown",
   "metadata": {},
   "source": [
    "# Creating a dataframe from data in memory\n",
    "If you obtain data from other sources than a file on disk, e.g., a remote API, you need to create a dataframe manually in order to work with it in Spark."
   ]
  },
  {
   "cell_type": "code",
   "execution_count": 9,
   "metadata": {},
   "outputs": [],
   "source": [
    "deck = [\n",
    "    ['S', 'lower deck'],\n",
    "    ['C', 'lower deck'],\n",
    "    ['Q', 'upper deck']\n",
    "]"
   ]
  },
  {
   "cell_type": "code",
   "execution_count": 10,
   "metadata": {},
   "outputs": [],
   "source": [
    "fields = [StructField('Embarked', StringType(), True), StructField('Level', StringType(), True)]\n",
    "schema = StructType(fields)\n",
    "deck_df = spark.createDataFrame(deck, schema)"
   ]
  },
  {
   "cell_type": "code",
   "execution_count": 11,
   "metadata": {},
   "outputs": [
    {
     "name": "stdout",
     "output_type": "stream",
     "text": [
      "root\n",
      " |-- Embarked: string (nullable = true)\n",
      " |-- Level: string (nullable = true)\n",
      "\n"
     ]
    }
   ],
   "source": [
    "deck_df.printSchema()"
   ]
  },
  {
   "cell_type": "markdown",
   "metadata": {},
   "source": [
    "# Joining dataframes\n",
    "Joins are the same thing as in Pandas and SQL.\n",
    "\n",
    "Be careful with joins if you have a lot of data. More on joins next week."
   ]
  },
  {
   "cell_type": "code",
   "execution_count": 12,
   "metadata": {},
   "outputs": [],
   "source": [
    "level_df = df.join(deck_df, ['Embarked'], 'inner')"
   ]
  },
  {
   "cell_type": "code",
   "execution_count": 13,
   "metadata": {},
   "outputs": [
    {
     "name": "stdout",
     "output_type": "stream",
     "text": [
      "root\n",
      " |-- Embarked: string (nullable = true)\n",
      " |-- PassengerId: integer (nullable = true)\n",
      " |-- Survived: boolean (nullable = true)\n",
      " |-- Pclass: integer (nullable = true)\n",
      " |-- Name: string (nullable = true)\n",
      " |-- Sex: string (nullable = true)\n",
      " |-- Age: double (nullable = true)\n",
      " |-- SibSp: integer (nullable = true)\n",
      " |-- Parch: integer (nullable = true)\n",
      " |-- Ticket: string (nullable = true)\n",
      " |-- Fare: double (nullable = true)\n",
      " |-- Cabin: string (nullable = true)\n",
      " |-- Level: string (nullable = true)\n",
      "\n"
     ]
    }
   ],
   "source": [
    "level_df.printSchema()"
   ]
  },
  {
   "cell_type": "code",
   "execution_count": 33,
   "metadata": {},
   "outputs": [
    {
     "name": "stdout",
     "output_type": "stream",
     "text": [
      "+-----------+--------+----------+\n",
      "|PassengerId|Embarked|     Level|\n",
      "+-----------+--------+----------+\n",
      "|        889|       S|lower deck|\n",
      "|        888|       S|lower deck|\n",
      "|        887|       S|lower deck|\n",
      "|        885|       S|lower deck|\n",
      "|        884|       S|lower deck|\n",
      "|        883|       S|lower deck|\n",
      "|        882|       S|lower deck|\n",
      "|        881|       S|lower deck|\n",
      "|        879|       S|lower deck|\n",
      "|        878|       S|lower deck|\n",
      "|        877|       S|lower deck|\n",
      "|        874|       S|lower deck|\n",
      "|        873|       S|lower deck|\n",
      "|        872|       S|lower deck|\n",
      "|        871|       S|lower deck|\n",
      "|        870|       S|lower deck|\n",
      "|        869|       S|lower deck|\n",
      "|        868|       S|lower deck|\n",
      "|        866|       S|lower deck|\n",
      "|        865|       S|lower deck|\n",
      "+-----------+--------+----------+\n",
      "only showing top 20 rows\n",
      "\n"
     ]
    }
   ],
   "source": [
    "level_df.select('PassengerId', 'Embarked', 'Level').show()"
   ]
  },
  {
   "cell_type": "markdown",
   "metadata": {},
   "source": [
    "# Computing aggregates\n",
    "Group values and compute statistics.\n",
    "\n",
    "Functions:\n",
    "\n",
    "- avg\n",
    "- count\n",
    "- max\n",
    "- min\n",
    "- sum"
   ]
  },
  {
   "cell_type": "code",
   "execution_count": 14,
   "metadata": {},
   "outputs": [
    {
     "name": "stdout",
     "output_type": "stream",
     "text": [
      "+------------------+\n",
      "|         sum(Fare)|\n",
      "+------------------+\n",
      "|28533.949299999967|\n",
      "+------------------+\n",
      "\n"
     ]
    }
   ],
   "source": [
    "# Total fare\n",
    "level_df.select(f.sum('Fare')).show()"
   ]
  },
  {
   "cell_type": "code",
   "execution_count": 15,
   "metadata": {},
   "outputs": [
    {
     "name": "stdout",
     "output_type": "stream",
     "text": [
      "+------------------+-----------------+---------+---------+\n",
      "|         sum(Fare)|        avg(Fare)|max(Fare)|min(Fare)|\n",
      "+------------------+-----------------+---------+---------+\n",
      "|28533.949299999967|32.09668087739029| 512.3292|      0.0|\n",
      "+------------------+-----------------+---------+---------+\n",
      "\n"
     ]
    }
   ],
   "source": [
    "# Total, average, max and min\n",
    "level_df.select(f.sum('Fare'), f.avg('Fare'), f.max('Fare'), f.min('Fare')).show()"
   ]
  },
  {
   "cell_type": "code",
   "execution_count": 16,
   "metadata": {},
   "outputs": [
    {
     "name": "stdout",
     "output_type": "stream",
     "text": [
      "+------------------+------------------+---------+---------+\n",
      "|         sum(Fare)|         avg(Fare)|max(Fare)|min(Fare)|\n",
      "+------------------+------------------+---------+---------+\n",
      "|28533.949299999967|32.647539244851224| 512.3292|   4.0125|\n",
      "+------------------+------------------+---------+---------+\n",
      "\n"
     ]
    }
   ],
   "source": [
    "# ... with filter\n",
    "level_df.filter(f.col('Fare') > 0.0).select(f.sum('Fare'), f.avg('Fare'), f.max('Fare'), f.min('Fare')).show()"
   ]
  },
  {
   "cell_type": "code",
   "execution_count": 17,
   "metadata": {},
   "outputs": [],
   "source": [
    "# Total per passenger class"
   ]
  },
  {
   "cell_type": "code",
   "execution_count": 18,
   "metadata": {},
   "outputs": [
    {
     "name": "stdout",
     "output_type": "stream",
     "text": [
      "+------+------------------+\n",
      "|Pclass|         sum(Fare)|\n",
      "+------+------------------+\n",
      "|     1|18017.412500000002|\n",
      "|     3| 6714.695100000008|\n",
      "|     2|3801.8417000000004|\n",
      "+------+------------------+\n",
      "\n"
     ]
    }
   ],
   "source": [
    "level_df.groupBy('Pclass').agg(f.sum('Fare')).show()"
   ]
  },
  {
   "cell_type": "markdown",
   "metadata": {},
   "source": [
    "# Adding and removing columns"
   ]
  },
  {
   "cell_type": "code",
   "execution_count": 19,
   "metadata": {},
   "outputs": [
    {
     "name": "stdout",
     "output_type": "stream",
     "text": [
      "root\n",
      " |-- Survived: boolean (nullable = true)\n",
      " |-- Pclass: integer (nullable = true)\n",
      " |-- Name: string (nullable = true)\n",
      " |-- Sex: string (nullable = true)\n",
      " |-- Age: double (nullable = true)\n",
      " |-- SibSp: integer (nullable = true)\n",
      " |-- Parch: integer (nullable = true)\n",
      " |-- Ticket: string (nullable = true)\n",
      " |-- Fare: double (nullable = true)\n",
      " |-- Cabin: string (nullable = true)\n",
      " |-- Embarked: string (nullable = true)\n",
      "\n"
     ]
    }
   ],
   "source": [
    "df.drop('PassengerId').printSchema()"
   ]
  },
  {
   "cell_type": "code",
   "execution_count": 20,
   "metadata": {},
   "outputs": [
    {
     "name": "stdout",
     "output_type": "stream",
     "text": [
      "+-----+-----+-------+------------------+\n",
      "|SibSp|Parch|   Fare|          RealFare|\n",
      "+-----+-----+-------+------------------+\n",
      "|    1|    0|   7.25|             3.625|\n",
      "|    1|    0|71.2833|          35.64165|\n",
      "|    0|    0|  7.925|             7.925|\n",
      "|    1|    0|   53.1|             26.55|\n",
      "|    0|    0|   8.05|              8.05|\n",
      "|    0|    0| 8.4583|            8.4583|\n",
      "|    0|    0|51.8625|           51.8625|\n",
      "|    3|    1| 21.075|             4.215|\n",
      "|    0|    2|11.1333|            3.7111|\n",
      "|    1|    0|30.0708|           15.0354|\n",
      "|    1|    1|   16.7| 5.566666666666666|\n",
      "|    0|    0|  26.55|             26.55|\n",
      "|    0|    0|   8.05|              8.05|\n",
      "|    1|    5| 31.275|4.4678571428571425|\n",
      "|    0|    0| 7.8542|            7.8542|\n",
      "|    0|    0|   16.0|              16.0|\n",
      "|    4|    1| 29.125| 4.854166666666667|\n",
      "|    0|    0|   13.0|              13.0|\n",
      "|    1|    0|   18.0|               9.0|\n",
      "|    0|    0|  7.225|             7.225|\n",
      "+-----+-----+-------+------------------+\n",
      "only showing top 20 rows\n",
      "\n"
     ]
    }
   ],
   "source": [
    "df.withColumn('RealFare', f.col('Fare')/(f.col('SibSp')+f.col('Parch')+1)).select('SibSp', 'Parch', 'Fare', 'RealFare').show()"
   ]
  },
  {
   "cell_type": "markdown",
   "metadata": {},
   "source": [
    "# Custom functions\n",
    "If you want to apply your own function to a column you need to register it as a UDF. Functions can not modify colums so you need to use it with `select()` or `withColumn()`.\n",
    "\n",
    "Let's create a function that extracts the title of the passenger. Names are in the form `Lastname, Title. Firstname`."
   ]
  },
  {
   "cell_type": "code",
   "execution_count": 30,
   "metadata": {},
   "outputs": [],
   "source": [
    "def extract_title(name):\n",
    "    name_parts = name.split(',')\n",
    "    title_and_first = name_parts[1].split('.')\n",
    "    return title_and_first[0]"
   ]
  },
  {
   "cell_type": "code",
   "execution_count": 31,
   "metadata": {},
   "outputs": [],
   "source": [
    "extract_title_udf = f.udf(extract_title)"
   ]
  },
  {
   "cell_type": "code",
   "execution_count": 32,
   "metadata": {},
   "outputs": [
    {
     "name": "stdout",
     "output_type": "stream",
     "text": [
      "+--------------------+-------+\n",
      "|                Name|  Title|\n",
      "+--------------------+-------+\n",
      "|Braund, Mr. Owen ...|     Mr|\n",
      "|Cumings, Mrs. Joh...|    Mrs|\n",
      "|Heikkinen, Miss. ...|   Miss|\n",
      "|Futrelle, Mrs. Ja...|    Mrs|\n",
      "|Allen, Mr. Willia...|     Mr|\n",
      "|    Moran, Mr. James|     Mr|\n",
      "|McCarthy, Mr. Tim...|     Mr|\n",
      "|Palsson, Master. ...| Master|\n",
      "|Johnson, Mrs. Osc...|    Mrs|\n",
      "|Nasser, Mrs. Nich...|    Mrs|\n",
      "|Sandstrom, Miss. ...|   Miss|\n",
      "|Bonnell, Miss. El...|   Miss|\n",
      "|Saundercock, Mr. ...|     Mr|\n",
      "|Andersson, Mr. An...|     Mr|\n",
      "|Vestrom, Miss. Hu...|   Miss|\n",
      "|Hewlett, Mrs. (Ma...|    Mrs|\n",
      "|Rice, Master. Eugene| Master|\n",
      "|Williams, Mr. Cha...|     Mr|\n",
      "|Vander Planke, Mr...|    Mrs|\n",
      "|Masselmani, Mrs. ...|    Mrs|\n",
      "+--------------------+-------+\n",
      "only showing top 20 rows\n",
      "\n"
     ]
    }
   ],
   "source": [
    "df.withColumn('Title', extract_title_udf(f.col('Name'))).select('Name', 'Title').show()"
   ]
  }
 ],
 "metadata": {
  "kernelspec": {
   "display_name": "Python 3",
   "language": "python",
   "name": "python3"
  },
  "language_info": {
   "codemirror_mode": {
    "name": "ipython",
    "version": 3
   },
   "file_extension": ".py",
   "mimetype": "text/x-python",
   "name": "python",
   "nbconvert_exporter": "python",
   "pygments_lexer": "ipython3",
   "version": "3.7.4"
  },
  "widgets": {
   "application/vnd.jupyter.widget-state+json": {
    "state": {},
    "version_major": 2,
    "version_minor": 0
   }
  }
 },
 "nbformat": 4,
 "nbformat_minor": 4
}
