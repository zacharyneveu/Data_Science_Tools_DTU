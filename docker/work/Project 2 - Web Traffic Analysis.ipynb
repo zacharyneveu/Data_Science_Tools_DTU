{
 "cells": [
  {
   "cell_type": "markdown",
   "metadata": {},
   "source": [
    "# Project 2: Web Traffic Analysis\n",
    "**This is the second of three mandatory projects to be handed in as part of the assessment for the course 02807 Computational Tools for Data Science at Technical University of Denmark, autumn 2019.**\n",
    "\n",
    "#### Practical info\n",
    "- **The project is to be done in groups of at most 3 students**\n",
    "- **Each group has to hand in _one_ Jupyter notebook (this notebook) with their solution**\n",
    "- **The hand-in of the notebook is due 2019-11-10, 23:59 on DTU Inside**\n",
    "\n",
    "#### Your solution\n",
    "- **Your solution should be in Python**\n",
    "- **For each question you may use as many cells for your solution as you like**\n",
    "- **You should document your solution and explain the choices you've made (for example by using multiple cells and use Markdown to assist the reader of the notebook)**\n",
    "- **You should not remove the problem statements**\n",
    "- **Your notebook should be runnable, i.e., clicking [>>] in Jupyter should generate the result that you want to be assessed**\n",
    "- **You are not expected to use machine learning to solve any of the exercises**\n",
    "- **You will be assessed according to correctness and readability of your code, choice of solution, choice of tools and libraries, and documentation of your solution**"
   ]
  },
  {
   "cell_type": "markdown",
   "metadata": {},
   "source": [
    "## Introduction\n",
    "In this project your task is to analyze a stream of log entries. A log entry consists of an [IP address](https://en.wikipedia.org/wiki/IP_address) and a [domain name](https://en.wikipedia.org/wiki/Domain_name). For example, a log line may look as follows:\n",
    "\n",
    "`192.168.0.1 somedomain.dk`\n",
    "\n",
    "One log line is the result of the event that the domain name was visited by someone having the corresponding IP address. Your task is to analyze the traffic on a number of domains. Counting the number of unique IPs seen on a domain doesn't correspond to the exact number of unique visitors, but it is a good estimate.\n",
    "\n",
    "Specifically, you should answer the following questions from the stream of log entries.\n",
    "\n",
    "- How many unique IPs are there in the stream?\n",
    "- How many unique IPs are there for each domain?\n",
    "- How many times was IP X seen on domain Y? (for some X and Y provided at run time)\n",
    "\n",
    "**The answers to these questions can be approximate!**\n",
    "\n",
    "You should also try to answer one or more of the following, more advanced, questions. The answers to these should also be approximate.\n",
    "\n",
    "- How many unique IPs are there for the domains $d_1, d_2, \\ldots$?\n",
    "- How many times was IP X seen on domains $d_1, d_2, \\ldots$?\n",
    "- What are the X most frequent IPs in the stream?\n",
    "\n",
    "You should use algorithms and data structures that you've learned about in the lectures, and you should provide your own implementations of these.\n",
    "\n",
    "Furthermore, you are expected to:\n",
    "\n",
    "- Document the accuracy of your answers when using algorithms that give approximate answers\n",
    "- Argue why you are using certain parameters for your data structures\n",
    "\n",
    "This notebook is in three parts. In the first part you are given an example of how to read from the stream (which for the purpose of this project is a remote file). In the second part you should implement the algorithms and data structures that you intend to use, and in the last part you should use these for analyzing the stream."
   ]
  },
  {
   "cell_type": "markdown",
   "metadata": {},
   "source": [
    "## Reading the stream\n",
    "The following code reads a remote file line by line. It is wrapped in a generator to make it easier to extend. You may modify this if you want to, but your solution should remain parametrized, so that your notebook can be run without having to consume the entire file."
   ]
  },
  {
   "cell_type": "code",
   "execution_count": 102,
   "metadata": {},
   "outputs": [],
   "source": [
    "import mmh3\n",
    "from tqdm import tqdm_notebook as tqdm\n",
    "import numpy as np\n",
    "from scipy.stats import hmean \n",
    "import random"
   ]
  },
  {
   "cell_type": "code",
   "execution_count": 103,
   "metadata": {},
   "outputs": [],
   "source": [
    "url = 'https://files.dtu.dk/fss/public/link/public/stream/read/traffic?linkToken=3pLwj8eS8I_MkvCK&itemName=traffic'\n",
    "url2 = 'https://files.dtu.dk/fss/public/link/public/stream/read/traffic_2?linkToken=_DcyO-U3MjjuNzI-&itemName=traffic_2'"
   ]
  },
  {
   "cell_type": "code",
   "execution_count": 104,
   "metadata": {},
   "outputs": [],
   "source": [
    "import urllib\n",
    "\n",
    "def stream(n):\n",
    "    with urllib.request.urlopen(url2) as f:\n",
    "        for i,line in enumerate(f):\n",
    "            if i == n:\n",
    "                break\n",
    "                \n",
    "            element = line.rstrip().decode(\"utf-8\").split('\\t')\n",
    "            try:\n",
    "                yield element\n",
    "            except Exception as E:\n",
    "                print(E)\n"
   ]
  },
  {
   "cell_type": "code",
   "execution_count": 105,
   "metadata": {},
   "outputs": [],
   "source": [
    "STREAM_SIZE = 100\n",
    "web_traffic_stream = stream(STREAM_SIZE)"
   ]
  },
  {
   "cell_type": "markdown",
   "metadata": {},
   "source": [
    "# Data structures"
   ]
  },
  {
   "cell_type": "markdown",
   "metadata": {},
   "source": [
    "## CountMin Sketch"
   ]
  },
  {
   "cell_type": "code",
   "execution_count": 106,
   "metadata": {},
   "outputs": [],
   "source": [
    "class CountMin:\n",
    "    def __init__(self, w, d):\n",
    "        self.w = w\n",
    "        self.d = d\n",
    "        self.h = lambda x: [mmh3.hash(x, seed) % self.w for seed in range(self.d)]\n",
    "        self.M = np.zeros((self.d,self.w))\n",
    "    \n",
    "    def __call__(self, e):\n",
    "        h = self.h(e)\n",
    "        for i in range(self.d):\n",
    "            self.M[i,h[i]] += 1\n",
    "        \n",
    "    def query(self, e):\n",
    "        h = self.h(e)\n",
    "        return min([self.M[i,h[i]] for i in range(self.d)])\n",
    "    \n",
    "    def __repr__(self):\n",
    "        return f'Counts: {list(self.M).__repr__()}'\n",
    "    \n",
    "    def getBins(self):\n",
    "        return self.M"
   ]
  },
  {
   "cell_type": "markdown",
   "metadata": {},
   "source": [
    "## HyperLogLog"
   ]
  },
  {
   "cell_type": "code",
   "execution_count": 107,
   "metadata": {},
   "outputs": [],
   "source": [
    "class HLL:\n",
    "    def __init__(self, m):\n",
    "        assert (m & (m-1)) == 0, \"m must be a power of 2\"\n",
    "        if m < 128:\n",
    "            alphas = {16: 0.673, 32: 0.697, 64: 0.709}\n",
    "            self.alpha = alphas[m]\n",
    "        else:\n",
    "            self.alpha = 0.7213 / (1+1.079/m)\n",
    "        self.h = lambda x: mmh3.hash64(x)[0]\n",
    "        self.M = np.zeros((m,1))\n",
    "        self.split = int(np.log2(m))\n",
    "        self.m = m\n",
    "        \n",
    "    def __call__(self, e):\n",
    "        # Hash binary representation reversed because all ips were yielding\n",
    "        binh = bin(self.h(e)).replace('b', '').replace('-','')[::-1]\n",
    "        hp = binh[:self.split]\n",
    "        lp = binh[self.split:]\n",
    "        j = int(hp, base=2) # create int from binary (base 2)\n",
    "        k = lp.index('1') + 1\n",
    "        #if k > self.M[j]:\n",
    "            #print(lp)\n",
    "        self.M[j] = max(self.M[j],k)\n",
    "        \n",
    "    def query(self):\n",
    "        # Try adding epsilon to avoid dividing by 0\n",
    "        mean = hmean(pow(2,self.M))[0]\n",
    "        return int(round(self.m * mean * self.alpha))\n",
    "    \n",
    "    def __repr__(self):\n",
    "        return f'estimate: {self.query()} \\n counters: {self.M}'"
   ]
  },
  {
   "cell_type": "markdown",
   "metadata": {},
   "source": [
    "# Analysis"
   ]
  },
  {
   "cell_type": "code",
   "execution_count": 108,
   "metadata": {},
   "outputs": [],
   "source": [
    "n_stream = int(1e6)"
   ]
  },
  {
   "cell_type": "markdown",
   "metadata": {},
   "source": [
    "- How many unique IPs are there in the stream?"
   ]
  },
  {
   "cell_type": "code",
   "execution_count": 109,
   "metadata": {},
   "outputs": [
    {
     "data": {
      "application/vnd.jupyter.widget-view+json": {
       "model_id": "c193ba0034654777a591d6f1d90ff7ff",
       "version_major": 2,
       "version_minor": 0
      },
      "text/plain": [
       "HBox(children=(IntProgress(value=0, max=1000000), HTML(value='')))"
      ]
     },
     "metadata": {},
     "output_type": "display_data"
    },
    {
     "name": "stdout",
     "output_type": "stream",
     "text": [
      "\n"
     ]
    },
    {
     "data": {
      "text/plain": [
       "'840745/1000000 (84.07%) unique IP addresses'"
      ]
     },
     "execution_count": 109,
     "metadata": {},
     "output_type": "execute_result"
    }
   ],
   "source": [
    "ip_counter = HLL(256)\n",
    "for entry in tqdm(stream(n_stream), total=n_stream):\n",
    "    ip_counter(entry[0])\n",
    "f'{ip_counter.query()}/{n_stream} ({round(ip_counter.query()/n_stream*100, 2)}%) unique IP addresses'"
   ]
  },
  {
   "cell_type": "code",
   "execution_count": 110,
   "metadata": {},
   "outputs": [
    {
     "data": {
      "application/vnd.jupyter.widget-view+json": {
       "model_id": "4424bb56c0cb4b109d4d804035af2ed1",
       "version_major": 2,
       "version_minor": 0
      },
      "text/plain": [
       "HBox(children=(IntProgress(value=0, max=1000000), HTML(value='')))"
      ]
     },
     "metadata": {},
     "output_type": "display_data"
    },
    {
     "name": "stdout",
     "output_type": "stream",
     "text": [
      "\n"
     ]
    },
    {
     "data": {
      "text/plain": [
       "'ground truth: 97.17'"
      ]
     },
     "execution_count": 110,
     "metadata": {},
     "output_type": "execute_result"
    }
   ],
   "source": [
    "ips = [x[0] for x in tqdm(stream(n_stream), total=n_stream)]\n",
    "gt_unique = len(set(ips))\n",
    "f'ground truth: {round(gt_unique/n_stream*100, 2)}'"
   ]
  },
  {
   "cell_type": "markdown",
   "metadata": {},
   "source": [
    "The ground truth and approximate values vary by about 13%. When the cardinality of the stream is so close to the total size of the stream, there is bound to be a fairly large margin of error like this."
   ]
  },
  {
   "cell_type": "markdown",
   "metadata": {},
   "source": [
    "- How many unique IPs are there for each domain?"
   ]
  },
  {
   "cell_type": "markdown",
   "metadata": {},
   "source": [
    "### Solution\n",
    "For this dataset, IP addresses are not frequently repeated. With this in mind, a simple first approach for this queston would be to count the unique website visits to each site using `CountMin` and use this as a proxy for the amount of unique visitors. This approach does not take into account however that some websites may have lots of repeated visitors while others may have no repeated visitors. A potentially more useful solution to this question is to keep a dictionary of unique websites and count unique visitors to each site. Theoretically, this could use an enormous amount of space if the number of unique websites was large. In this dataset, it is quite small at 9 websites, so this approach is quite possible. Keeping a dictionary of `HLL` counters, it is possible to quickly estimate the total number of unique IPs for each website. In theory, the number of unique IP addresses should be less than the number of website visits. Interestingly, the `CountMin` estimate of the number of visits to `Wikipedia.org` is actually lower than the `HyperLogLog` estimate of the number of unique visitors in this case."
   ]
  },
  {
   "cell_type": "markdown",
   "metadata": {},
   "source": [
    "Because the number of unique IPs is so high compared to the number of visits, CountMin cannot compress the data very well, to save at least a little space, values of `w=n_stream//1000` and `d=10` were chosen. For the HyperLogLog approach, a 32 bit hash was used, as this provided adequate results"
   ]
  },
  {
   "cell_type": "code",
   "execution_count": 120,
   "metadata": {},
   "outputs": [
    {
     "data": {
      "application/vnd.jupyter.widget-view+json": {
       "model_id": "aa3179dd542d437bb549a4834b463c04",
       "version_major": 2,
       "version_minor": 0
      },
      "text/plain": [
       "HBox(children=(IntProgress(value=0, max=1000000), HTML(value='')))"
      ]
     },
     "metadata": {},
     "output_type": "display_data"
    }
   ],
   "source": [
    "website_visits = CountMin(n_stream//int(1e3), 10)\n",
    "for entry in tqdm(stream(n_stream), total=n_stream):\n",
    "    website_visits(entry[1])"
   ]
  },
  {
   "cell_type": "code",
   "execution_count": 157,
   "metadata": {},
   "outputs": [
    {
     "data": {
      "text/plain": [
       "522404.0"
      ]
     },
     "execution_count": 157,
     "metadata": {},
     "output_type": "execute_result"
    }
   ],
   "source": [
    "website_visits.query('wikipedia.org')"
   ]
  },
  {
   "cell_type": "code",
   "execution_count": 113,
   "metadata": {},
   "outputs": [
    {
     "data": {
      "application/vnd.jupyter.widget-view+json": {
       "model_id": "638c2069d5bd44f18272803fc6fc8e87",
       "version_major": 2,
       "version_minor": 0
      },
      "text/plain": [
       "HBox(children=(IntProgress(value=0, max=1000000), HTML(value='')))"
      ]
     },
     "metadata": {},
     "output_type": "display_data"
    },
    {
     "name": "stdout",
     "output_type": "stream",
     "text": [
      "\n"
     ]
    }
   ],
   "source": [
    "ip_counters = {}\n",
    "for entry in tqdm(stream(n_stream), total=n_stream):\n",
    "    if entry[1] not in ip_counters.keys():\n",
    "        ip_counters[entry[1]] = HLL(32)\n",
    "        \n",
    "    ip_counters[entry[1]](entry[0])"
   ]
  },
  {
   "cell_type": "code",
   "execution_count": 114,
   "metadata": {},
   "outputs": [
    {
     "data": {
      "text/plain": [
       "544487"
      ]
     },
     "execution_count": 114,
     "metadata": {},
     "output_type": "execute_result"
    }
   ],
   "source": [
    "ip_counters['wikipedia.org'].query()"
   ]
  },
  {
   "cell_type": "markdown",
   "metadata": {},
   "source": [
    "Ground Truth:"
   ]
  },
  {
   "cell_type": "code",
   "execution_count": 117,
   "metadata": {},
   "outputs": [
    {
     "data": {
      "application/vnd.jupyter.widget-view+json": {
       "model_id": "5651ec692c264dc6b94cbd2a9fb42bb3",
       "version_major": 2,
       "version_minor": 0
      },
      "text/plain": [
       "HBox(children=(IntProgress(value=0, max=1000000), HTML(value='')))"
      ]
     },
     "metadata": {},
     "output_type": "display_data"
    },
    {
     "data": {
      "text/plain": [
       "510191"
      ]
     },
     "execution_count": 117,
     "metadata": {},
     "output_type": "execute_result"
    }
   ],
   "source": [
    "wiki_ips = {}\n",
    "for entry in tqdm(stream(n_stream), total=n_stream):\n",
    "    if entry[1] == 'wikipedia.org':\n",
    "        try:\n",
    "            wiki_ips[entry[0]] += 1\n",
    "        except:\n",
    "            wiki_ips[entry[0]] = 1\n",
    "            \n",
    "len(wiki_ips.keys())"
   ]
  },
  {
   "cell_type": "markdown",
   "metadata": {},
   "source": [
    "The HyperLogLog approach appears to be fairly accurate, differing from the ground truth by about 30,000/1,000,000, or ~3%."
   ]
  },
  {
   "cell_type": "markdown",
   "metadata": {},
   "source": [
    "- How many times was IP X seen on domain Y? (for some X and Y provided at run time)"
   ]
  },
  {
   "cell_type": "markdown",
   "metadata": {},
   "source": [
    "### Answer\n",
    "Use `CountMin` and hash both ip and domain values. This will estimate the number of occurrences of each domain/ip pair."
   ]
  },
  {
   "cell_type": "code",
   "execution_count": 15,
   "metadata": {},
   "outputs": [
    {
     "data": {
      "application/vnd.jupyter.widget-view+json": {
       "model_id": "c91c753d34334265b587303234b86a00",
       "version_major": 2,
       "version_minor": 0
      },
      "text/plain": [
       "HBox(children=(IntProgress(value=0, max=100000), HTML(value='')))"
      ]
     },
     "metadata": {},
     "output_type": "display_data"
    },
    {
     "name": "stdout",
     "output_type": "stream",
     "text": [
      "\n"
     ]
    }
   ],
   "source": [
    "ipx_domainy = CountMin(n_stream//int(1e1), 100)\n",
    "for entry in tqdm(stream(n_stream), total=n_stream):\n",
    "    ipx_domainy(\" \".join(entry))"
   ]
  },
  {
   "cell_type": "code",
   "execution_count": 133,
   "metadata": {},
   "outputs": [
    {
     "data": {
      "text/plain": [
       "'IP 115.170.85.106 appears 5.0 times on pandas.pydata.org'"
      ]
     },
     "execution_count": 133,
     "metadata": {},
     "output_type": "execute_result"
    }
   ],
   "source": [
    "ex = random.choice(list(stream(100)))\n",
    "ex_str = \" \".join(ex)\n",
    "count_ex = ipx_domainy.query(ex_str)\n",
    "f'IP {ex[0]} appears {count_ex} times on {ex[1]}'"
   ]
  },
  {
   "cell_type": "markdown",
   "metadata": {},
   "source": [
    "Ground Truth"
   ]
  },
  {
   "cell_type": "code",
   "execution_count": 134,
   "metadata": {},
   "outputs": [
    {
     "data": {
      "application/vnd.jupyter.widget-view+json": {
       "model_id": "be22456720b14f4f943ac543c7809c68",
       "version_major": 2,
       "version_minor": 0
      },
      "text/plain": [
       "HBox(children=(IntProgress(value=0, max=1000000), HTML(value='')))"
      ]
     },
     "metadata": {},
     "output_type": "display_data"
    },
    {
     "data": {
      "text/plain": [
       "1"
      ]
     },
     "execution_count": 134,
     "metadata": {},
     "output_type": "execute_result"
    }
   ],
   "source": [
    "count = sum([1 for i in tqdm(stream(n_stream), total=n_stream) if i[0]==ex[0] and i[1]==ex[1]])\n",
    "count"
   ]
  },
  {
   "cell_type": "markdown",
   "metadata": {},
   "source": [
    "It is quite difficult to achieve good accuracy on this problem because the number of unique domain/ip pairs is so close to the total number of visits. Using `w=n_stream/10` and `d=100` resulted in an estimate of between 3-5 times for a random IP address from the dataset, while the ground truth is almost always 1. If the number of people repeatedly visiting websites went up, our accuracy would go up as well."
   ]
  },
  {
   "cell_type": "markdown",
   "metadata": {},
   "source": [
    "- How many unique IPs are there for the domains $d_1, d_2, \\ldots$?"
   ]
  },
  {
   "cell_type": "code",
   "execution_count": null,
   "metadata": {},
   "outputs": [],
   "source": []
  },
  {
   "cell_type": "markdown",
   "metadata": {},
   "source": [
    "- How many times was IP X seen on domains $d_1, d_2, \\ldots$?"
   ]
  },
  {
   "cell_type": "markdown",
   "metadata": {},
   "source": [
    "Solution:  \n",
    "Use a dictionary with domains as keys and CountMin objects as values. Use each countmin object to estimate the number of visits for each IP address on the given domain."
   ]
  },
  {
   "cell_type": "code",
   "execution_count": 18,
   "metadata": {},
   "outputs": [
    {
     "data": {
      "application/vnd.jupyter.widget-view+json": {
       "model_id": "9418247d008d4920b17802eb43ae6f40",
       "version_major": 2,
       "version_minor": 0
      },
      "text/plain": [
       "HBox(children=(IntProgress(value=0, max=100000), HTML(value='')))"
      ]
     },
     "metadata": {},
     "output_type": "display_data"
    },
    {
     "name": "stdout",
     "output_type": "stream",
     "text": [
      "\n"
     ]
    }
   ],
   "source": [
    "ip_count_per_website = {}\n",
    "for entry in tqdm(stream(n_stream), total=n_stream):\n",
    "    if entry[1] not in ip_count_per_website.keys():\n",
    "        ip_count_per_website[entry[1]] = CountMin(n_stream//100, 100)\n",
    "        \n",
    "    ip_count_per_website[entry[1]](entry[0])"
   ]
  },
  {
   "cell_type": "markdown",
   "metadata": {},
   "source": [
    "Check how many times the first IP address on the stream occurs across all websites except wikipedia"
   ]
  },
  {
   "cell_type": "code",
   "execution_count": 135,
   "metadata": {},
   "outputs": [
    {
     "name": "stdout",
     "output_type": "stream",
     "text": [
      "IP 115.170.85.106 occurred 19.0 times across websites databricks.com, spark.apache.org, dtu.dk, pandas.pydata.org, github.com, scala-lang.org, google.com, python.org, datarobot.com\n"
     ]
    }
   ],
   "source": [
    "websites_tocheck = set(ip_count_per_website.keys()) - {'wikipedia.org'}\n",
    "occurrences = sum([ip_count_per_website[website].query(ex[0]) for website in websites_tocheck])\n",
    "\n",
    "print(f'IP {ex[0]} occurred {occurrences} times across websites {\", \".join(websites_tocheck)}')"
   ]
  },
  {
   "cell_type": "markdown",
   "metadata": {},
   "source": [
    "Ground Truth"
   ]
  },
  {
   "cell_type": "code",
   "execution_count": 136,
   "metadata": {},
   "outputs": [
    {
     "data": {
      "application/vnd.jupyter.widget-view+json": {
       "model_id": "63e43ce8ad1b42f793bec9ab91e9817e",
       "version_major": 2,
       "version_minor": 0
      },
      "text/plain": [
       "HBox(children=(IntProgress(value=0, max=1000000), HTML(value='')))"
      ]
     },
     "metadata": {},
     "output_type": "display_data"
    },
    {
     "data": {
      "text/plain": [
       "1"
      ]
     },
     "execution_count": 136,
     "metadata": {},
     "output_type": "execute_result"
    }
   ],
   "source": [
    "count = sum([1 for i in tqdm(stream(n_stream), total=n_stream) if i[0]==ex[0] and i[1] in websites_tocheck])\n",
    "count"
   ]
  },
  {
   "cell_type": "markdown",
   "metadata": {},
   "source": [
    "Once again, the accuracy is hindered by the low number of times a given IP appears in the stream. This is compounded by the fact that CountMin is a biased estimator, so summing across many CountMin objects the errors add together rather than cancel out. Estimates appear to be off by as much as 20 times for this question."
   ]
  },
  {
   "cell_type": "markdown",
   "metadata": {},
   "source": [
    "- What are the X most frequent IPs in the stream?"
   ]
  },
  {
   "cell_type": "markdown",
   "metadata": {},
   "source": [
    "Solution: Use countmin, and when item is added, query it too and get approximate number of occurences. Keep a sorted heap of k IP addresses and their frequencies. If the approximate count for the new value is greater than the min value of the heap, pop one and insert the new item. If the new item already exists in the heap, increment it's value and continue."
   ]
  },
  {
   "cell_type": "code",
   "execution_count": 137,
   "metadata": {},
   "outputs": [],
   "source": [
    "from heapq import *"
   ]
  },
  {
   "cell_type": "code",
   "execution_count": 138,
   "metadata": {},
   "outputs": [],
   "source": [
    "class TopK:\n",
    "    def __init__(self, w, d, k):\n",
    "        self.w = w\n",
    "        self.d = d\n",
    "        self.h = lambda x: [mmh3.hash(x, seed) % self.w for seed in range(self.d)]\n",
    "        self.M = np.zeros((self.d,self.w))\n",
    "        self.heap = [(0, '000.000.000.000')]\n",
    "        self.k = k\n",
    "    \n",
    "    def __call__(self, e):\n",
    "        h = self.h(e)\n",
    "        for i in range(self.d):\n",
    "            self.M[i,h[i]] += 1\n",
    "            \n",
    "        estimate = self.query(e)\n",
    "        \n",
    "        try:        \n",
    "            # if element already in list, update existing entry\n",
    "            if e in list(zip(*self.heap))[1]:\n",
    "                idx = list(zip(*self.heap))[1].index(e)\n",
    "                self.heap[idx] = (estimate, e)\n",
    "            else:\n",
    "                temp = heappop(self.heap)\n",
    "\n",
    "                if estimate > temp[0]:\n",
    "                    heappush(self.heap, (estimate, e))\n",
    "\n",
    "                if len(self.heap) < self.k:\n",
    "                    heappush(self.heap, temp)\n",
    "        except:\n",
    "            print(self.heap)\n",
    "            raise()\n",
    "        \n",
    "    def query(self, e):\n",
    "        h = self.h(e)\n",
    "        return min([self.M[i,h[i]] for i in range(self.d)])\n",
    "    \n",
    "    def topk(self):\n",
    "        return self.heap\n",
    "    \n",
    "    def __repr__(self):\n",
    "        return f'Counts: {list(self.M).__repr__()}'\n",
    "    \n",
    "    def getBins(self):\n",
    "        return self.M"
   ]
  },
  {
   "cell_type": "markdown",
   "metadata": {},
   "source": [
    "Because the number of unique IPs is so close to the number of total visits, significant compression is not possible. For this problem `w=n_stream/1000` and `d=100` were chosen. `k=30` was chosen arbitrarily as a reasonably small number that would show some outlier IPs as well as some with more normal counts."
   ]
  },
  {
   "cell_type": "code",
   "execution_count": 160,
   "metadata": {},
   "outputs": [
    {
     "data": {
      "application/vnd.jupyter.widget-view+json": {
       "model_id": "1349046e9f144fd8a001b91cf0e6805b",
       "version_major": 2,
       "version_minor": 0
      },
      "text/plain": [
       "HBox(children=(IntProgress(value=0, max=1000000), HTML(value='')))"
      ]
     },
     "metadata": {},
     "output_type": "display_data"
    },
    {
     "data": {
      "text/plain": [
       "[(37.0, '132.60.146.100'),\n",
       " (39.0, '31.0.122.149'),\n",
       " (943.0, '164.194.109.120'),\n",
       " (943.0, '53.30.199.126'),\n",
       " (943.0, '167.157.107.246'),\n",
       " (943.0, '59.199.147.146'),\n",
       " (943.0, '88.210.234.107'),\n",
       " (944.0, '128.130.122.223'),\n",
       " (944.0, '185.126.73.174'),\n",
       " (944.0, '150.111.145.210'),\n",
       " (944.0, '56.29.200.127'),\n",
       " (944.0, '199.221.154.131'),\n",
       " (945.0, '1.186.108.218'),\n",
       " (946.0, '167.102.105.189'),\n",
       " (947.0, '57.27.198.129'),\n",
       " (947.0, '241.51.137.58'),\n",
       " (947.0, '148.229.103.163'),\n",
       " (948.0, '53.27.199.126'),\n",
       " (949.0, '55.25.199.130'),\n",
       " (950.0, '217.83.164.127'),\n",
       " (950.0, '54.31.200.128'),\n",
       " (950.0, '53.27.199.127'),\n",
       " (951.0, '54.27.199.128'),\n",
       " (951.0, '56.28.199.128'),\n",
       " (953.0, '58.31.200.128'),\n",
       " (954.0, '56.31.200.127'),\n",
       " (958.0, '53.29.200.127'),\n",
       " (1025.0, '204.141.72.187'),\n",
       " (1103.0, '108.41.112.108'),\n",
       " (1132.0, '72.187.84.158')]"
      ]
     },
     "execution_count": 160,
     "metadata": {},
     "output_type": "execute_result"
    }
   ],
   "source": [
    "top_30_ip_counter = TopK(n_stream//1000, 100, 30)\n",
    "for entry in tqdm(stream(n_stream), total=n_stream):\n",
    "    top_30_ip_counter(entry[0])\n",
    "    \n",
    "top_30_ips = top_30_ip_counter.topk()\n",
    "sorted(top_30_ips, key=lambda k: int(k[0]))"
   ]
  },
  {
   "cell_type": "code",
   "execution_count": 148,
   "metadata": {},
   "outputs": [
    {
     "data": {
      "application/vnd.jupyter.widget-view+json": {
       "model_id": "36ab78d2b9974e4faa45714f2686e9f4",
       "version_major": 2,
       "version_minor": 0
      },
      "text/plain": [
       "HBox(children=(IntProgress(value=0, max=1000000), HTML(value='')))"
      ]
     },
     "metadata": {},
     "output_type": "display_data"
    }
   ],
   "source": [
    "counters = {}\n",
    "for entry in tqdm(stream(n_stream), total=n_stream):\n",
    "    try:\n",
    "        counters[entry[0]] += 1\n",
    "    except:\n",
    "        counters[entry[0]] = 1"
   ]
  },
  {
   "cell_type": "code",
   "execution_count": 158,
   "metadata": {},
   "outputs": [],
   "source": [
    "top_30_gt = zip(sorted(counters.keys(), key=lambda k: counters[k], reverse=True)[:30], sorted(counters.values(), reverse=True)[:30])"
   ]
  },
  {
   "cell_type": "code",
   "execution_count": 159,
   "metadata": {},
   "outputs": [
    {
     "data": {
      "text/plain": [
       "[('72.187.84.158', 222),\n",
       " ('108.41.112.108', 199),\n",
       " ('204.141.72.187', 139),\n",
       " ('53.30.199.128', 34),\n",
       " ('55.29.199.128', 34),\n",
       " ('56.29.200.127', 33),\n",
       " ('55.31.199.127', 32),\n",
       " ('54.30.199.128', 31),\n",
       " ('53.32.200.127', 30),\n",
       " ('53.29.198.127', 30),\n",
       " ('56.30.200.127', 30),\n",
       " ('55.30.198.128', 28),\n",
       " ('54.27.199.128', 28),\n",
       " ('54.31.200.128', 28),\n",
       " ('56.29.199.129', 27),\n",
       " ('56.30.200.128', 27),\n",
       " ('57.30.199.128', 27),\n",
       " ('54.32.199.127', 27),\n",
       " ('53.30.199.129', 27),\n",
       " ('55.29.200.128', 27),\n",
       " ('55.29.201.129', 27),\n",
       " ('55.28.198.128', 27),\n",
       " ('56.31.200.127', 27),\n",
       " ('54.30.200.128', 27),\n",
       " ('53.29.200.128', 26),\n",
       " ('53.28.199.127', 26),\n",
       " ('53.30.200.128', 26),\n",
       " ('56.28.199.128', 26),\n",
       " ('55.29.199.127', 26),\n",
       " ('53.29.200.127', 26)]"
      ]
     },
     "execution_count": 159,
     "metadata": {},
     "output_type": "execute_result"
    }
   ],
   "source": [
    "list(top_30_gt)"
   ]
  },
  {
   "cell_type": "markdown",
   "metadata": {},
   "source": [
    "The results of this estimator are quite good, especially for the most commmon IP addresses. While the countmin sketch saturates and includes errors, these errors are approximately uniformly distributed. The top 3 most common IP addresses are outliers in terms of number of occurrences, and these all show up in the same order as the ground truth. Furthermore, while the exact count of other IP addresses in the top 30 isn't correct, or even close, many of the top 30 true IP addresses appear in the estimate. In this problem, as long as hash collisions are uniformly distributed, they do not effect the ability to detect outlier data such as spamming IP addresses."
   ]
  },
  {
   "cell_type": "code",
   "execution_count": null,
   "metadata": {},
   "outputs": [],
   "source": []
  }
 ],
 "metadata": {
  "kernelspec": {
   "display_name": "Python 3",
   "language": "python",
   "name": "python3"
  },
  "language_info": {
   "codemirror_mode": {
    "name": "ipython",
    "version": 3
   },
   "file_extension": ".py",
   "mimetype": "text/x-python",
   "name": "python",
   "nbconvert_exporter": "python",
   "pygments_lexer": "ipython3",
   "version": "3.7.1"
  },
  "widgets": {
   "application/vnd.jupyter.widget-state+json": {
    "state": {
     "01205e71b2fb4ce5b5dc1cc05c72cbed": {
      "model_module": "@jupyter-widgets/controls",
      "model_module_version": "1.5.0",
      "model_name": "HTMLModel",
      "state": {
       "layout": "IPY_MODEL_dab2eaed16fe4bbc94c114fe79ee92d1",
       "style": "IPY_MODEL_f9ee7a9add4049eebd6a75577f934d23",
       "value": "  7% 7126/100000 [00:00&lt;00:17, 5428.17it/s]"
      }
     },
     "0180fc5a8af049f88368088ee86f1c92": {
      "model_module": "@jupyter-widgets/base",
      "model_module_version": "1.2.0",
      "model_name": "LayoutModel",
      "state": {}
     },
     "0181eb4395244d3ca3cb506164fa144c": {
      "model_module": "@jupyter-widgets/controls",
      "model_module_version": "1.5.0",
      "model_name": "HTMLModel",
      "state": {
       "layout": "IPY_MODEL_fac89d0de50542f98207306889c8a494",
       "style": "IPY_MODEL_eeb87b9567124198a3ba8401d7e537e8",
       "value": "100% 1000000/1000000 [00:04&lt;00:00, 200184.97it/s]"
      }
     },
     "02358ba74dc74a9a8db3df19d1470e9d": {
      "model_module": "@jupyter-widgets/base",
      "model_module_version": "1.2.0",
      "model_name": "LayoutModel",
      "state": {}
     },
     "024dbd24d1bb4059869e4df9be999c09": {
      "model_module": "@jupyter-widgets/controls",
      "model_module_version": "1.5.0",
      "model_name": "HBoxModel",
      "state": {
       "children": [
        "IPY_MODEL_60e15952330f40c2b33e9ce6ef3f21d7",
        "IPY_MODEL_ce9928f8c87d427eaa5886c986997b31"
       ],
       "layout": "IPY_MODEL_04bbbd6eb982418f9c538fbe0e393d4e"
      }
     },
     "0262680ed5ad40128711dceeaeefbf4a": {
      "model_module": "@jupyter-widgets/controls",
      "model_module_version": "1.5.0",
      "model_name": "DescriptionStyleModel",
      "state": {
       "description_width": ""
      }
     },
     "02ef6461e50c4ad495aaaa2f07e2c377": {
      "model_module": "@jupyter-widgets/base",
      "model_module_version": "1.2.0",
      "model_name": "LayoutModel",
      "state": {}
     },
     "03cfa55c15484fd6b85d67e22e9bcd3c": {
      "model_module": "@jupyter-widgets/controls",
      "model_module_version": "1.5.0",
      "model_name": "IntProgressModel",
      "state": {
       "bar_style": "success",
       "layout": "IPY_MODEL_5da503c31e2140938854cf3a1b3a4892",
       "max": 1000000,
       "style": "IPY_MODEL_17b8f2343aed4aa09fe8a13ffa51b0dc",
       "value": 1000000
      }
     },
     "0477fe8392b541eaa384da968971fc62": {
      "model_module": "@jupyter-widgets/controls",
      "model_module_version": "1.5.0",
      "model_name": "HTMLModel",
      "state": {
       "layout": "IPY_MODEL_e6dcee07362d4feaad29392d568a1f70",
       "style": "IPY_MODEL_f1d3a1bbd3ec41feb261d33077b8d0d7",
       "value": " 29% 28652/100000 [00:04&lt;00:13, 5391.83it/s]"
      }
     },
     "04bbbd6eb982418f9c538fbe0e393d4e": {
      "model_module": "@jupyter-widgets/base",
      "model_module_version": "1.2.0",
      "model_name": "LayoutModel",
      "state": {}
     },
     "04bf2294410a41299970a30b777a9317": {
      "model_module": "@jupyter-widgets/base",
      "model_module_version": "1.2.0",
      "model_name": "LayoutModel",
      "state": {}
     },
     "04f1f2c3e30f4f198a958deea8218034": {
      "model_module": "@jupyter-widgets/controls",
      "model_module_version": "1.5.0",
      "model_name": "ProgressStyleModel",
      "state": {
       "description_width": ""
      }
     },
     "058275f740504ebd9d40e483824050c5": {
      "model_module": "@jupyter-widgets/base",
      "model_module_version": "1.2.0",
      "model_name": "LayoutModel",
      "state": {}
     },
     "06e8e1f7e8094015be2dd0e861df5f03": {
      "model_module": "@jupyter-widgets/base",
      "model_module_version": "1.2.0",
      "model_name": "LayoutModel",
      "state": {}
     },
     "07178c4f74d2477a940ccd619e00cbe4": {
      "model_module": "@jupyter-widgets/base",
      "model_module_version": "1.2.0",
      "model_name": "LayoutModel",
      "state": {}
     },
     "0725e6c01ee349f1bf855d8a5ee940b8": {
      "model_module": "@jupyter-widgets/base",
      "model_module_version": "1.2.0",
      "model_name": "LayoutModel",
      "state": {}
     },
     "0736b3d1824f49b3a1927bbe754a3be9": {
      "model_module": "@jupyter-widgets/controls",
      "model_module_version": "1.5.0",
      "model_name": "HTMLModel",
      "state": {
       "layout": "IPY_MODEL_86c62bf945974aef9d27a95c72e74524",
       "style": "IPY_MODEL_2975b61bbd4740f09770ba25254e1c81",
       "value": "  7% 6917/100000 [00:00&lt;09:21, 165.68it/s]"
      }
     },
     "08c16bab826d4bfb8a8992b73e385254": {
      "model_module": "@jupyter-widgets/base",
      "model_module_version": "1.2.0",
      "model_name": "LayoutModel",
      "state": {}
     },
     "0bc34cf8d3ea4b6db3ba79706336d7e6": {
      "model_module": "@jupyter-widgets/controls",
      "model_module_version": "1.5.0",
      "model_name": "ProgressStyleModel",
      "state": {
       "description_width": ""
      }
     },
     "0bc6577cf373492fa5293386c66d58f9": {
      "model_module": "@jupyter-widgets/controls",
      "model_module_version": "1.5.0",
      "model_name": "HTMLModel",
      "state": {
       "layout": "IPY_MODEL_c6fdb3ee55cd402d964fb08d7b6de207",
       "style": "IPY_MODEL_a27b34e1c5eb47ea9aec29a04d8738ee",
       "value": "  0% 0/100000 [00:00&lt;?, ?it/s]"
      }
     },
     "0c29d4f9b9d1498fb2dd395a3a07324d": {
      "model_module": "@jupyter-widgets/base",
      "model_module_version": "1.2.0",
      "model_name": "LayoutModel",
      "state": {}
     },
     "0ca670aba6a54573b8dfbec4e3c72143": {
      "model_module": "@jupyter-widgets/controls",
      "model_module_version": "1.5.0",
      "model_name": "IntProgressModel",
      "state": {
       "bar_style": "success",
       "layout": "IPY_MODEL_5b1282e5f81b462d921f574c9d648ba2",
       "max": 100000,
       "style": "IPY_MODEL_1ca23d3d23b94d6692fe0a2e0157c51d",
       "value": 100000
      }
     },
     "0de5a3fe3ac1409da1115f00e213b5a4": {
      "model_module": "@jupyter-widgets/controls",
      "model_module_version": "1.5.0",
      "model_name": "HBoxModel",
      "state": {
       "children": [
        "IPY_MODEL_dcfa6944012e4659943ed86765661c4b",
        "IPY_MODEL_4ad18d4471f243a5ae98c16c57eb306b"
       ],
       "layout": "IPY_MODEL_5facf3b0734944e991be6a7eacbfad99"
      }
     },
     "0eb326af3bae4c669350ef5ab2781f82": {
      "model_module": "@jupyter-widgets/base",
      "model_module_version": "1.2.0",
      "model_name": "LayoutModel",
      "state": {}
     },
     "102c1217415b42c5852104df970e2d13": {
      "model_module": "@jupyter-widgets/controls",
      "model_module_version": "1.5.0",
      "model_name": "DescriptionStyleModel",
      "state": {
       "description_width": ""
      }
     },
     "1349046e9f144fd8a001b91cf0e6805b": {
      "model_module": "@jupyter-widgets/controls",
      "model_module_version": "1.5.0",
      "model_name": "HBoxModel",
      "state": {
       "children": [
        "IPY_MODEL_c66004a2168747a793f64bbf359e81e9",
        "IPY_MODEL_9718ec93884c4ef5830a842aaa8cb9fc"
       ],
       "layout": "IPY_MODEL_aa701df68340408c8bb26eb2a8e15600"
      }
     },
     "1383009c49a94f0e825c637b59729138": {
      "model_module": "@jupyter-widgets/base",
      "model_module_version": "1.2.0",
      "model_name": "LayoutModel",
      "state": {}
     },
     "13abae1b9ff14e91bcc80dac400b1f7f": {
      "model_module": "@jupyter-widgets/controls",
      "model_module_version": "1.5.0",
      "model_name": "IntProgressModel",
      "state": {
       "bar_style": "danger",
       "layout": "IPY_MODEL_c732513e850a401b83ba8ca8e4d4e936",
       "max": 1000000,
       "style": "IPY_MODEL_97cbcaee96ad4085ab7039dd10ab397c"
      }
     },
     "13c3c91c593f4306be2a0c0894898512": {
      "model_module": "@jupyter-widgets/controls",
      "model_module_version": "1.5.0",
      "model_name": "DescriptionStyleModel",
      "state": {
       "description_width": ""
      }
     },
     "13c6fa24a2f74164a2d25f2fc442a2d6": {
      "model_module": "@jupyter-widgets/controls",
      "model_module_version": "1.5.0",
      "model_name": "IntProgressModel",
      "state": {
       "bar_style": "success",
       "layout": "IPY_MODEL_f9a523db2fa8403891e4e0ee5ae1c84c",
       "max": 100000,
       "style": "IPY_MODEL_85e8aff3d6b6499b9f1e9e566f8d4cca",
       "value": 100000
      }
     },
     "13f4f80116ee41318c926bc6b6162b38": {
      "model_module": "@jupyter-widgets/base",
      "model_module_version": "1.2.0",
      "model_name": "LayoutModel",
      "state": {}
     },
     "14d1069246a4486cb365abb5749f957b": {
      "model_module": "@jupyter-widgets/base",
      "model_module_version": "1.2.0",
      "model_name": "LayoutModel",
      "state": {}
     },
     "14db082983ce46b89799dbd37fc5e9a1": {
      "model_module": "@jupyter-widgets/controls",
      "model_module_version": "1.5.0",
      "model_name": "HTMLModel",
      "state": {
       "layout": "IPY_MODEL_920149a1f1694b3ea82c5ba5bbdfd7b8",
       "style": "IPY_MODEL_81513233c174488890b96b000818529d",
       "value": "100% 100000/100000 [00:00&lt;00:00, 161294.14it/s]"
      }
     },
     "154deb4ec4fa4cc4ab6fc49d2632c009": {
      "model_module": "@jupyter-widgets/controls",
      "model_module_version": "1.5.0",
      "model_name": "ProgressStyleModel",
      "state": {
       "description_width": ""
      }
     },
     "15ebd7cb4b5644deac51f43ba2767910": {
      "model_module": "@jupyter-widgets/base",
      "model_module_version": "1.2.0",
      "model_name": "LayoutModel",
      "state": {}
     },
     "169cd8882a25403d9d9c2f5caaa0d536": {
      "model_module": "@jupyter-widgets/controls",
      "model_module_version": "1.5.0",
      "model_name": "HBoxModel",
      "state": {
       "children": [
        "IPY_MODEL_828e849fc4c74097a26dde9fe4d89ae5",
        "IPY_MODEL_762bd1f593d44c6483e19ee74f35fc05"
       ],
       "layout": "IPY_MODEL_d6575651c4b74758bdd943108ffa100f"
      }
     },
     "16a6c83e083d4832898b770364df956d": {
      "model_module": "@jupyter-widgets/controls",
      "model_module_version": "1.5.0",
      "model_name": "HTMLModel",
      "state": {
       "layout": "IPY_MODEL_224828edea374ae38a6fc4498552a037",
       "style": "IPY_MODEL_568918958e104f5e87d86b1cb0ec1911",
       "value": "100% 100000/100000 [00:10&lt;00:00, 9214.53it/s]"
      }
     },
     "16afef85153342e3aea8d79af8004383": {
      "model_module": "@jupyter-widgets/controls",
      "model_module_version": "1.5.0",
      "model_name": "HTMLModel",
      "state": {
       "layout": "IPY_MODEL_3ff3b00bac9543ce93bb19aa734694cb",
       "style": "IPY_MODEL_3a792ade528143dc9de2053dba729907",
       "value": "  7% 6908/100000 [00:00&lt;09:44, 159.33it/s]"
      }
     },
     "17b8f2343aed4aa09fe8a13ffa51b0dc": {
      "model_module": "@jupyter-widgets/controls",
      "model_module_version": "1.5.0",
      "model_name": "ProgressStyleModel",
      "state": {
       "description_width": ""
      }
     },
     "181e6c53cc4b4e8286ebc2cd4e1bb4e4": {
      "model_module": "@jupyter-widgets/controls",
      "model_module_version": "1.5.0",
      "model_name": "HBoxModel",
      "state": {
       "children": [
        "IPY_MODEL_dee2cf9a65c3403f940efa2d75884cc4",
        "IPY_MODEL_9eb21f803a66442b885fc890e083fdde"
       ],
       "layout": "IPY_MODEL_75910e8b5c5041d0b55203c9fbc78b5a"
      }
     },
     "1857b1d672a041bfb0d40aaf1f3e48c4": {
      "model_module": "@jupyter-widgets/controls",
      "model_module_version": "1.5.0",
      "model_name": "DescriptionStyleModel",
      "state": {
       "description_width": ""
      }
     },
     "1b9fba5dec3e49ebae0eceb5e81f74c4": {
      "model_module": "@jupyter-widgets/base",
      "model_module_version": "1.2.0",
      "model_name": "LayoutModel",
      "state": {}
     },
     "1bbb5200eaf74f20947344cf15fcbb97": {
      "model_module": "@jupyter-widgets/base",
      "model_module_version": "1.2.0",
      "model_name": "LayoutModel",
      "state": {}
     },
     "1c1f62615b44499ea390e249c255a356": {
      "model_module": "@jupyter-widgets/controls",
      "model_module_version": "1.5.0",
      "model_name": "ProgressStyleModel",
      "state": {
       "description_width": ""
      }
     },
     "1c40de018282490c9c1aa57a86a0753e": {
      "model_module": "@jupyter-widgets/controls",
      "model_module_version": "1.5.0",
      "model_name": "DescriptionStyleModel",
      "state": {
       "description_width": ""
      }
     },
     "1ca23d3d23b94d6692fe0a2e0157c51d": {
      "model_module": "@jupyter-widgets/controls",
      "model_module_version": "1.5.0",
      "model_name": "ProgressStyleModel",
      "state": {
       "description_width": ""
      }
     },
     "1cb21fdce0594debbf32bc7108408383": {
      "model_module": "@jupyter-widgets/controls",
      "model_module_version": "1.5.0",
      "model_name": "ProgressStyleModel",
      "state": {
       "description_width": ""
      }
     },
     "1de135fd5597424391112ebe726b4d37": {
      "model_module": "@jupyter-widgets/base",
      "model_module_version": "1.2.0",
      "model_name": "LayoutModel",
      "state": {}
     },
     "1dff86d7282646ee8903cdc1186b1cbb": {
      "model_module": "@jupyter-widgets/controls",
      "model_module_version": "1.5.0",
      "model_name": "IntProgressModel",
      "state": {
       "layout": "IPY_MODEL_0725e6c01ee349f1bf855d8a5ee940b8",
       "max": 100000,
       "style": "IPY_MODEL_5a147fe06be445d79cc04e59b99e70ae",
       "value": 28652
      }
     },
     "1e07a2cd47ef452faa207895825c08ac": {
      "model_module": "@jupyter-widgets/controls",
      "model_module_version": "1.5.0",
      "model_name": "ProgressStyleModel",
      "state": {
       "description_width": ""
      }
     },
     "1ed0524e684942f189f808d473d3069f": {
      "model_module": "@jupyter-widgets/controls",
      "model_module_version": "1.5.0",
      "model_name": "HBoxModel",
      "state": {
       "children": [
        "IPY_MODEL_b3fca3c963a3415faf537efe6f691c15",
        "IPY_MODEL_fbb276383e4e4affb61fdfcd719c53d7"
       ],
       "layout": "IPY_MODEL_a704f4e267e34f999194ea2c10d3549a"
      }
     },
     "1ed8c638abac46319d275e2b36ac44bb": {
      "model_module": "@jupyter-widgets/base",
      "model_module_version": "1.2.0",
      "model_name": "LayoutModel",
      "state": {}
     },
     "1f674055626c48f2b4c5c9b3d03996ef": {
      "model_module": "@jupyter-widgets/base",
      "model_module_version": "1.2.0",
      "model_name": "LayoutModel",
      "state": {}
     },
     "1f7f92d8631441fbbb83fbc8bc825b4a": {
      "model_module": "@jupyter-widgets/controls",
      "model_module_version": "1.5.0",
      "model_name": "IntProgressModel",
      "state": {
       "bar_style": "success",
       "layout": "IPY_MODEL_a278b3777d744d1caa04259f97bb0ebb",
       "max": 1000000,
       "style": "IPY_MODEL_e53d532507dc415781bf989092c3aaec",
       "value": 1000000
      }
     },
     "1fd17ca532454c93832d8cba67eee547": {
      "model_module": "@jupyter-widgets/controls",
      "model_module_version": "1.5.0",
      "model_name": "HBoxModel",
      "state": {
       "children": [
        "IPY_MODEL_e8d23b0ace32434fa571e40aeaa6cebd",
        "IPY_MODEL_fa6003ea205b4a368aef7301b1efae02"
       ],
       "layout": "IPY_MODEL_be99c03646f44eb18a7b93ea07e2c7d1"
      }
     },
     "2098041b0deb408caf08eb4baf3f4f4f": {
      "model_module": "@jupyter-widgets/base",
      "model_module_version": "1.2.0",
      "model_name": "LayoutModel",
      "state": {}
     },
     "20c85fa53fc344c3bbe38e02f3a440ea": {
      "model_module": "@jupyter-widgets/base",
      "model_module_version": "1.2.0",
      "model_name": "LayoutModel",
      "state": {}
     },
     "20f6b76651e248b6a74429ac8e56ada6": {
      "model_module": "@jupyter-widgets/base",
      "model_module_version": "1.2.0",
      "model_name": "LayoutModel",
      "state": {}
     },
     "2123d1f5b22e4c0b8e38c87b48ce892f": {
      "model_module": "@jupyter-widgets/base",
      "model_module_version": "1.2.0",
      "model_name": "LayoutModel",
      "state": {}
     },
     "21566426b77543388662fb674046d10a": {
      "model_module": "@jupyter-widgets/controls",
      "model_module_version": "1.5.0",
      "model_name": "IntProgressModel",
      "state": {
       "bar_style": "success",
       "layout": "IPY_MODEL_d71417b5c9fb40b98a619230d70d2a46",
       "max": 1000000,
       "style": "IPY_MODEL_51a7e0b6a32b4ba7a4704ca968ca3aaa",
       "value": 1000000
      }
     },
     "224828edea374ae38a6fc4498552a037": {
      "model_module": "@jupyter-widgets/base",
      "model_module_version": "1.2.0",
      "model_name": "LayoutModel",
      "state": {}
     },
     "23332ea8247c45ba8a553b55eb1aa403": {
      "model_module": "@jupyter-widgets/controls",
      "model_module_version": "1.5.0",
      "model_name": "DescriptionStyleModel",
      "state": {
       "description_width": ""
      }
     },
     "23abf440369f4096a242424f7fe082db": {
      "model_module": "@jupyter-widgets/controls",
      "model_module_version": "1.5.0",
      "model_name": "HTMLModel",
      "state": {
       "layout": "IPY_MODEL_e279f73a5a21404d92f1f90395ba9620",
       "style": "IPY_MODEL_8c8c9eb97fc94734bd6239748cb68fa5",
       "value": "  7% 7243/100000 [00:00&lt;00:20, 4608.95it/s]"
      }
     },
     "23ae0fb3107747cd8a13592d1e60eb3f": {
      "model_module": "@jupyter-widgets/controls",
      "model_module_version": "1.5.0",
      "model_name": "IntProgressModel",
      "state": {
       "bar_style": "danger",
       "layout": "IPY_MODEL_5631cb39363840319b939fe4f47147e5",
       "max": 100000,
       "style": "IPY_MODEL_6918ad7b5a6c4c22bce8451e125034dd",
       "value": 6917
      }
     },
     "23dbe501149c44eebe558997c0338459": {
      "model_module": "@jupyter-widgets/controls",
      "model_module_version": "1.5.0",
      "model_name": "IntProgressModel",
      "state": {
       "bar_style": "danger",
       "layout": "IPY_MODEL_02ef6461e50c4ad495aaaa2f07e2c377",
       "max": 1000000,
       "style": "IPY_MODEL_35c3172e999b4f2bbcc43a74b8e344b9",
       "value": 229960
      }
     },
     "24d8bf4a4b9d42e7ad7ac02e1873ed81": {
      "model_module": "@jupyter-widgets/controls",
      "model_module_version": "1.5.0",
      "model_name": "HBoxModel",
      "state": {
       "children": [
        "IPY_MODEL_9b38d91398464945a8e71514379e7d92",
        "IPY_MODEL_cfe7c1bd7cb64c3db9b6b270f9dfda96"
       ],
       "layout": "IPY_MODEL_c472b7aaafda4e4090910fad16f66c40"
      }
     },
     "24edc7c091624d7f94abb19b9815e9ec": {
      "model_module": "@jupyter-widgets/base",
      "model_module_version": "1.2.0",
      "model_name": "LayoutModel",
      "state": {}
     },
     "258c115d88be4f869a4667b09e13f16a": {
      "model_module": "@jupyter-widgets/base",
      "model_module_version": "1.2.0",
      "model_name": "LayoutModel",
      "state": {}
     },
     "25c71de29a9d414da87e3f44e53792de": {
      "model_module": "@jupyter-widgets/controls",
      "model_module_version": "1.5.0",
      "model_name": "DescriptionStyleModel",
      "state": {
       "description_width": ""
      }
     },
     "267f19ff2cdf473f8c73845a690e7c1f": {
      "model_module": "@jupyter-widgets/base",
      "model_module_version": "1.2.0",
      "model_name": "LayoutModel",
      "state": {}
     },
     "26818cfac3134b69b7ce60507d3c919c": {
      "model_module": "@jupyter-widgets/base",
      "model_module_version": "1.2.0",
      "model_name": "LayoutModel",
      "state": {}
     },
     "26b75c23bde145f596c9c396fd516b73": {
      "model_module": "@jupyter-widgets/controls",
      "model_module_version": "1.5.0",
      "model_name": "DescriptionStyleModel",
      "state": {
       "description_width": ""
      }
     },
     "26db732ee7db4ea9b18add531aa635da": {
      "model_module": "@jupyter-widgets/base",
      "model_module_version": "1.2.0",
      "model_name": "LayoutModel",
      "state": {}
     },
     "272912df7fc14a76854f5863a6efb584": {
      "model_module": "@jupyter-widgets/base",
      "model_module_version": "1.2.0",
      "model_name": "LayoutModel",
      "state": {}
     },
     "275f50b9121b4dbd81d64d49533e2c58": {
      "model_module": "@jupyter-widgets/base",
      "model_module_version": "1.2.0",
      "model_name": "LayoutModel",
      "state": {}
     },
     "2975b61bbd4740f09770ba25254e1c81": {
      "model_module": "@jupyter-widgets/controls",
      "model_module_version": "1.5.0",
      "model_name": "DescriptionStyleModel",
      "state": {
       "description_width": ""
      }
     },
     "29c8208e114d42c4bcbec9c97ac8df45": {
      "model_module": "@jupyter-widgets/base",
      "model_module_version": "1.2.0",
      "model_name": "LayoutModel",
      "state": {}
     },
     "2a58e9eed9ac48f78769a2ca3d955599": {
      "model_module": "@jupyter-widgets/controls",
      "model_module_version": "1.5.0",
      "model_name": "HTMLModel",
      "state": {
       "layout": "IPY_MODEL_43f165f103e14feabbe080e2ddf2ef68",
       "style": "IPY_MODEL_d8ed46f76c3649fcaaf5678912dab02f",
       "value": "100% 1000000/1000000 [00:10&lt;00:00, 97130.73it/s]"
      }
     },
     "2b2a76c2b79f43a291e77130db286298": {
      "model_module": "@jupyter-widgets/base",
      "model_module_version": "1.2.0",
      "model_name": "LayoutModel",
      "state": {}
     },
     "2cbf9711bcf74fa0a1340590deb20b3a": {
      "model_module": "@jupyter-widgets/controls",
      "model_module_version": "1.5.0",
      "model_name": "DescriptionStyleModel",
      "state": {
       "description_width": ""
      }
     },
     "2d071433c8c3451bb2ca481b1de13583": {
      "model_module": "@jupyter-widgets/base",
      "model_module_version": "1.2.0",
      "model_name": "LayoutModel",
      "state": {}
     },
     "2d13dbea517941d3995e0c98b340a76b": {
      "model_module": "@jupyter-widgets/base",
      "model_module_version": "1.2.0",
      "model_name": "LayoutModel",
      "state": {}
     },
     "2e8c0ac3e69b461cbd6c36d801db291c": {
      "model_module": "@jupyter-widgets/base",
      "model_module_version": "1.2.0",
      "model_name": "LayoutModel",
      "state": {}
     },
     "2f369ddf7bde42cc850e67619c546e4f": {
      "model_module": "@jupyter-widgets/controls",
      "model_module_version": "1.5.0",
      "model_name": "HBoxModel",
      "state": {
       "children": [
        "IPY_MODEL_d0568028c106426d81e8dee09edbf00a",
        "IPY_MODEL_0bc6577cf373492fa5293386c66d58f9"
       ],
       "layout": "IPY_MODEL_87f02be2aa1a4fc8a9934cd3868e4664"
      }
     },
     "2f581d27b51f4bb684a7b6bfc67adeb5": {
      "model_module": "@jupyter-widgets/base",
      "model_module_version": "1.2.0",
      "model_name": "LayoutModel",
      "state": {}
     },
     "3026d0fb0e5343f18270e27fd686fba0": {
      "model_module": "@jupyter-widgets/controls",
      "model_module_version": "1.5.0",
      "model_name": "HTMLModel",
      "state": {
       "layout": "IPY_MODEL_41cfa6bc6c0f4d0094f986cda75f977a",
       "style": "IPY_MODEL_64b1ed5d132548f4aa0d54ab40822279",
       "value": "100% 1000000/1000000 [00:04&lt;00:00, 218912.80it/s]"
      }
     },
     "30659bddf4d747a282d8081a0b219cb2": {
      "model_module": "@jupyter-widgets/base",
      "model_module_version": "1.2.0",
      "model_name": "LayoutModel",
      "state": {}
     },
     "3079d46b77f34eff9ab7de69edf0d216": {
      "model_module": "@jupyter-widgets/base",
      "model_module_version": "1.2.0",
      "model_name": "LayoutModel",
      "state": {}
     },
     "30a65f0e333b4c3d85f504de1a75662e": {
      "model_module": "@jupyter-widgets/controls",
      "model_module_version": "1.5.0",
      "model_name": "IntProgressModel",
      "state": {
       "bar_style": "success",
       "layout": "IPY_MODEL_695367e52cc04cb690186172b736a5e6",
       "max": 1000000,
       "style": "IPY_MODEL_fb9e67bc26bd47f1baae4566fd92e789",
       "value": 1000000
      }
     },
     "30d80230843744beabafc493432916af": {
      "model_module": "@jupyter-widgets/base",
      "model_module_version": "1.2.0",
      "model_name": "LayoutModel",
      "state": {}
     },
     "30dac364e1034ff9bfa0a56281a13b59": {
      "model_module": "@jupyter-widgets/controls",
      "model_module_version": "1.5.0",
      "model_name": "ProgressStyleModel",
      "state": {
       "description_width": ""
      }
     },
     "31769647653843bcb0cf3b9852ca6845": {
      "model_module": "@jupyter-widgets/base",
      "model_module_version": "1.2.0",
      "model_name": "LayoutModel",
      "state": {}
     },
     "31b2c9f4021a42458de99a2bd0d6de06": {
      "model_module": "@jupyter-widgets/controls",
      "model_module_version": "1.5.0",
      "model_name": "IntProgressModel",
      "state": {
       "bar_style": "success",
       "layout": "IPY_MODEL_50d638292a57479e973bedaa07d11d80",
       "max": 100000,
       "style": "IPY_MODEL_36ed31f6a4c04429aa5b49de7f9b8620",
       "value": 100000
      }
     },
     "31ec67bad1284d6590f7785f52afa10e": {
      "model_module": "@jupyter-widgets/controls",
      "model_module_version": "1.5.0",
      "model_name": "DescriptionStyleModel",
      "state": {
       "description_width": ""
      }
     },
     "32046b35d7384c70a7e2967c4d5da3f2": {
      "model_module": "@jupyter-widgets/base",
      "model_module_version": "1.2.0",
      "model_name": "LayoutModel",
      "state": {}
     },
     "324a199050264e79b102f977d407221b": {
      "model_module": "@jupyter-widgets/base",
      "model_module_version": "1.2.0",
      "model_name": "LayoutModel",
      "state": {}
     },
     "331cac7f9adc4caa9bcfbdd1659e9203": {
      "model_module": "@jupyter-widgets/controls",
      "model_module_version": "1.5.0",
      "model_name": "IntProgressModel",
      "state": {
       "bar_style": "danger",
       "layout": "IPY_MODEL_8cff96103e7a4d07b1e97c90129e7678",
       "max": 100000,
       "style": "IPY_MODEL_30dac364e1034ff9bfa0a56281a13b59",
       "value": 6908
      }
     },
     "3392624adc324f4192e04ba62a2a405a": {
      "model_module": "@jupyter-widgets/base",
      "model_module_version": "1.2.0",
      "model_name": "LayoutModel",
      "state": {}
     },
     "33b09911fbf14d2187bf534fd29a0660": {
      "model_module": "@jupyter-widgets/controls",
      "model_module_version": "1.5.0",
      "model_name": "DescriptionStyleModel",
      "state": {
       "description_width": ""
      }
     },
     "342be615145147fb8a6485c918a764b1": {
      "model_module": "@jupyter-widgets/base",
      "model_module_version": "1.2.0",
      "model_name": "LayoutModel",
      "state": {}
     },
     "343a2d06d1034873b26a5edb54f1375e": {
      "model_module": "@jupyter-widgets/controls",
      "model_module_version": "1.5.0",
      "model_name": "IntProgressModel",
      "state": {
       "bar_style": "success",
       "layout": "IPY_MODEL_96b98c3324cc403d83c80655454aab68",
       "max": 100000,
       "style": "IPY_MODEL_9538fbb380f94c9d85a5f33c5c4cc149",
       "value": 100000
      }
     },
     "357651abe0704163b4043b3e80f4ab02": {
      "model_module": "@jupyter-widgets/base",
      "model_module_version": "1.2.0",
      "model_name": "LayoutModel",
      "state": {}
     },
     "357be22f4f584ac99fe455f873d444f9": {
      "model_module": "@jupyter-widgets/base",
      "model_module_version": "1.2.0",
      "model_name": "LayoutModel",
      "state": {}
     },
     "35aaa80db8874896a639d26004f3e074": {
      "model_module": "@jupyter-widgets/controls",
      "model_module_version": "1.5.0",
      "model_name": "IntProgressModel",
      "state": {
       "bar_style": "success",
       "layout": "IPY_MODEL_bc6bece6d5ff4c40a9df7fd3ed0099b0",
       "max": 1000000,
       "style": "IPY_MODEL_e7cfad263fd34d08b5e0f5ee43d410dd",
       "value": 1000000
      }
     },
     "35b0bbefb5024b50b403a956140ba25c": {
      "model_module": "@jupyter-widgets/controls",
      "model_module_version": "1.5.0",
      "model_name": "HTMLModel",
      "state": {
       "layout": "IPY_MODEL_058275f740504ebd9d40e483824050c5",
       "style": "IPY_MODEL_7a61895f0b624bb394934536af776935",
       "value": "100% 1000000/1000000 [00:04&lt;00:00, 220499.26it/s]"
      }
     },
     "35c3172e999b4f2bbcc43a74b8e344b9": {
      "model_module": "@jupyter-widgets/controls",
      "model_module_version": "1.5.0",
      "model_name": "ProgressStyleModel",
      "state": {
       "description_width": ""
      }
     },
     "36aadc712e844afa88533e3ba1d0bd69": {
      "model_module": "@jupyter-widgets/controls",
      "model_module_version": "1.5.0",
      "model_name": "HTMLModel",
      "state": {
       "layout": "IPY_MODEL_1bbb5200eaf74f20947344cf15fcbb97",
       "style": "IPY_MODEL_7647616e6f764d1fa14fe122431543c8",
       "value": "100% 1000000/1000000 [00:04&lt;00:00, 204765.61it/s]"
      }
     },
     "36ab78d2b9974e4faa45714f2686e9f4": {
      "model_module": "@jupyter-widgets/controls",
      "model_module_version": "1.5.0",
      "model_name": "HBoxModel",
      "state": {
       "children": [
        "IPY_MODEL_e44f0217ee774b0cb2c6e5afc6c562da",
        "IPY_MODEL_ab96e902ba504c9aa172d047e4c26331"
       ],
       "layout": "IPY_MODEL_f959796433dd4422bc4823ecc006c2cf"
      }
     },
     "36ed31f6a4c04429aa5b49de7f9b8620": {
      "model_module": "@jupyter-widgets/controls",
      "model_module_version": "1.5.0",
      "model_name": "ProgressStyleModel",
      "state": {
       "description_width": ""
      }
     },
     "370b334823d84db99158f3b098854f36": {
      "model_module": "@jupyter-widgets/base",
      "model_module_version": "1.2.0",
      "model_name": "LayoutModel",
      "state": {}
     },
     "37119f630f0b40e6808bf6f3f675220e": {
      "model_module": "@jupyter-widgets/controls",
      "model_module_version": "1.5.0",
      "model_name": "HBoxModel",
      "state": {
       "children": [
        "IPY_MODEL_1f7f92d8631441fbbb83fbc8bc825b4a",
        "IPY_MODEL_53bd210042b24bf082124a90958afe68"
       ],
       "layout": "IPY_MODEL_6431086555754116abef320a009a95f9"
      }
     },
     "37a434e1c98c40ed8eec7f313c7917fd": {
      "model_module": "@jupyter-widgets/controls",
      "model_module_version": "1.5.0",
      "model_name": "HTMLModel",
      "state": {
       "layout": "IPY_MODEL_f5d7aab2804247388e7d0c269bc6b794",
       "style": "IPY_MODEL_33b09911fbf14d2187bf534fd29a0660",
       "value": "100% 1000000/1000000 [01:51&lt;00:00, 8931.79it/s]"
      }
     },
     "37b37011027c4cfca61da7ebe6499ff0": {
      "model_module": "@jupyter-widgets/base",
      "model_module_version": "1.2.0",
      "model_name": "LayoutModel",
      "state": {}
     },
     "37fb2f5840be4ac5afa1b5ff727c6759": {
      "model_module": "@jupyter-widgets/base",
      "model_module_version": "1.2.0",
      "model_name": "LayoutModel",
      "state": {}
     },
     "383bcaa540e64a3bbdadd3025e171187": {
      "model_module": "@jupyter-widgets/base",
      "model_module_version": "1.2.0",
      "model_name": "LayoutModel",
      "state": {}
     },
     "38999e292ccc4e5b82a6a1df803b6fdf": {
      "model_module": "@jupyter-widgets/controls",
      "model_module_version": "1.5.0",
      "model_name": "ProgressStyleModel",
      "state": {
       "description_width": ""
      }
     },
     "39f5e78f34c04d9ea4e72d5499cf5930": {
      "model_module": "@jupyter-widgets/controls",
      "model_module_version": "1.5.0",
      "model_name": "DescriptionStyleModel",
      "state": {
       "description_width": ""
      }
     },
     "3a0786ec0e6f4936885e35bae7f8ce16": {
      "model_module": "@jupyter-widgets/controls",
      "model_module_version": "1.5.0",
      "model_name": "IntProgressModel",
      "state": {
       "bar_style": "danger",
       "layout": "IPY_MODEL_b213407d170a4482b0144198a13f83a5",
       "max": 100000,
       "style": "IPY_MODEL_cd912be344dd42ff90a35ada5056e00c"
      }
     },
     "3a792ade528143dc9de2053dba729907": {
      "model_module": "@jupyter-widgets/controls",
      "model_module_version": "1.5.0",
      "model_name": "DescriptionStyleModel",
      "state": {
       "description_width": ""
      }
     },
     "3b55add1e9f149368cb588cea34a60eb": {
      "model_module": "@jupyter-widgets/base",
      "model_module_version": "1.2.0",
      "model_name": "LayoutModel",
      "state": {}
     },
     "3c7dd7f5f93149e18d0f8cf93c4ccf4f": {
      "model_module": "@jupyter-widgets/base",
      "model_module_version": "1.2.0",
      "model_name": "LayoutModel",
      "state": {}
     },
     "3dad2e0bffc646518c456b9378249fb2": {
      "model_module": "@jupyter-widgets/controls",
      "model_module_version": "1.5.0",
      "model_name": "ProgressStyleModel",
      "state": {
       "description_width": ""
      }
     },
     "3ebd07d4fd054c6c8057849e426362c4": {
      "model_module": "@jupyter-widgets/controls",
      "model_module_version": "1.5.0",
      "model_name": "HTMLModel",
      "state": {
       "layout": "IPY_MODEL_9c3b8fd153854300bef04d448424ae6f",
       "style": "IPY_MODEL_13c3c91c593f4306be2a0c0894898512",
       "value": "100% 1000000/1000000 [00:09&lt;00:00, 103491.60it/s]"
      }
     },
     "3f0ce1661be54d869654b102ab5d18c9": {
      "model_module": "@jupyter-widgets/controls",
      "model_module_version": "1.5.0",
      "model_name": "HBoxModel",
      "state": {
       "children": [
        "IPY_MODEL_6d37e48f62cc433090f8f4ea764f0caf",
        "IPY_MODEL_962fa051348645ef83a4a763a9bfe54f"
       ],
       "layout": "IPY_MODEL_ae82cc981a9a429280f5fd0406d02490"
      }
     },
     "3f4ae25f6ebb4e698615b9c533352034": {
      "model_module": "@jupyter-widgets/controls",
      "model_module_version": "1.5.0",
      "model_name": "DescriptionStyleModel",
      "state": {
       "description_width": ""
      }
     },
     "3ff3b00bac9543ce93bb19aa734694cb": {
      "model_module": "@jupyter-widgets/base",
      "model_module_version": "1.2.0",
      "model_name": "LayoutModel",
      "state": {}
     },
     "4085d4a0942e41fc9c03d219d7c5d3c8": {
      "model_module": "@jupyter-widgets/controls",
      "model_module_version": "1.5.0",
      "model_name": "HBoxModel",
      "state": {
       "children": [
        "IPY_MODEL_7fe52fa4e772407b86249b4584d767bb",
        "IPY_MODEL_7b5cd4eac2894eb199d6152b688b3750"
       ],
       "layout": "IPY_MODEL_e58406f002b941fba01ae6e1e4293683"
      }
     },
     "40943bbc5dc14fc6a4d516f4f2e15b55": {
      "model_module": "@jupyter-widgets/controls",
      "model_module_version": "1.5.0",
      "model_name": "DescriptionStyleModel",
      "state": {
       "description_width": ""
      }
     },
     "41035a87dfe041169ff39cc4e0c8c29a": {
      "model_module": "@jupyter-widgets/controls",
      "model_module_version": "1.5.0",
      "model_name": "ProgressStyleModel",
      "state": {
       "description_width": ""
      }
     },
     "41a6cc9b86cb4365b1fb34e1ead08a5f": {
      "model_module": "@jupyter-widgets/controls",
      "model_module_version": "1.5.0",
      "model_name": "DescriptionStyleModel",
      "state": {
       "description_width": ""
      }
     },
     "41b788dce1374b68aa61c1823d04afae": {
      "model_module": "@jupyter-widgets/controls",
      "model_module_version": "1.5.0",
      "model_name": "DescriptionStyleModel",
      "state": {
       "description_width": ""
      }
     },
     "41cfa6bc6c0f4d0094f986cda75f977a": {
      "model_module": "@jupyter-widgets/base",
      "model_module_version": "1.2.0",
      "model_name": "LayoutModel",
      "state": {}
     },
     "42aadde14136478fa7af4bf6346cf48a": {
      "model_module": "@jupyter-widgets/controls",
      "model_module_version": "1.5.0",
      "model_name": "HTMLModel",
      "state": {
       "layout": "IPY_MODEL_7442e971516d4bd2bb1135cde7753276",
       "style": "IPY_MODEL_7f33b4c7489144d58b9ffa046fe43abe",
       "value": "  0% 0/100000 [00:00&lt;?, ?it/s]"
      }
     },
     "43114f4ec76545429a5ec48125169072": {
      "model_module": "@jupyter-widgets/controls",
      "model_module_version": "1.5.0",
      "model_name": "HTMLModel",
      "state": {
       "layout": "IPY_MODEL_588674b1aca542eabf89e3ffc2b4202c",
       "style": "IPY_MODEL_81694868537341798a0a4eb50111e824",
       "value": "100% 1000000/1000000 [00:11&lt;00:00, 85769.19it/s]"
      }
     },
     "433397aab17646ecbb622d9c72927b7a": {
      "model_module": "@jupyter-widgets/controls",
      "model_module_version": "1.5.0",
      "model_name": "HBoxModel",
      "state": {
       "children": [
        "IPY_MODEL_49e63fd3a111414ab4a5bbcfd88393c5",
        "IPY_MODEL_7c4e60932d5a4bac838d0f08da979571"
       ],
       "layout": "IPY_MODEL_f57cf63f18d64d7d9fb23804ca8aff45"
      }
     },
     "43a08bfb1dfd4ae4bab01d4697151224": {
      "model_module": "@jupyter-widgets/base",
      "model_module_version": "1.2.0",
      "model_name": "LayoutModel",
      "state": {}
     },
     "43cb7fd04de8456ba774ab1527e02d69": {
      "model_module": "@jupyter-widgets/controls",
      "model_module_version": "1.5.0",
      "model_name": "ProgressStyleModel",
      "state": {
       "description_width": ""
      }
     },
     "43f165f103e14feabbe080e2ddf2ef68": {
      "model_module": "@jupyter-widgets/base",
      "model_module_version": "1.2.0",
      "model_name": "LayoutModel",
      "state": {}
     },
     "4424bb56c0cb4b109d4d804035af2ed1": {
      "model_module": "@jupyter-widgets/controls",
      "model_module_version": "1.5.0",
      "model_name": "HBoxModel",
      "state": {
       "children": [
        "IPY_MODEL_67ca36b4cd1043d09b8aa565766f468d",
        "IPY_MODEL_ced9be2cea4646b193d1c066a54df6db"
       ],
       "layout": "IPY_MODEL_ac15c886ab104b88b4861a1b4db5f3fe"
      }
     },
     "44cd2b0551874c86abebef9d8ff93781": {
      "model_module": "@jupyter-widgets/controls",
      "model_module_version": "1.5.0",
      "model_name": "ProgressStyleModel",
      "state": {
       "description_width": ""
      }
     },
     "4617b855c6564fe8a4c9acaae7c9c380": {
      "model_module": "@jupyter-widgets/base",
      "model_module_version": "1.2.0",
      "model_name": "LayoutModel",
      "state": {}
     },
     "472e7d36286e4200805e0a91bed455e8": {
      "model_module": "@jupyter-widgets/controls",
      "model_module_version": "1.5.0",
      "model_name": "ProgressStyleModel",
      "state": {
       "description_width": ""
      }
     },
     "489319309e4b43408715fe342f6a8cef": {
      "model_module": "@jupyter-widgets/controls",
      "model_module_version": "1.5.0",
      "model_name": "DescriptionStyleModel",
      "state": {
       "description_width": ""
      }
     },
     "4917530a11b944f3b77fb93c6d2210dc": {
      "model_module": "@jupyter-widgets/base",
      "model_module_version": "1.2.0",
      "model_name": "LayoutModel",
      "state": {}
     },
     "49e63fd3a111414ab4a5bbcfd88393c5": {
      "model_module": "@jupyter-widgets/controls",
      "model_module_version": "1.5.0",
      "model_name": "IntProgressModel",
      "state": {
       "bar_style": "success",
       "layout": "IPY_MODEL_4917530a11b944f3b77fb93c6d2210dc",
       "max": 100000,
       "style": "IPY_MODEL_1c1f62615b44499ea390e249c255a356",
       "value": 100000
      }
     },
     "4ad18d4471f243a5ae98c16c57eb306b": {
      "model_module": "@jupyter-widgets/controls",
      "model_module_version": "1.5.0",
      "model_name": "HTMLModel",
      "state": {
       "layout": "IPY_MODEL_7b938d2dbb7d4827af752efc9d39b78e",
       "style": "IPY_MODEL_5f02def2aa874d4cb0ad0be642ab8994",
       "value": "  6% 6415/100000 [00:00&lt;00:14, 6359.57it/s]"
      }
     },
     "4be74f1331c942b68d6acf4d3adbdd58": {
      "model_module": "@jupyter-widgets/controls",
      "model_module_version": "1.5.0",
      "model_name": "HBoxModel",
      "state": {
       "children": [
        "IPY_MODEL_1dff86d7282646ee8903cdc1186b1cbb",
        "IPY_MODEL_0477fe8392b541eaa384da968971fc62"
       ],
       "layout": "IPY_MODEL_f87da69a20ac432c9bf72071ab3f34aa"
      }
     },
     "4c3beeeedc8149a1ae1f6942e63e13e2": {
      "model_module": "@jupyter-widgets/controls",
      "model_module_version": "1.5.0",
      "model_name": "DescriptionStyleModel",
      "state": {
       "description_width": ""
      }
     },
     "4c536d6868a044b8b4e1b68a7c2cbdba": {
      "model_module": "@jupyter-widgets/controls",
      "model_module_version": "1.5.0",
      "model_name": "ProgressStyleModel",
      "state": {
       "description_width": ""
      }
     },
     "4d26f2b9b797493cbe6d01b2a910eee0": {
      "model_module": "@jupyter-widgets/controls",
      "model_module_version": "1.5.0",
      "model_name": "HTMLModel",
      "state": {
       "layout": "IPY_MODEL_9d187f03544a40bca87adb5093288b74",
       "style": "IPY_MODEL_55a0842b2cec4ed1a3d66f1d9a4a0e8f",
       "value": "100% 100000/100000 [00:10&lt;00:00, 9133.86it/s]"
      }
     },
     "4d82e3e6f2264fe59f81b3cb29ae0864": {
      "model_module": "@jupyter-widgets/base",
      "model_module_version": "1.2.0",
      "model_name": "LayoutModel",
      "state": {}
     },
     "4d8bec58a37048cb9f27d4e093529186": {
      "model_module": "@jupyter-widgets/base",
      "model_module_version": "1.2.0",
      "model_name": "LayoutModel",
      "state": {}
     },
     "4de787b2bca7405e960078c18357b9c1": {
      "model_module": "@jupyter-widgets/base",
      "model_module_version": "1.2.0",
      "model_name": "LayoutModel",
      "state": {}
     },
     "4e102ffa01374b3cbdc802d706fa48fb": {
      "model_module": "@jupyter-widgets/controls",
      "model_module_version": "1.5.0",
      "model_name": "HBoxModel",
      "state": {
       "children": [
        "IPY_MODEL_f9547416fd3f4c5eac78fa978785eb6e",
        "IPY_MODEL_8136483bd4f84902aff52a8db6acd37a"
       ],
       "layout": "IPY_MODEL_df2ee66c37a7454dac2def8f29b45f85"
      }
     },
     "4e9dc8e105114632be130ecb632321d8": {
      "model_module": "@jupyter-widgets/base",
      "model_module_version": "1.2.0",
      "model_name": "LayoutModel",
      "state": {}
     },
     "4f3eff8d91714bbb8704a6dd0c38d788": {
      "model_module": "@jupyter-widgets/controls",
      "model_module_version": "1.5.0",
      "model_name": "IntProgressModel",
      "state": {
       "bar_style": "success",
       "layout": "IPY_MODEL_258c115d88be4f869a4667b09e13f16a",
       "max": 1000000,
       "style": "IPY_MODEL_87551c91754d40d28bfe02d376cf1140",
       "value": 1000000
      }
     },
     "4f642567c1724a859493ea88cc0a6bde": {
      "model_module": "@jupyter-widgets/base",
      "model_module_version": "1.2.0",
      "model_name": "LayoutModel",
      "state": {}
     },
     "4f97b735690b441880febba570adc40b": {
      "model_module": "@jupyter-widgets/controls",
      "model_module_version": "1.5.0",
      "model_name": "ProgressStyleModel",
      "state": {
       "description_width": ""
      }
     },
     "4fe9fec0054345fa82b0780290adff4d": {
      "model_module": "@jupyter-widgets/base",
      "model_module_version": "1.2.0",
      "model_name": "LayoutModel",
      "state": {}
     },
     "504b4df1b25a41ba94fbae0475767bf6": {
      "model_module": "@jupyter-widgets/controls",
      "model_module_version": "1.5.0",
      "model_name": "HTMLModel",
      "state": {
       "layout": "IPY_MODEL_b1138b7fe4624bf185988453ed40942c",
       "style": "IPY_MODEL_a62d0ee365044ef492512bed829619f2",
       "value": "  0% 0/100000 [00:00&lt;?, ?it/s]"
      }
     },
     "50d638292a57479e973bedaa07d11d80": {
      "model_module": "@jupyter-widgets/base",
      "model_module_version": "1.2.0",
      "model_name": "LayoutModel",
      "state": {}
     },
     "51a7e0b6a32b4ba7a4704ca968ca3aaa": {
      "model_module": "@jupyter-widgets/controls",
      "model_module_version": "1.5.0",
      "model_name": "ProgressStyleModel",
      "state": {
       "description_width": ""
      }
     },
     "533bbe47899747059558499b2f72b100": {
      "model_module": "@jupyter-widgets/base",
      "model_module_version": "1.2.0",
      "model_name": "LayoutModel",
      "state": {}
     },
     "53839183f28346aaa2f96293bd428658": {
      "model_module": "@jupyter-widgets/controls",
      "model_module_version": "1.5.0",
      "model_name": "ProgressStyleModel",
      "state": {
       "description_width": ""
      }
     },
     "53b1b28294c84c06ba26a4a3d0e7f81e": {
      "model_module": "@jupyter-widgets/controls",
      "model_module_version": "1.5.0",
      "model_name": "HTMLModel",
      "state": {
       "layout": "IPY_MODEL_a210672a65374ccca4395a425c3bd323",
       "style": "IPY_MODEL_e25259e0fff147d78d59be0e3c70e58f",
       "value": "  7% 7093/100000 [00:00&lt;00:15, 6077.18it/s]"
      }
     },
     "53bd210042b24bf082124a90958afe68": {
      "model_module": "@jupyter-widgets/controls",
      "model_module_version": "1.5.0",
      "model_name": "HTMLModel",
      "state": {
       "layout": "IPY_MODEL_24edc7c091624d7f94abb19b9815e9ec",
       "style": "IPY_MODEL_9a09277c76bd445d984ee1c19b877b00",
       "value": "100% 1000000/1000000 [00:04&lt;00:00, 220198.32it/s]"
      }
     },
     "53c2a2e3987e46ce8f3b8bf8224a1609": {
      "model_module": "@jupyter-widgets/base",
      "model_module_version": "1.2.0",
      "model_name": "LayoutModel",
      "state": {}
     },
     "54c50652a1454e12bac23806d4410549": {
      "model_module": "@jupyter-widgets/controls",
      "model_module_version": "1.5.0",
      "model_name": "HBoxModel",
      "state": {
       "children": [
        "IPY_MODEL_7f930c74292647068f7f70ecb114c5a2",
        "IPY_MODEL_d981a8cae6044b638d47238f106ae0c5"
       ],
       "layout": "IPY_MODEL_26db732ee7db4ea9b18add531aa635da"
      }
     },
     "55a0842b2cec4ed1a3d66f1d9a4a0e8f": {
      "model_module": "@jupyter-widgets/controls",
      "model_module_version": "1.5.0",
      "model_name": "DescriptionStyleModel",
      "state": {
       "description_width": ""
      }
     },
     "55f804a76a8445c0aa97d823b55d68ff": {
      "model_module": "@jupyter-widgets/controls",
      "model_module_version": "1.5.0",
      "model_name": "ProgressStyleModel",
      "state": {
       "description_width": ""
      }
     },
     "5631cb39363840319b939fe4f47147e5": {
      "model_module": "@jupyter-widgets/base",
      "model_module_version": "1.2.0",
      "model_name": "LayoutModel",
      "state": {}
     },
     "5651ec692c264dc6b94cbd2a9fb42bb3": {
      "model_module": "@jupyter-widgets/controls",
      "model_module_version": "1.5.0",
      "model_name": "HBoxModel",
      "state": {
       "children": [
        "IPY_MODEL_6e41c21eee68413a96dc1264f78d2c5a",
        "IPY_MODEL_36aadc712e844afa88533e3ba1d0bd69"
       ],
       "layout": "IPY_MODEL_cf0d616fda604b49b4690ceb30d41f2b"
      }
     },
     "5674b742a7af4e25ab6657321e361918": {
      "model_module": "@jupyter-widgets/base",
      "model_module_version": "1.2.0",
      "model_name": "LayoutModel",
      "state": {}
     },
     "568918958e104f5e87d86b1cb0ec1911": {
      "model_module": "@jupyter-widgets/controls",
      "model_module_version": "1.5.0",
      "model_name": "DescriptionStyleModel",
      "state": {
       "description_width": ""
      }
     },
     "56dec07c2b6a4a17a757831a1f18fd11": {
      "model_module": "@jupyter-widgets/controls",
      "model_module_version": "1.5.0",
      "model_name": "HBoxModel",
      "state": {
       "children": [
        "IPY_MODEL_c5bc377527da43bc822ce117d1efe81e",
        "IPY_MODEL_14db082983ce46b89799dbd37fc5e9a1"
       ],
       "layout": "IPY_MODEL_a1a2596fef174ded8e357c83d0474a06"
      }
     },
     "57244a7621274d879a315149bab67a7f": {
      "model_module": "@jupyter-widgets/controls",
      "model_module_version": "1.5.0",
      "model_name": "IntProgressModel",
      "state": {
       "bar_style": "success",
       "layout": "IPY_MODEL_8aefaf498dff442d9c2c56b99b68849d",
       "max": 500000,
       "style": "IPY_MODEL_44cd2b0551874c86abebef9d8ff93781",
       "value": 500000
      }
     },
     "5773ce3d042f47a2a69d09b722e48e91": {
      "model_module": "@jupyter-widgets/controls",
      "model_module_version": "1.5.0",
      "model_name": "IntProgressModel",
      "state": {
       "bar_style": "success",
       "layout": "IPY_MODEL_7624501cfbb04a758c74706ad780126d",
       "max": 1000000,
       "style": "IPY_MODEL_bbd13148942a47ff90b1e0dcb937173a",
       "value": 1000000
      }
     },
     "588674b1aca542eabf89e3ffc2b4202c": {
      "model_module": "@jupyter-widgets/base",
      "model_module_version": "1.2.0",
      "model_name": "LayoutModel",
      "state": {}
     },
     "595f192f7cbe47998db60a44d372f28b": {
      "model_module": "@jupyter-widgets/controls",
      "model_module_version": "1.5.0",
      "model_name": "HTMLModel",
      "state": {
       "layout": "IPY_MODEL_06e8e1f7e8094015be2dd0e861df5f03",
       "style": "IPY_MODEL_1c40de018282490c9c1aa57a86a0753e",
       "value": "100% 1000000/1000000 [00:05&lt;00:00, 196066.70it/s]"
      }
     },
     "5974b6d607e44fb5810656f241fa2348": {
      "model_module": "@jupyter-widgets/base",
      "model_module_version": "1.2.0",
      "model_name": "LayoutModel",
      "state": {}
     },
     "5a147fe06be445d79cc04e59b99e70ae": {
      "model_module": "@jupyter-widgets/controls",
      "model_module_version": "1.5.0",
      "model_name": "ProgressStyleModel",
      "state": {
       "description_width": ""
      }
     },
     "5b1282e5f81b462d921f574c9d648ba2": {
      "model_module": "@jupyter-widgets/base",
      "model_module_version": "1.2.0",
      "model_name": "LayoutModel",
      "state": {}
     },
     "5bf6239a5226420db69df30884470305": {
      "model_module": "@jupyter-widgets/controls",
      "model_module_version": "1.5.0",
      "model_name": "IntProgressModel",
      "state": {
       "bar_style": "success",
       "layout": "IPY_MODEL_762f5897819343c2b6b8477f3d42d9e9",
       "max": 100000,
       "style": "IPY_MODEL_9efea4c4f8f440d7841906b1644bf628",
       "value": 100000
      }
     },
     "5c3df1b8d154433db03f1aab1a124338": {
      "model_module": "@jupyter-widgets/controls",
      "model_module_version": "1.5.0",
      "model_name": "HTMLModel",
      "state": {
       "layout": "IPY_MODEL_2b2a76c2b79f43a291e77130db286298",
       "style": "IPY_MODEL_9814d1c1635c472d87a3cc682e2a3c9c",
       "value": "100% 1000000/1000000 [00:04&lt;00:00, 216700.24it/s]"
      }
     },
     "5c6d03ba6fd34dfe98a7a58164b1a657": {
      "model_module": "@jupyter-widgets/controls",
      "model_module_version": "1.5.0",
      "model_name": "HBoxModel",
      "state": {
       "children": [
        "IPY_MODEL_3a0786ec0e6f4936885e35bae7f8ce16",
        "IPY_MODEL_aa3624b4022b4cf780fe77a4d023a032"
       ],
       "layout": "IPY_MODEL_1383009c49a94f0e825c637b59729138"
      }
     },
     "5ca2788893ed494bad8a7b6aea8a7932": {
      "model_module": "@jupyter-widgets/controls",
      "model_module_version": "1.5.0",
      "model_name": "IntProgressModel",
      "state": {
       "bar_style": "success",
       "layout": "IPY_MODEL_37fb2f5840be4ac5afa1b5ff727c6759",
       "max": 100000,
       "style": "IPY_MODEL_87c72632551840579b8b91b9e0849040",
       "value": 100000
      }
     },
     "5cc0e37756c040e88b1accd1128ead0f": {
      "model_module": "@jupyter-widgets/controls",
      "model_module_version": "1.5.0",
      "model_name": "IntProgressModel",
      "state": {
       "bar_style": "success",
       "layout": "IPY_MODEL_bde50fd7b66f4282a32d40976f5659b6",
       "max": 1000000,
       "style": "IPY_MODEL_8279dbc16f2249e78f914da61334c42c",
       "value": 1000000
      }
     },
     "5da503c31e2140938854cf3a1b3a4892": {
      "model_module": "@jupyter-widgets/base",
      "model_module_version": "1.2.0",
      "model_name": "LayoutModel",
      "state": {}
     },
     "5e57dc84f5ff43ee9db70cdb5eb07763": {
      "model_module": "@jupyter-widgets/controls",
      "model_module_version": "1.5.0",
      "model_name": "HBoxModel",
      "state": {
       "children": [
        "IPY_MODEL_f7bc4ab58bee4909b326f7bfefd07163",
        "IPY_MODEL_a853423ab9454aef929bc93eed156cfd"
       ],
       "layout": "IPY_MODEL_edd1d3b255824f43adcd39cc52afdced"
      }
     },
     "5e62d73eeabf49169530df2b9744da24": {
      "model_module": "@jupyter-widgets/controls",
      "model_module_version": "1.5.0",
      "model_name": "HBoxModel",
      "state": {
       "children": [
        "IPY_MODEL_c6c693681e49433680e2a90f0f5912ee",
        "IPY_MODEL_c69a871b21ea4bf098f9c5c71f3cdb49"
       ],
       "layout": "IPY_MODEL_b612bab6b3ea4f5db2b22cbe1a0c3af4"
      }
     },
     "5ea0b211c315499ab5e355a2e04d32d0": {
      "model_module": "@jupyter-widgets/controls",
      "model_module_version": "1.5.0",
      "model_name": "IntProgressModel",
      "state": {
       "bar_style": "success",
       "layout": "IPY_MODEL_1de135fd5597424391112ebe726b4d37",
       "max": 100000,
       "style": "IPY_MODEL_0bc34cf8d3ea4b6db3ba79706336d7e6",
       "value": 100000
      }
     },
     "5ec524ffa86a43d083decd2f9954e6ee": {
      "model_module": "@jupyter-widgets/controls",
      "model_module_version": "1.5.0",
      "model_name": "ProgressStyleModel",
      "state": {
       "description_width": ""
      }
     },
     "5ecba137ef204589b8fae1f37d898b7d": {
      "model_module": "@jupyter-widgets/controls",
      "model_module_version": "1.5.0",
      "model_name": "HBoxModel",
      "state": {
       "children": [
        "IPY_MODEL_5ca2788893ed494bad8a7b6aea8a7932",
        "IPY_MODEL_16a6c83e083d4832898b770364df956d"
       ],
       "layout": "IPY_MODEL_0180fc5a8af049f88368088ee86f1c92"
      }
     },
     "5f02def2aa874d4cb0ad0be642ab8994": {
      "model_module": "@jupyter-widgets/controls",
      "model_module_version": "1.5.0",
      "model_name": "DescriptionStyleModel",
      "state": {
       "description_width": ""
      }
     },
     "5fa932df62a24ab5b2168225d095b41f": {
      "model_module": "@jupyter-widgets/controls",
      "model_module_version": "1.5.0",
      "model_name": "ProgressStyleModel",
      "state": {
       "description_width": ""
      }
     },
     "5facf3b0734944e991be6a7eacbfad99": {
      "model_module": "@jupyter-widgets/base",
      "model_module_version": "1.2.0",
      "model_name": "LayoutModel",
      "state": {}
     },
     "6058e945be254b58b19aa606d9a6f847": {
      "model_module": "@jupyter-widgets/controls",
      "model_module_version": "1.5.0",
      "model_name": "HBoxModel",
      "state": {
       "children": [
        "IPY_MODEL_f5e4ac0558fc4ac2a5d0b0305b2d7816",
        "IPY_MODEL_c9cf84e6f2e94c8897594528f8e6953b"
       ],
       "layout": "IPY_MODEL_fdf2cd8a405f4da6836ed263c7e010cf"
      }
     },
     "60e15952330f40c2b33e9ce6ef3f21d7": {
      "model_module": "@jupyter-widgets/controls",
      "model_module_version": "1.5.0",
      "model_name": "IntProgressModel",
      "state": {
       "bar_style": "success",
       "layout": "IPY_MODEL_b198789758a443818e7e159ad0e948ba",
       "max": 100000,
       "style": "IPY_MODEL_bc36f12d5c184f39840d563b003229dc",
       "value": 100000
      }
     },
     "6287d631ca6041548068e9b5c75ad617": {
      "model_module": "@jupyter-widgets/controls",
      "model_module_version": "1.5.0",
      "model_name": "HTMLModel",
      "state": {
       "layout": "IPY_MODEL_bb5803281300422191ea88e2dd1264cd",
       "style": "IPY_MODEL_f534f431931d475dae0a83ac1ea78181",
       "value": "100% 1000000/1000000 [00:04&lt;00:00, 216071.75it/s]"
      }
     },
     "62ec71d42b35450aa20c0de598a7b4e5": {
      "model_module": "@jupyter-widgets/base",
      "model_module_version": "1.2.0",
      "model_name": "LayoutModel",
      "state": {}
     },
     "6355d4e63b8a4f9bb686405ba64225ed": {
      "model_module": "@jupyter-widgets/base",
      "model_module_version": "1.2.0",
      "model_name": "LayoutModel",
      "state": {}
     },
     "638c2069d5bd44f18272803fc6fc8e87": {
      "model_module": "@jupyter-widgets/controls",
      "model_module_version": "1.5.0",
      "model_name": "HBoxModel",
      "state": {
       "children": [
        "IPY_MODEL_30a65f0e333b4c3d85f504de1a75662e",
        "IPY_MODEL_6a82b4262ce84473ab3b3a22eeababbc"
       ],
       "layout": "IPY_MODEL_3c7dd7f5f93149e18d0f8cf93c4ccf4f"
      }
     },
     "63e43ce8ad1b42f793bec9ab91e9817e": {
      "model_module": "@jupyter-widgets/controls",
      "model_module_version": "1.5.0",
      "model_name": "HBoxModel",
      "state": {
       "children": [
        "IPY_MODEL_83772cec004c43f08d42c5565907c97c",
        "IPY_MODEL_dc4db23031dd4b46bec924aabd374c78"
       ],
       "layout": "IPY_MODEL_a4a75f5ab5264a25b07db2e40574307f"
      }
     },
     "64172925726c4e4ead3ea5819da5eddd": {
      "model_module": "@jupyter-widgets/controls",
      "model_module_version": "1.5.0",
      "model_name": "ProgressStyleModel",
      "state": {
       "description_width": ""
      }
     },
     "642a48f5d3ba4f2f895e6e660004c178": {
      "model_module": "@jupyter-widgets/base",
      "model_module_version": "1.2.0",
      "model_name": "LayoutModel",
      "state": {}
     },
     "6431086555754116abef320a009a95f9": {
      "model_module": "@jupyter-widgets/base",
      "model_module_version": "1.2.0",
      "model_name": "LayoutModel",
      "state": {}
     },
     "649948c1a59048a29c6a63c3647ea5dc": {
      "model_module": "@jupyter-widgets/controls",
      "model_module_version": "1.5.0",
      "model_name": "DescriptionStyleModel",
      "state": {
       "description_width": ""
      }
     },
     "64b1ed5d132548f4aa0d54ab40822279": {
      "model_module": "@jupyter-widgets/controls",
      "model_module_version": "1.5.0",
      "model_name": "DescriptionStyleModel",
      "state": {
       "description_width": ""
      }
     },
     "67ca36b4cd1043d09b8aa565766f468d": {
      "model_module": "@jupyter-widgets/controls",
      "model_module_version": "1.5.0",
      "model_name": "IntProgressModel",
      "state": {
       "bar_style": "success",
       "layout": "IPY_MODEL_43a08bfb1dfd4ae4bab01d4697151224",
       "max": 1000000,
       "style": "IPY_MODEL_5ec524ffa86a43d083decd2f9954e6ee",
       "value": 1000000
      }
     },
     "687d6daaef2b4c8bbe5a60cc7210c8f1": {
      "model_module": "@jupyter-widgets/controls",
      "model_module_version": "1.5.0",
      "model_name": "ProgressStyleModel",
      "state": {
       "description_width": ""
      }
     },
     "688867c8d4bd402282e92394aad36e0b": {
      "model_module": "@jupyter-widgets/base",
      "model_module_version": "1.2.0",
      "model_name": "LayoutModel",
      "state": {}
     },
     "68b0da2bb93141708a82e2e679eee55e": {
      "model_module": "@jupyter-widgets/controls",
      "model_module_version": "1.5.0",
      "model_name": "HTMLModel",
      "state": {
       "layout": "IPY_MODEL_4e9dc8e105114632be130ecb632321d8",
       "style": "IPY_MODEL_26b75c23bde145f596c9c396fd516b73",
       "value": "100% 100000/100000 [00:06&lt;00:00, 14820.20it/s]"
      }
     },
     "6918ad7b5a6c4c22bce8451e125034dd": {
      "model_module": "@jupyter-widgets/controls",
      "model_module_version": "1.5.0",
      "model_name": "ProgressStyleModel",
      "state": {
       "description_width": ""
      }
     },
     "695367e52cc04cb690186172b736a5e6": {
      "model_module": "@jupyter-widgets/base",
      "model_module_version": "1.2.0",
      "model_name": "LayoutModel",
      "state": {}
     },
     "699aee2a24b64cf5bf19e078f9facb91": {
      "model_module": "@jupyter-widgets/base",
      "model_module_version": "1.2.0",
      "model_name": "LayoutModel",
      "state": {}
     },
     "69da43e6cffc448bb00a8917179ca198": {
      "model_module": "@jupyter-widgets/controls",
      "model_module_version": "1.5.0",
      "model_name": "DescriptionStyleModel",
      "state": {
       "description_width": ""
      }
     },
     "6a18d9278ce749b68be5e2cea37adcf2": {
      "model_module": "@jupyter-widgets/controls",
      "model_module_version": "1.5.0",
      "model_name": "HTMLModel",
      "state": {
       "layout": "IPY_MODEL_2123d1f5b22e4c0b8e38c87b48ce892f",
       "style": "IPY_MODEL_4c3beeeedc8149a1ae1f6942e63e13e2",
       "value": "  7% 7006/100000 [00:00&lt;00:15, 6156.84it/s]"
      }
     },
     "6a82b4262ce84473ab3b3a22eeababbc": {
      "model_module": "@jupyter-widgets/controls",
      "model_module_version": "1.5.0",
      "model_name": "HTMLModel",
      "state": {
       "layout": "IPY_MODEL_bc2ecaff06d64f3fa4ddd3316975bd34",
       "style": "IPY_MODEL_40943bbc5dc14fc6a4d516f4f2e15b55",
       "value": "100% 1000000/1000000 [00:10&lt;00:00, 93738.78it/s]"
      }
     },
     "6b5d3484f1d045779ac639faf360a78b": {
      "model_module": "@jupyter-widgets/base",
      "model_module_version": "1.2.0",
      "model_name": "LayoutModel",
      "state": {}
     },
     "6b65a311bf8c446faecf54a244234dd1": {
      "model_module": "@jupyter-widgets/base",
      "model_module_version": "1.2.0",
      "model_name": "LayoutModel",
      "state": {}
     },
     "6bf80221a46b445989179c03c7d19812": {
      "model_module": "@jupyter-widgets/base",
      "model_module_version": "1.2.0",
      "model_name": "LayoutModel",
      "state": {}
     },
     "6c0acb1621744a78a002d4beab38ac04": {
      "model_module": "@jupyter-widgets/controls",
      "model_module_version": "1.5.0",
      "model_name": "ProgressStyleModel",
      "state": {
       "description_width": ""
      }
     },
     "6c830ff15c624916b2a07ab8235d5226": {
      "model_module": "@jupyter-widgets/controls",
      "model_module_version": "1.5.0",
      "model_name": "HTMLModel",
      "state": {
       "layout": "IPY_MODEL_4d82e3e6f2264fe59f81b3cb29ae0864",
       "style": "IPY_MODEL_e8fe18d2d33544f894d8821fe79b2fa3",
       "value": "100% 100000/100000 [00:06&lt;00:00, 14355.82it/s]"
      }
     },
     "6cb9ec1c54294f0a85de9c6ee0f4cd9b": {
      "model_module": "@jupyter-widgets/controls",
      "model_module_version": "1.5.0",
      "model_name": "HTMLModel",
      "state": {
       "layout": "IPY_MODEL_afd871b1030c498db645ef5dbabc3bc0",
       "style": "IPY_MODEL_e51c2b08256a4d4db035f524cd2f89ef",
       "value": "100% 100000/100000 [00:11&lt;00:00, 9073.75it/s]"
      }
     },
     "6d37e48f62cc433090f8f4ea764f0caf": {
      "model_module": "@jupyter-widgets/controls",
      "model_module_version": "1.5.0",
      "model_name": "IntProgressModel",
      "state": {
       "bar_style": "success",
       "layout": "IPY_MODEL_af89be4ff047457d9605555d61d051a0",
       "max": 1000000,
       "style": "IPY_MODEL_be48fa3f9cbe4bb8a5efc6bfdd48a72f",
       "value": 1000000
      }
     },
     "6e41c21eee68413a96dc1264f78d2c5a": {
      "model_module": "@jupyter-widgets/controls",
      "model_module_version": "1.5.0",
      "model_name": "IntProgressModel",
      "state": {
       "bar_style": "success",
       "layout": "IPY_MODEL_b52fe4e2c5914b98b5e2b4edded8d530",
       "max": 1000000,
       "style": "IPY_MODEL_dd1e4038d3a7485fbf8e62ae01d7ebb7",
       "value": 1000000
      }
     },
     "6ec24db576a34b09953cdcf53429c6c8": {
      "model_module": "@jupyter-widgets/controls",
      "model_module_version": "1.5.0",
      "model_name": "ProgressStyleModel",
      "state": {
       "description_width": ""
      }
     },
     "7065ed658c734a94893444c4645c7fc7": {
      "model_module": "@jupyter-widgets/controls",
      "model_module_version": "1.5.0",
      "model_name": "ProgressStyleModel",
      "state": {
       "description_width": ""
      }
     },
     "70c2d65162ce47ae86c3bb0c88d482d1": {
      "model_module": "@jupyter-widgets/controls",
      "model_module_version": "1.5.0",
      "model_name": "ProgressStyleModel",
      "state": {
       "description_width": ""
      }
     },
     "71b1679aa86748e5a5185d1aef50df9b": {
      "model_module": "@jupyter-widgets/base",
      "model_module_version": "1.2.0",
      "model_name": "LayoutModel",
      "state": {}
     },
     "72505b7e5698478caa74e6553f70449e": {
      "model_module": "@jupyter-widgets/controls",
      "model_module_version": "1.5.0",
      "model_name": "DescriptionStyleModel",
      "state": {
       "description_width": ""
      }
     },
     "7304305fbeb9458d8b1c4c6d75398b7c": {
      "model_module": "@jupyter-widgets/controls",
      "model_module_version": "1.5.0",
      "model_name": "HBoxModel",
      "state": {
       "children": [
        "IPY_MODEL_5cc0e37756c040e88b1accd1128ead0f",
        "IPY_MODEL_aceb03e39a564d499cc7670f4989d0af"
       ],
       "layout": "IPY_MODEL_20f6b76651e248b6a74429ac8e56ada6"
      }
     },
     "7442e971516d4bd2bb1135cde7753276": {
      "model_module": "@jupyter-widgets/base",
      "model_module_version": "1.2.0",
      "model_name": "LayoutModel",
      "state": {}
     },
     "75910e8b5c5041d0b55203c9fbc78b5a": {
      "model_module": "@jupyter-widgets/base",
      "model_module_version": "1.2.0",
      "model_name": "LayoutModel",
      "state": {}
     },
     "761a9836e2f0438bb1161bb0641373e4": {
      "model_module": "@jupyter-widgets/controls",
      "model_module_version": "1.5.0",
      "model_name": "HBoxModel",
      "state": {
       "children": [
        "IPY_MODEL_23dbe501149c44eebe558997c0338459",
        "IPY_MODEL_9bdb7536edb14892adad1d76843e9a54"
       ],
       "layout": "IPY_MODEL_7e2e777f94fe456f9d875886796b520f"
      }
     },
     "7624501cfbb04a758c74706ad780126d": {
      "model_module": "@jupyter-widgets/base",
      "model_module_version": "1.2.0",
      "model_name": "LayoutModel",
      "state": {}
     },
     "762bd1f593d44c6483e19ee74f35fc05": {
      "model_module": "@jupyter-widgets/controls",
      "model_module_version": "1.5.0",
      "model_name": "HTMLModel",
      "state": {
       "layout": "IPY_MODEL_80d0803550bf4c5bbe0243470296342c",
       "style": "IPY_MODEL_7f1fec416edb4bc39c06d0e6977f0989",
       "value": "100% 1000000/1000000 [01:01&lt;00:00, 16159.53it/s]"
      }
     },
     "762f5897819343c2b6b8477f3d42d9e9": {
      "model_module": "@jupyter-widgets/base",
      "model_module_version": "1.2.0",
      "model_name": "LayoutModel",
      "state": {}
     },
     "763ea1eeca6243b095d966eb0ec33852": {
      "model_module": "@jupyter-widgets/base",
      "model_module_version": "1.2.0",
      "model_name": "LayoutModel",
      "state": {}
     },
     "7647616e6f764d1fa14fe122431543c8": {
      "model_module": "@jupyter-widgets/controls",
      "model_module_version": "1.5.0",
      "model_name": "DescriptionStyleModel",
      "state": {
       "description_width": ""
      }
     },
     "76ec28a2059c4f72b51ff61655b05cad": {
      "model_module": "@jupyter-widgets/controls",
      "model_module_version": "1.5.0",
      "model_name": "DescriptionStyleModel",
      "state": {
       "description_width": ""
      }
     },
     "76fb1e2db3004bbeb7d5a83c6eea4792": {
      "model_module": "@jupyter-widgets/controls",
      "model_module_version": "1.5.0",
      "model_name": "HTMLModel",
      "state": {
       "layout": "IPY_MODEL_b04a8b385be24c4ab12dedec307f3a4f",
       "style": "IPY_MODEL_a5bc161eb5a74dc0afc47bbc7279b078",
       "value": "100% 1000000/1000000 [00:09&lt;00:00, 102853.08it/s]"
      }
     },
     "77f19ec77ea644359150405d32c8f6c4": {
      "model_module": "@jupyter-widgets/controls",
      "model_module_version": "1.5.0",
      "model_name": "HBoxModel",
      "state": {
       "children": [
        "IPY_MODEL_57244a7621274d879a315149bab67a7f",
        "IPY_MODEL_fcec01eea71844ddbf341df4f17125fa"
       ],
       "layout": "IPY_MODEL_07178c4f74d2477a940ccd619e00cbe4"
      }
     },
     "7a61895f0b624bb394934536af776935": {
      "model_module": "@jupyter-widgets/controls",
      "model_module_version": "1.5.0",
      "model_name": "DescriptionStyleModel",
      "state": {
       "description_width": ""
      }
     },
     "7b5cd4eac2894eb199d6152b688b3750": {
      "model_module": "@jupyter-widgets/controls",
      "model_module_version": "1.5.0",
      "model_name": "HTMLModel",
      "state": {
       "layout": "IPY_MODEL_4617b855c6564fe8a4c9acaae7c9c380",
       "style": "IPY_MODEL_72505b7e5698478caa74e6553f70449e",
       "value": "100% 1000000/1000000 [01:02&lt;00:00, 15993.73it/s]"
      }
     },
     "7b938d2dbb7d4827af752efc9d39b78e": {
      "model_module": "@jupyter-widgets/base",
      "model_module_version": "1.2.0",
      "model_name": "LayoutModel",
      "state": {}
     },
     "7c4e60932d5a4bac838d0f08da979571": {
      "model_module": "@jupyter-widgets/controls",
      "model_module_version": "1.5.0",
      "model_name": "HTMLModel",
      "state": {
       "layout": "IPY_MODEL_84dd60f8c0dd45e1a19b378ab899b32f",
       "style": "IPY_MODEL_649948c1a59048a29c6a63c3647ea5dc",
       "value": "100% 100000/100000 [00:11&lt;00:00, 8994.18it/s]"
      }
     },
     "7d22f137254b45798d0cdd131b9ba27b": {
      "model_module": "@jupyter-widgets/controls",
      "model_module_version": "1.5.0",
      "model_name": "DescriptionStyleModel",
      "state": {
       "description_width": ""
      }
     },
     "7deefbef22064cb9a1583d9b2f99131c": {
      "model_module": "@jupyter-widgets/base",
      "model_module_version": "1.2.0",
      "model_name": "LayoutModel",
      "state": {}
     },
     "7e2e777f94fe456f9d875886796b520f": {
      "model_module": "@jupyter-widgets/base",
      "model_module_version": "1.2.0",
      "model_name": "LayoutModel",
      "state": {}
     },
     "7f1fec416edb4bc39c06d0e6977f0989": {
      "model_module": "@jupyter-widgets/controls",
      "model_module_version": "1.5.0",
      "model_name": "DescriptionStyleModel",
      "state": {
       "description_width": ""
      }
     },
     "7f33b4c7489144d58b9ffa046fe43abe": {
      "model_module": "@jupyter-widgets/controls",
      "model_module_version": "1.5.0",
      "model_name": "DescriptionStyleModel",
      "state": {
       "description_width": ""
      }
     },
     "7f930c74292647068f7f70ecb114c5a2": {
      "model_module": "@jupyter-widgets/controls",
      "model_module_version": "1.5.0",
      "model_name": "IntProgressModel",
      "state": {
       "bar_style": "danger",
       "layout": "IPY_MODEL_02358ba74dc74a9a8db3df19d1470e9d",
       "max": 100000,
       "style": "IPY_MODEL_ab88a4adfc68475ca09aa9be48ae4256",
       "value": 6817
      }
     },
     "7fe52fa4e772407b86249b4584d767bb": {
      "model_module": "@jupyter-widgets/controls",
      "model_module_version": "1.5.0",
      "model_name": "IntProgressModel",
      "state": {
       "bar_style": "success",
       "layout": "IPY_MODEL_bbf52b2a3822406288b8edd27f026c66",
       "max": 1000000,
       "style": "IPY_MODEL_d761ca91ef59402e97bc577567bf5ad0",
       "value": 1000000
      }
     },
     "805b2c61f4a4409c956594c78db07eae": {
      "model_module": "@jupyter-widgets/controls",
      "model_module_version": "1.5.0",
      "model_name": "ProgressStyleModel",
      "state": {
       "description_width": ""
      }
     },
     "806303a600194ec784439e5afda4e008": {
      "model_module": "@jupyter-widgets/base",
      "model_module_version": "1.2.0",
      "model_name": "LayoutModel",
      "state": {}
     },
     "80d0803550bf4c5bbe0243470296342c": {
      "model_module": "@jupyter-widgets/base",
      "model_module_version": "1.2.0",
      "model_name": "LayoutModel",
      "state": {}
     },
     "80f694bf8aad443e8f8c9fc4464953a4": {
      "model_module": "@jupyter-widgets/base",
      "model_module_version": "1.2.0",
      "model_name": "LayoutModel",
      "state": {}
     },
     "8136483bd4f84902aff52a8db6acd37a": {
      "model_module": "@jupyter-widgets/controls",
      "model_module_version": "1.5.0",
      "model_name": "HTMLModel",
      "state": {
       "layout": "IPY_MODEL_d81070e25e0840e3bd3e832cd552bff4",
       "style": "IPY_MODEL_8b2e1223315545838f2aac5ddacbf418",
       "value": "100% 1000000/1000000 [00:05&lt;00:00, 197548.34it/s]"
      }
     },
     "81513233c174488890b96b000818529d": {
      "model_module": "@jupyter-widgets/controls",
      "model_module_version": "1.5.0",
      "model_name": "DescriptionStyleModel",
      "state": {
       "description_width": ""
      }
     },
     "81694868537341798a0a4eb50111e824": {
      "model_module": "@jupyter-widgets/controls",
      "model_module_version": "1.5.0",
      "model_name": "DescriptionStyleModel",
      "state": {
       "description_width": ""
      }
     },
     "8234159ecc91452492a8cfc2034c38a8": {
      "model_module": "@jupyter-widgets/controls",
      "model_module_version": "1.5.0",
      "model_name": "ProgressStyleModel",
      "state": {
       "description_width": ""
      }
     },
     "824d633a167345a0916aeff6f3b0f4e3": {
      "model_module": "@jupyter-widgets/controls",
      "model_module_version": "1.5.0",
      "model_name": "HBoxModel",
      "state": {
       "children": [
        "IPY_MODEL_13abae1b9ff14e91bcc80dac400b1f7f",
        "IPY_MODEL_d1cdfc1677524afa83ac49401aa7b0e1"
       ],
       "layout": "IPY_MODEL_5674b742a7af4e25ab6657321e361918"
      }
     },
     "8279dbc16f2249e78f914da61334c42c": {
      "model_module": "@jupyter-widgets/controls",
      "model_module_version": "1.5.0",
      "model_name": "ProgressStyleModel",
      "state": {
       "description_width": ""
      }
     },
     "828e849fc4c74097a26dde9fe4d89ae5": {
      "model_module": "@jupyter-widgets/controls",
      "model_module_version": "1.5.0",
      "model_name": "IntProgressModel",
      "state": {
       "bar_style": "success",
       "layout": "IPY_MODEL_99c78323e5684a4c8d2b12b423bfe1da",
       "max": 1000000,
       "style": "IPY_MODEL_c14b1bf3a14e4691b9664ddf6dcf94c9",
       "value": 1000000
      }
     },
     "82e44a6f6a6649b28d16b74b00844ff5": {
      "model_module": "@jupyter-widgets/base",
      "model_module_version": "1.2.0",
      "model_name": "LayoutModel",
      "state": {}
     },
     "83772cec004c43f08d42c5565907c97c": {
      "model_module": "@jupyter-widgets/controls",
      "model_module_version": "1.5.0",
      "model_name": "IntProgressModel",
      "state": {
       "bar_style": "success",
       "layout": "IPY_MODEL_357651abe0704163b4043b3e80f4ab02",
       "max": 1000000,
       "style": "IPY_MODEL_feb13c4ca12d42bc991338fffcedb155",
       "value": 1000000
      }
     },
     "84dd60f8c0dd45e1a19b378ab899b32f": {
      "model_module": "@jupyter-widgets/base",
      "model_module_version": "1.2.0",
      "model_name": "LayoutModel",
      "state": {}
     },
     "85e8aff3d6b6499b9f1e9e566f8d4cca": {
      "model_module": "@jupyter-widgets/controls",
      "model_module_version": "1.5.0",
      "model_name": "ProgressStyleModel",
      "state": {
       "description_width": ""
      }
     },
     "860f006c01524e5e93db89b3b14e9aea": {
      "model_module": "@jupyter-widgets/base",
      "model_module_version": "1.2.0",
      "model_name": "LayoutModel",
      "state": {}
     },
     "862e6e91dfcf4bed9f459624fb763aa9": {
      "model_module": "@jupyter-widgets/controls",
      "model_module_version": "1.5.0",
      "model_name": "IntProgressModel",
      "state": {
       "bar_style": "success",
       "layout": "IPY_MODEL_267f19ff2cdf473f8c73845a690e7c1f",
       "max": 500000,
       "style": "IPY_MODEL_04f1f2c3e30f4f198a958deea8218034",
       "value": 500000
      }
     },
     "86c62bf945974aef9d27a95c72e74524": {
      "model_module": "@jupyter-widgets/base",
      "model_module_version": "1.2.0",
      "model_name": "LayoutModel",
      "state": {}
     },
     "87551c91754d40d28bfe02d376cf1140": {
      "model_module": "@jupyter-widgets/controls",
      "model_module_version": "1.5.0",
      "model_name": "ProgressStyleModel",
      "state": {
       "description_width": ""
      }
     },
     "87c72632551840579b8b91b9e0849040": {
      "model_module": "@jupyter-widgets/controls",
      "model_module_version": "1.5.0",
      "model_name": "ProgressStyleModel",
      "state": {
       "description_width": ""
      }
     },
     "87f02be2aa1a4fc8a9934cd3868e4664": {
      "model_module": "@jupyter-widgets/base",
      "model_module_version": "1.2.0",
      "model_name": "LayoutModel",
      "state": {}
     },
     "8810cfd60bda4a74bced9039b1faa0ff": {
      "model_module": "@jupyter-widgets/base",
      "model_module_version": "1.2.0",
      "model_name": "LayoutModel",
      "state": {}
     },
     "8955e55589514512a0ad15095e3df3ee": {
      "model_module": "@jupyter-widgets/base",
      "model_module_version": "1.2.0",
      "model_name": "LayoutModel",
      "state": {}
     },
     "8968d9a0755f460b967e65fd43090a9d": {
      "model_module": "@jupyter-widgets/controls",
      "model_module_version": "1.5.0",
      "model_name": "IntProgressModel",
      "state": {
       "bar_style": "danger",
       "layout": "IPY_MODEL_f6f0cd0a9196464285ee89998edb699f",
       "max": 100000,
       "style": "IPY_MODEL_805b2c61f4a4409c956594c78db07eae",
       "value": 7093
      }
     },
     "8aefaf498dff442d9c2c56b99b68849d": {
      "model_module": "@jupyter-widgets/base",
      "model_module_version": "1.2.0",
      "model_name": "LayoutModel",
      "state": {}
     },
     "8b2e1223315545838f2aac5ddacbf418": {
      "model_module": "@jupyter-widgets/controls",
      "model_module_version": "1.5.0",
      "model_name": "DescriptionStyleModel",
      "state": {
       "description_width": ""
      }
     },
     "8c75e2d8f6d5487e8cc8c9884d18d133": {
      "model_module": "@jupyter-widgets/controls",
      "model_module_version": "1.5.0",
      "model_name": "IntProgressModel",
      "state": {
       "bar_style": "success",
       "layout": "IPY_MODEL_a2a39431ff254affa7884ea95b3fd76f",
       "max": 100000,
       "style": "IPY_MODEL_53839183f28346aaa2f96293bd428658",
       "value": 100000
      }
     },
     "8c8c9eb97fc94734bd6239748cb68fa5": {
      "model_module": "@jupyter-widgets/controls",
      "model_module_version": "1.5.0",
      "model_name": "DescriptionStyleModel",
      "state": {
       "description_width": ""
      }
     },
     "8cff96103e7a4d07b1e97c90129e7678": {
      "model_module": "@jupyter-widgets/base",
      "model_module_version": "1.2.0",
      "model_name": "LayoutModel",
      "state": {}
     },
     "8e18879dde5d42b2b4fc34f241e37fde": {
      "model_module": "@jupyter-widgets/controls",
      "model_module_version": "1.5.0",
      "model_name": "ProgressStyleModel",
      "state": {
       "description_width": ""
      }
     },
     "8e46654237e44899a21d7378d580fa03": {
      "model_module": "@jupyter-widgets/controls",
      "model_module_version": "1.5.0",
      "model_name": "DescriptionStyleModel",
      "state": {
       "description_width": ""
      }
     },
     "8f3ff77140e4481ca8648a51ed887b7e": {
      "model_module": "@jupyter-widgets/controls",
      "model_module_version": "1.5.0",
      "model_name": "HTMLModel",
      "state": {
       "layout": "IPY_MODEL_80f694bf8aad443e8f8c9fc4464953a4",
       "style": "IPY_MODEL_2cbf9711bcf74fa0a1340590deb20b3a",
       "value": "100% 100000/100000 [00:11&lt;00:00, 8915.88it/s]"
      }
     },
     "8fb95ef643b04519852abbc35fb7e85a": {
      "model_module": "@jupyter-widgets/base",
      "model_module_version": "1.2.0",
      "model_name": "LayoutModel",
      "state": {}
     },
     "906c0f467b0244b79a5b5060955ad5c8": {
      "model_module": "@jupyter-widgets/controls",
      "model_module_version": "1.5.0",
      "model_name": "ProgressStyleModel",
      "state": {
       "description_width": ""
      }
     },
     "90bece7fc8264857ae371810ea111bdd": {
      "model_module": "@jupyter-widgets/base",
      "model_module_version": "1.2.0",
      "model_name": "LayoutModel",
      "state": {}
     },
     "91cb093e66b94cc9a9e4c06eaba23103": {
      "model_module": "@jupyter-widgets/base",
      "model_module_version": "1.2.0",
      "model_name": "LayoutModel",
      "state": {}
     },
     "920149a1f1694b3ea82c5ba5bbdfd7b8": {
      "model_module": "@jupyter-widgets/base",
      "model_module_version": "1.2.0",
      "model_name": "LayoutModel",
      "state": {}
     },
     "9221231126b54359934a6aafe8d80f09": {
      "model_module": "@jupyter-widgets/controls",
      "model_module_version": "1.5.0",
      "model_name": "ProgressStyleModel",
      "state": {
       "description_width": ""
      }
     },
     "929e5f0a1eda4be38de603f2bda41d2e": {
      "model_module": "@jupyter-widgets/controls",
      "model_module_version": "1.5.0",
      "model_name": "HBoxModel",
      "state": {
       "children": [
        "IPY_MODEL_eaaa10cf5cca45a5a85f45f19811460c",
        "IPY_MODEL_fd74004146f844fc92008c974473b8a9"
       ],
       "layout": "IPY_MODEL_6b65a311bf8c446faecf54a244234dd1"
      }
     },
     "9418247d008d4920b17802eb43ae6f40": {
      "model_module": "@jupyter-widgets/controls",
      "model_module_version": "1.5.0",
      "model_name": "HBoxModel",
      "state": {
       "children": [
        "IPY_MODEL_fab03f8bcb7248058d9d1cc639c07e9c",
        "IPY_MODEL_6c830ff15c624916b2a07ab8235d5226"
       ],
       "layout": "IPY_MODEL_272912df7fc14a76854f5863a6efb584"
      }
     },
     "945e3089cfdf40afab16ee4dcaeac214": {
      "model_module": "@jupyter-widgets/controls",
      "model_module_version": "1.5.0",
      "model_name": "ProgressStyleModel",
      "state": {
       "description_width": ""
      }
     },
     "9538fbb380f94c9d85a5f33c5c4cc149": {
      "model_module": "@jupyter-widgets/controls",
      "model_module_version": "1.5.0",
      "model_name": "ProgressStyleModel",
      "state": {
       "description_width": ""
      }
     },
     "962fa051348645ef83a4a763a9bfe54f": {
      "model_module": "@jupyter-widgets/controls",
      "model_module_version": "1.5.0",
      "model_name": "HTMLModel",
      "state": {
       "layout": "IPY_MODEL_62ec71d42b35450aa20c0de598a7b4e5",
       "style": "IPY_MODEL_41a6cc9b86cb4365b1fb34e1ead08a5f",
       "value": "100% 1000000/1000000 [00:11&lt;00:00, 84795.18it/s]"
      }
     },
     "96b98c3324cc403d83c80655454aab68": {
      "model_module": "@jupyter-widgets/base",
      "model_module_version": "1.2.0",
      "model_name": "LayoutModel",
      "state": {}
     },
     "96fc19322bd94fb68d78f8edafd7d020": {
      "model_module": "@jupyter-widgets/base",
      "model_module_version": "1.2.0",
      "model_name": "LayoutModel",
      "state": {}
     },
     "97005c57e78848cfb30d309ae3cf6e01": {
      "model_module": "@jupyter-widgets/controls",
      "model_module_version": "1.5.0",
      "model_name": "DescriptionStyleModel",
      "state": {
       "description_width": ""
      }
     },
     "9718ec93884c4ef5830a842aaa8cb9fc": {
      "model_module": "@jupyter-widgets/controls",
      "model_module_version": "1.5.0",
      "model_name": "HTMLModel",
      "state": {
       "layout": "IPY_MODEL_fefd6f3222404e5e9f6468f715a538e3",
       "style": "IPY_MODEL_41b788dce1374b68aa61c1823d04afae",
       "value": "100% 1000000/1000000 [01:49&lt;00:00, 9119.00it/s]"
      }
     },
     "97ca13c083db48c1910aa33bcee3189e": {
      "model_module": "@jupyter-widgets/controls",
      "model_module_version": "1.5.0",
      "model_name": "IntProgressModel",
      "state": {
       "bar_style": "success",
       "layout": "IPY_MODEL_dfa56fc5acd54218b03cbf51350bc26c",
       "max": 1000000,
       "style": "IPY_MODEL_ea3c8ea246064cf88f8275167b83d0aa",
       "value": 1000000
      }
     },
     "97cbcaee96ad4085ab7039dd10ab397c": {
      "model_module": "@jupyter-widgets/controls",
      "model_module_version": "1.5.0",
      "model_name": "ProgressStyleModel",
      "state": {
       "description_width": ""
      }
     },
     "97ec2f520d8f40fe9d2495fe9903ed8e": {
      "model_module": "@jupyter-widgets/base",
      "model_module_version": "1.2.0",
      "model_name": "LayoutModel",
      "state": {}
     },
     "9814d1c1635c472d87a3cc682e2a3c9c": {
      "model_module": "@jupyter-widgets/controls",
      "model_module_version": "1.5.0",
      "model_name": "DescriptionStyleModel",
      "state": {
       "description_width": ""
      }
     },
     "982d306ee0d444378e852f5c1c7d4ca5": {
      "model_module": "@jupyter-widgets/controls",
      "model_module_version": "1.5.0",
      "model_name": "HBoxModel",
      "state": {
       "children": [
        "IPY_MODEL_03cfa55c15484fd6b85d67e22e9bcd3c",
        "IPY_MODEL_df9f3c5052194b14ac399c2e7bd012dc"
       ],
       "layout": "IPY_MODEL_29c8208e114d42c4bcbec9c97ac8df45"
      }
     },
     "98f0b48043ba428d9b1e142bd5cf4a65": {
      "model_module": "@jupyter-widgets/controls",
      "model_module_version": "1.5.0",
      "model_name": "DescriptionStyleModel",
      "state": {
       "description_width": ""
      }
     },
     "99566b752a004a5f81283b3ffc2dca23": {
      "model_module": "@jupyter-widgets/base",
      "model_module_version": "1.2.0",
      "model_name": "LayoutModel",
      "state": {}
     },
     "9963602a64f642a5a85e8760068af865": {
      "model_module": "@jupyter-widgets/controls",
      "model_module_version": "1.5.0",
      "model_name": "DescriptionStyleModel",
      "state": {
       "description_width": ""
      }
     },
     "99c78323e5684a4c8d2b12b423bfe1da": {
      "model_module": "@jupyter-widgets/base",
      "model_module_version": "1.2.0",
      "model_name": "LayoutModel",
      "state": {}
     },
     "99fbf03aac1347ab963f8ca2b3669b39": {
      "model_module": "@jupyter-widgets/controls",
      "model_module_version": "1.5.0",
      "model_name": "HBoxModel",
      "state": {
       "children": [
        "IPY_MODEL_dc1767f3ad454d71aca04492c9847f61",
        "IPY_MODEL_76fb1e2db3004bbeb7d5a83c6eea4792"
       ],
       "layout": "IPY_MODEL_4fe9fec0054345fa82b0780290adff4d"
      }
     },
     "9a09277c76bd445d984ee1c19b877b00": {
      "model_module": "@jupyter-widgets/controls",
      "model_module_version": "1.5.0",
      "model_name": "DescriptionStyleModel",
      "state": {
       "description_width": ""
      }
     },
     "9a77ba760e724a489a8178b104b185d3": {
      "model_module": "@jupyter-widgets/controls",
      "model_module_version": "1.5.0",
      "model_name": "IntProgressModel",
      "state": {
       "bar_style": "success",
       "layout": "IPY_MODEL_688867c8d4bd402282e92394aad36e0b",
       "max": 1000000,
       "style": "IPY_MODEL_38999e292ccc4e5b82a6a1df803b6fdf",
       "value": 1000000
      }
     },
     "9aa08ff5109b44ce8d9241489b411bb0": {
      "model_module": "@jupyter-widgets/controls",
      "model_module_version": "1.5.0",
      "model_name": "HTMLModel",
      "state": {
       "layout": "IPY_MODEL_c963f981f4ec4c799eaa2659ab1e56f8",
       "style": "IPY_MODEL_d27bb525062d4485b00a7795766b4cb5",
       "value": "100% 100000/100000 [00:01&lt;00:00, 86579.64it/s]"
      }
     },
     "9b38d91398464945a8e71514379e7d92": {
      "model_module": "@jupyter-widgets/controls",
      "model_module_version": "1.5.0",
      "model_name": "IntProgressModel",
      "state": {
       "bar_style": "success",
       "layout": "IPY_MODEL_a830a126027c4aa1bb17bc182e6ef17a",
       "max": 100000,
       "style": "IPY_MODEL_8234159ecc91452492a8cfc2034c38a8",
       "value": 100000
      }
     },
     "9bdb7536edb14892adad1d76843e9a54": {
      "model_module": "@jupyter-widgets/controls",
      "model_module_version": "1.5.0",
      "model_name": "HTMLModel",
      "state": {
       "layout": "IPY_MODEL_8955e55589514512a0ad15095e3df3ee",
       "style": "IPY_MODEL_76ec28a2059c4f72b51ff61655b05cad",
       "value": " 23% 229960/1000000 [01:40&lt;10:10, 1262.28it/s]"
      }
     },
     "9bdc81290df84341a21968bd25ca1da2": {
      "model_module": "@jupyter-widgets/controls",
      "model_module_version": "1.5.0",
      "model_name": "HBoxModel",
      "state": {
       "children": [
        "IPY_MODEL_ddd6e04bf7814273befdf8e6174444e9",
        "IPY_MODEL_4d26f2b9b797493cbe6d01b2a910eee0"
       ],
       "layout": "IPY_MODEL_c47573ca55b547fc8729319c480013b0"
      }
     },
     "9c3b8fd153854300bef04d448424ae6f": {
      "model_module": "@jupyter-widgets/base",
      "model_module_version": "1.2.0",
      "model_name": "LayoutModel",
      "state": {}
     },
     "9c6fcd8ec9d04541b4f74b207d6fc70d": {
      "model_module": "@jupyter-widgets/controls",
      "model_module_version": "1.5.0",
      "model_name": "HBoxModel",
      "state": {
       "children": [
        "IPY_MODEL_13c6fa24a2f74164a2d25f2fc442a2d6",
        "IPY_MODEL_8f3ff77140e4481ca8648a51ed887b7e"
       ],
       "layout": "IPY_MODEL_4d8bec58a37048cb9f27d4e093529186"
      }
     },
     "9d187f03544a40bca87adb5093288b74": {
      "model_module": "@jupyter-widgets/base",
      "model_module_version": "1.2.0",
      "model_name": "LayoutModel",
      "state": {}
     },
     "9dc3b10ed214425888db30a46f00e8b3": {
      "model_module": "@jupyter-widgets/base",
      "model_module_version": "1.2.0",
      "model_name": "LayoutModel",
      "state": {}
     },
     "9df3800a2e9e4fd4bcaac2ed2cef2cfe": {
      "model_module": "@jupyter-widgets/controls",
      "model_module_version": "1.5.0",
      "model_name": "HTMLModel",
      "state": {
       "layout": "IPY_MODEL_91cb093e66b94cc9a9e4c06eaba23103",
       "style": "IPY_MODEL_caf4f12bd215470aad567f9c8ecb7e73",
       "value": "100% 500000/500000 [00:04&lt;00:00, 101936.69it/s]"
      }
     },
     "9dfaf036d9cb445c8488dcecd371d468": {
      "model_module": "@jupyter-widgets/controls",
      "model_module_version": "1.5.0",
      "model_name": "IntProgressModel",
      "state": {
       "bar_style": "success",
       "layout": "IPY_MODEL_d1a7e91796eb4a9ab1f87324017c2399",
       "max": 1000000,
       "style": "IPY_MODEL_4f97b735690b441880febba570adc40b",
       "value": 1000000
      }
     },
     "9e29ed0080a84a1981b32c2a5e9b5937": {
      "model_module": "@jupyter-widgets/controls",
      "model_module_version": "1.5.0",
      "model_name": "DescriptionStyleModel",
      "state": {
       "description_width": ""
      }
     },
     "9eb21f803a66442b885fc890e083fdde": {
      "model_module": "@jupyter-widgets/controls",
      "model_module_version": "1.5.0",
      "model_name": "HTMLModel",
      "state": {
       "layout": "IPY_MODEL_e9c4ee4a5c0843e9b7e7eee5d07765cb",
       "style": "IPY_MODEL_0262680ed5ad40128711dceeaeefbf4a",
       "value": "100% 1000000/1000000 [01:54&lt;00:00, 8721.56it/s]"
      }
     },
     "9efea4c4f8f440d7841906b1644bf628": {
      "model_module": "@jupyter-widgets/controls",
      "model_module_version": "1.5.0",
      "model_name": "ProgressStyleModel",
      "state": {
       "description_width": ""
      }
     },
     "9fe8f9af726145b786785a630e567bd8": {
      "model_module": "@jupyter-widgets/controls",
      "model_module_version": "1.5.0",
      "model_name": "HBoxModel",
      "state": {
       "children": [
        "IPY_MODEL_effaeef3eb2e43f6b97ebf52d7b61c25",
        "IPY_MODEL_42aadde14136478fa7af4bf6346cf48a"
       ],
       "layout": "IPY_MODEL_2e8c0ac3e69b461cbd6c36d801db291c"
      }
     },
     "a07a2beb48594eb9997feff32e7dd864": {
      "model_module": "@jupyter-widgets/controls",
      "model_module_version": "1.5.0",
      "model_name": "HTMLModel",
      "state": {
       "layout": "IPY_MODEL_c92aadb8cdb74040832d9d5154ce3324",
       "style": "IPY_MODEL_98f0b48043ba428d9b1e142bd5cf4a65",
       "value": "100% 1000000/1000000 [00:10&lt;00:00, 94775.23it/s]"
      }
     },
     "a1918699d8fe4933bddb451800dbf272": {
      "model_module": "@jupyter-widgets/controls",
      "model_module_version": "1.5.0",
      "model_name": "HBoxModel",
      "state": {
       "children": [
        "IPY_MODEL_31b2c9f4021a42458de99a2bd0d6de06",
        "IPY_MODEL_6cb9ec1c54294f0a85de9c6ee0f4cd9b"
       ],
       "layout": "IPY_MODEL_90bece7fc8264857ae371810ea111bdd"
      }
     },
     "a1a2596fef174ded8e357c83d0474a06": {
      "model_module": "@jupyter-widgets/base",
      "model_module_version": "1.2.0",
      "model_name": "LayoutModel",
      "state": {}
     },
     "a1e1bb671acb4c309d3b952ee31dc36a": {
      "model_module": "@jupyter-widgets/controls",
      "model_module_version": "1.5.0",
      "model_name": "HBoxModel",
      "state": {
       "children": [
        "IPY_MODEL_d5953378004f42ce998b9b8ab07f1d13",
        "IPY_MODEL_a3de72236e4d4833ba7a0f9ebd52264b"
       ],
       "layout": "IPY_MODEL_860f006c01524e5e93db89b3b14e9aea"
      }
     },
     "a210672a65374ccca4395a425c3bd323": {
      "model_module": "@jupyter-widgets/base",
      "model_module_version": "1.2.0",
      "model_name": "LayoutModel",
      "state": {}
     },
     "a26044be69074eab84aca15cf74720d0": {
      "model_module": "@jupyter-widgets/base",
      "model_module_version": "1.2.0",
      "model_name": "LayoutModel",
      "state": {}
     },
     "a267613a83374265ae5fba31f5283cb9": {
      "model_module": "@jupyter-widgets/controls",
      "model_module_version": "1.5.0",
      "model_name": "HBoxModel",
      "state": {
       "children": [
        "IPY_MODEL_f20ba75f5fa446998a1f36533e80bec6",
        "IPY_MODEL_37a434e1c98c40ed8eec7f313c7917fd"
       ],
       "layout": "IPY_MODEL_30659bddf4d747a282d8081a0b219cb2"
      }
     },
     "a278b3777d744d1caa04259f97bb0ebb": {
      "model_module": "@jupyter-widgets/base",
      "model_module_version": "1.2.0",
      "model_name": "LayoutModel",
      "state": {}
     },
     "a27b34e1c5eb47ea9aec29a04d8738ee": {
      "model_module": "@jupyter-widgets/controls",
      "model_module_version": "1.5.0",
      "model_name": "DescriptionStyleModel",
      "state": {
       "description_width": ""
      }
     },
     "a2a39431ff254affa7884ea95b3fd76f": {
      "model_module": "@jupyter-widgets/base",
      "model_module_version": "1.2.0",
      "model_name": "LayoutModel",
      "state": {}
     },
     "a3de72236e4d4833ba7a0f9ebd52264b": {
      "model_module": "@jupyter-widgets/controls",
      "model_module_version": "1.5.0",
      "model_name": "HTMLModel",
      "state": {
       "layout": "IPY_MODEL_d2c0837e90d74f53ac9768e8929c93ae",
       "style": "IPY_MODEL_c24447279d66496ab4799ead6a640b59",
       "value": "100% 1000000/1000000 [00:04&lt;00:00, 209911.20it/s]"
      }
     },
     "a48196ac8b634139bb228e1be520eb57": {
      "model_module": "@jupyter-widgets/controls",
      "model_module_version": "1.5.0",
      "model_name": "HBoxModel",
      "state": {
       "children": [
        "IPY_MODEL_9dfaf036d9cb445c8488dcecd371d468",
        "IPY_MODEL_ea83457a8db9417eaeff669d3467d634"
       ],
       "layout": "IPY_MODEL_37b37011027c4cfca61da7ebe6499ff0"
      }
     },
     "a4a75f5ab5264a25b07db2e40574307f": {
      "model_module": "@jupyter-widgets/base",
      "model_module_version": "1.2.0",
      "model_name": "LayoutModel",
      "state": {}
     },
     "a56c6e494e2c42178135b863071a8193": {
      "model_module": "@jupyter-widgets/base",
      "model_module_version": "1.2.0",
      "model_name": "LayoutModel",
      "state": {}
     },
     "a5bc161eb5a74dc0afc47bbc7279b078": {
      "model_module": "@jupyter-widgets/controls",
      "model_module_version": "1.5.0",
      "model_name": "DescriptionStyleModel",
      "state": {
       "description_width": ""
      }
     },
     "a62d0ee365044ef492512bed829619f2": {
      "model_module": "@jupyter-widgets/controls",
      "model_module_version": "1.5.0",
      "model_name": "DescriptionStyleModel",
      "state": {
       "description_width": ""
      }
     },
     "a6d80aaac6ea4a5987a3d9607a7ede99": {
      "model_module": "@jupyter-widgets/controls",
      "model_module_version": "1.5.0",
      "model_name": "HTMLModel",
      "state": {
       "layout": "IPY_MODEL_c74289cdf4fb41039d1da518ac41fde3",
       "style": "IPY_MODEL_c1234ac72c674af1850939751f372998",
       "value": "100% 100000/100000 [00:01&lt;00:00, 91848.74it/s]"
      }
     },
     "a704f4e267e34f999194ea2c10d3549a": {
      "model_module": "@jupyter-widgets/base",
      "model_module_version": "1.2.0",
      "model_name": "LayoutModel",
      "state": {}
     },
     "a81f56cbf5614ecaab538b15f41dfa00": {
      "model_module": "@jupyter-widgets/base",
      "model_module_version": "1.2.0",
      "model_name": "LayoutModel",
      "state": {}
     },
     "a830a126027c4aa1bb17bc182e6ef17a": {
      "model_module": "@jupyter-widgets/base",
      "model_module_version": "1.2.0",
      "model_name": "LayoutModel",
      "state": {}
     },
     "a853423ab9454aef929bc93eed156cfd": {
      "model_module": "@jupyter-widgets/controls",
      "model_module_version": "1.5.0",
      "model_name": "HTMLModel",
      "state": {
       "layout": "IPY_MODEL_342be615145147fb8a6485c918a764b1",
       "style": "IPY_MODEL_ffef2742c76e4fdd9d766bfa949dcf9d",
       "value": "100% 100000/100000 [00:10&lt;00:00, 9252.67it/s]"
      }
     },
     "a896971aeebd43d39ee8e1b051b6ca1a": {
      "model_module": "@jupyter-widgets/controls",
      "model_module_version": "1.5.0",
      "model_name": "HBoxModel",
      "state": {
       "children": [
        "IPY_MODEL_331cac7f9adc4caa9bcfbdd1659e9203",
        "IPY_MODEL_16afef85153342e3aea8d79af8004383"
       ],
       "layout": "IPY_MODEL_e9b6b8847a3c44f2a2b32baf99b97b67"
      }
     },
     "aa14067468a343f1889108d1c1a41b35": {
      "model_module": "@jupyter-widgets/controls",
      "model_module_version": "1.5.0",
      "model_name": "DescriptionStyleModel",
      "state": {
       "description_width": ""
      }
     },
     "aa3179dd542d437bb549a4834b463c04": {
      "model_module": "@jupyter-widgets/controls",
      "model_module_version": "1.5.0",
      "model_name": "HBoxModel",
      "state": {
       "children": [
        "IPY_MODEL_35aaa80db8874896a639d26004f3e074",
        "IPY_MODEL_43114f4ec76545429a5ec48125169072"
       ],
       "layout": "IPY_MODEL_699aee2a24b64cf5bf19e078f9facb91"
      }
     },
     "aa3624b4022b4cf780fe77a4d023a032": {
      "model_module": "@jupyter-widgets/controls",
      "model_module_version": "1.5.0",
      "model_name": "HTMLModel",
      "state": {
       "layout": "IPY_MODEL_8810cfd60bda4a74bced9039b1faa0ff",
       "style": "IPY_MODEL_489319309e4b43408715fe342f6a8cef",
       "value": "  0% 0/100000 [00:00&lt;?, ?it/s]"
      }
     },
     "aa3e200818974a40b3e8038e9222a171": {
      "model_module": "@jupyter-widgets/controls",
      "model_module_version": "1.5.0",
      "model_name": "HTMLModel",
      "state": {
       "layout": "IPY_MODEL_3b55add1e9f149368cb588cea34a60eb",
       "style": "IPY_MODEL_dc421d5e133d48af821a017f23a73263",
       "value": "100% 100000/100000 [00:10&lt;00:00, 9365.77it/s]"
      }
     },
     "aa701df68340408c8bb26eb2a8e15600": {
      "model_module": "@jupyter-widgets/base",
      "model_module_version": "1.2.0",
      "model_name": "LayoutModel",
      "state": {}
     },
     "ab309d80140c4317b04420aa50e290a4": {
      "model_module": "@jupyter-widgets/base",
      "model_module_version": "1.2.0",
      "model_name": "LayoutModel",
      "state": {}
     },
     "ab40a8b913b54c009dc7964966cb5598": {
      "model_module": "@jupyter-widgets/controls",
      "model_module_version": "1.5.0",
      "model_name": "HBoxModel",
      "state": {
       "children": [
        "IPY_MODEL_4f3eff8d91714bbb8704a6dd0c38d788",
        "IPY_MODEL_a07a2beb48594eb9997feff32e7dd864"
       ],
       "layout": "IPY_MODEL_ae04d0e55389425285d947c8abe5a898"
      }
     },
     "ab62e4d5e2a04af286b9faabc3ac5d6b": {
      "model_module": "@jupyter-widgets/base",
      "model_module_version": "1.2.0",
      "model_name": "LayoutModel",
      "state": {}
     },
     "ab70985555454915ad29f81ac1063e61": {
      "model_module": "@jupyter-widgets/controls",
      "model_module_version": "1.5.0",
      "model_name": "ProgressStyleModel",
      "state": {
       "description_width": ""
      }
     },
     "ab88a4adfc68475ca09aa9be48ae4256": {
      "model_module": "@jupyter-widgets/controls",
      "model_module_version": "1.5.0",
      "model_name": "ProgressStyleModel",
      "state": {
       "description_width": ""
      }
     },
     "ab96e902ba504c9aa172d047e4c26331": {
      "model_module": "@jupyter-widgets/controls",
      "model_module_version": "1.5.0",
      "model_name": "HTMLModel",
      "state": {
       "layout": "IPY_MODEL_f8edf39ab5f44c349101b37e59eab929",
       "style": "IPY_MODEL_f33f92c4168748dca5686623177d0157",
       "value": "100% 1000000/1000000 [00:05&lt;00:00, 194065.61it/s]"
      }
     },
     "abc03897d16f49eeabdfb27a1dbc4f69": {
      "model_module": "@jupyter-widgets/controls",
      "model_module_version": "1.5.0",
      "model_name": "ProgressStyleModel",
      "state": {
       "description_width": ""
      }
     },
     "ac15c886ab104b88b4861a1b4db5f3fe": {
      "model_module": "@jupyter-widgets/base",
      "model_module_version": "1.2.0",
      "model_name": "LayoutModel",
      "state": {}
     },
     "aceb03e39a564d499cc7670f4989d0af": {
      "model_module": "@jupyter-widgets/controls",
      "model_module_version": "1.5.0",
      "model_name": "HTMLModel",
      "state": {
       "layout": "IPY_MODEL_31769647653843bcb0cf3b9852ca6845",
       "style": "IPY_MODEL_9963602a64f642a5a85e8760068af865",
       "value": "100% 1000000/1000000 [00:04&lt;00:00, 222842.86it/s]"
      }
     },
     "ad39a6923d544bf8821d809047311cf0": {
      "model_module": "@jupyter-widgets/controls",
      "model_module_version": "1.5.0",
      "model_name": "HBoxModel",
      "state": {
       "children": [
        "IPY_MODEL_97ca13c083db48c1910aa33bcee3189e",
        "IPY_MODEL_3ebd07d4fd054c6c8057849e426362c4"
       ],
       "layout": "IPY_MODEL_6b5d3484f1d045779ac639faf360a78b"
      }
     },
     "ae04d0e55389425285d947c8abe5a898": {
      "model_module": "@jupyter-widgets/base",
      "model_module_version": "1.2.0",
      "model_name": "LayoutModel",
      "state": {}
     },
     "ae82cc981a9a429280f5fd0406d02490": {
      "model_module": "@jupyter-widgets/base",
      "model_module_version": "1.2.0",
      "model_name": "LayoutModel",
      "state": {}
     },
     "aeba397d8829499896ac6ab5d975f176": {
      "model_module": "@jupyter-widgets/controls",
      "model_module_version": "1.5.0",
      "model_name": "HBoxModel",
      "state": {
       "children": [
        "IPY_MODEL_d094968f74e848e090bdace78e29b7d9",
        "IPY_MODEL_6a18d9278ce749b68be5e2cea37adcf2"
       ],
       "layout": "IPY_MODEL_6355d4e63b8a4f9bb686405ba64225ed"
      }
     },
     "af89be4ff047457d9605555d61d051a0": {
      "model_module": "@jupyter-widgets/base",
      "model_module_version": "1.2.0",
      "model_name": "LayoutModel",
      "state": {}
     },
     "afd871b1030c498db645ef5dbabc3bc0": {
      "model_module": "@jupyter-widgets/base",
      "model_module_version": "1.2.0",
      "model_name": "LayoutModel",
      "state": {}
     },
     "b01098eef29f4bc7a03f8d0541e884cf": {
      "model_module": "@jupyter-widgets/controls",
      "model_module_version": "1.5.0",
      "model_name": "DescriptionStyleModel",
      "state": {
       "description_width": ""
      }
     },
     "b04a8b385be24c4ab12dedec307f3a4f": {
      "model_module": "@jupyter-widgets/base",
      "model_module_version": "1.2.0",
      "model_name": "LayoutModel",
      "state": {}
     },
     "b1138b7fe4624bf185988453ed40942c": {
      "model_module": "@jupyter-widgets/base",
      "model_module_version": "1.2.0",
      "model_name": "LayoutModel",
      "state": {}
     },
     "b198789758a443818e7e159ad0e948ba": {
      "model_module": "@jupyter-widgets/base",
      "model_module_version": "1.2.0",
      "model_name": "LayoutModel",
      "state": {}
     },
     "b1f6d8ea98f944e2b6c3e86c570265f7": {
      "model_module": "@jupyter-widgets/controls",
      "model_module_version": "1.5.0",
      "model_name": "IntProgressModel",
      "state": {
       "bar_style": "success",
       "layout": "IPY_MODEL_ab309d80140c4317b04420aa50e290a4",
       "max": 1000000,
       "style": "IPY_MODEL_906c0f467b0244b79a5b5060955ad5c8",
       "value": 1000000
      }
     },
     "b213407d170a4482b0144198a13f83a5": {
      "model_module": "@jupyter-widgets/base",
      "model_module_version": "1.2.0",
      "model_name": "LayoutModel",
      "state": {}
     },
     "b3fca3c963a3415faf537efe6f691c15": {
      "model_module": "@jupyter-widgets/controls",
      "model_module_version": "1.5.0",
      "model_name": "IntProgressModel",
      "state": {
       "bar_style": "success",
       "layout": "IPY_MODEL_2d13dbea517941d3995e0c98b340a76b",
       "max": 100000,
       "style": "IPY_MODEL_4c536d6868a044b8b4e1b68a7c2cbdba",
       "value": 100000
      }
     },
     "b3febfeb655e466f9dc95890eb9f0d1e": {
      "model_module": "@jupyter-widgets/controls",
      "model_module_version": "1.5.0",
      "model_name": "HBoxModel",
      "state": {
       "children": [
        "IPY_MODEL_8968d9a0755f460b967e65fd43090a9d",
        "IPY_MODEL_53b1b28294c84c06ba26a4a3d0e7f81e"
       ],
       "layout": "IPY_MODEL_b7d7066de0bf4810965d8373dcdb1651"
      }
     },
     "b45ac3d1353b4b558d19a425b7e4419e": {
      "model_module": "@jupyter-widgets/base",
      "model_module_version": "1.2.0",
      "model_name": "LayoutModel",
      "state": {}
     },
     "b49c63631d4749bba9de93ceaceba848": {
      "model_module": "@jupyter-widgets/controls",
      "model_module_version": "1.5.0",
      "model_name": "HBoxModel",
      "state": {
       "children": [
        "IPY_MODEL_e9c5ca57f59a4810b80e6a68994fd668",
        "IPY_MODEL_6287d631ca6041548068e9b5c75ad617"
       ],
       "layout": "IPY_MODEL_71b1679aa86748e5a5185d1aef50df9b"
      }
     },
     "b4e9e2192bb04bd494913c3bfa48613b": {
      "model_module": "@jupyter-widgets/controls",
      "model_module_version": "1.5.0",
      "model_name": "ProgressStyleModel",
      "state": {
       "description_width": ""
      }
     },
     "b52fe4e2c5914b98b5e2b4edded8d530": {
      "model_module": "@jupyter-widgets/base",
      "model_module_version": "1.2.0",
      "model_name": "LayoutModel",
      "state": {}
     },
     "b5ab1c3634124faca8f85844358863c1": {
      "model_module": "@jupyter-widgets/controls",
      "model_module_version": "1.5.0",
      "model_name": "IntProgressModel",
      "state": {
       "bar_style": "danger",
       "layout": "IPY_MODEL_5974b6d607e44fb5810656f241fa2348",
       "max": 100000,
       "style": "IPY_MODEL_abc03897d16f49eeabdfb27a1dbc4f69"
      }
     },
     "b5d5842f4f2f4f569e5ab84928f7cea5": {
      "model_module": "@jupyter-widgets/base",
      "model_module_version": "1.2.0",
      "model_name": "LayoutModel",
      "state": {}
     },
     "b612bab6b3ea4f5db2b22cbe1a0c3af4": {
      "model_module": "@jupyter-widgets/base",
      "model_module_version": "1.2.0",
      "model_name": "LayoutModel",
      "state": {}
     },
     "b7c0ff81ac7d4a9a968d5b22091c780f": {
      "model_module": "@jupyter-widgets/controls",
      "model_module_version": "1.5.0",
      "model_name": "ProgressStyleModel",
      "state": {
       "description_width": ""
      }
     },
     "b7d7066de0bf4810965d8373dcdb1651": {
      "model_module": "@jupyter-widgets/base",
      "model_module_version": "1.2.0",
      "model_name": "LayoutModel",
      "state": {}
     },
     "b7f1cb20c39f40e19e628c275dcd47ec": {
      "model_module": "@jupyter-widgets/controls",
      "model_module_version": "1.5.0",
      "model_name": "ProgressStyleModel",
      "state": {
       "description_width": ""
      }
     },
     "b81600581ff34cf69b46d12e0568e612": {
      "model_module": "@jupyter-widgets/controls",
      "model_module_version": "1.5.0",
      "model_name": "HBoxModel",
      "state": {
       "children": [
        "IPY_MODEL_c0723509029f4bc8a2618a388e8844c6",
        "IPY_MODEL_0181eb4395244d3ca3cb506164fa144c"
       ],
       "layout": "IPY_MODEL_c4fec3af1a5f4bb4aaf71af576da1e7f"
      }
     },
     "b8af10fe60414fec9ae7691ef9ed0ab5": {
      "model_module": "@jupyter-widgets/controls",
      "model_module_version": "1.5.0",
      "model_name": "HTMLModel",
      "state": {
       "layout": "IPY_MODEL_d023704fa3c3439eb6f5fd9b017d9a6f",
       "style": "IPY_MODEL_7d22f137254b45798d0cdd131b9ba27b",
       "value": "  0% 0/100000 [00:00&lt;?, ?it/s]"
      }
     },
     "b9b16e0067734fa79b0635e05649a675": {
      "model_module": "@jupyter-widgets/base",
      "model_module_version": "1.2.0",
      "model_name": "LayoutModel",
      "state": {}
     },
     "bac51d24e8c84f179f1de77363c4263c": {
      "model_module": "@jupyter-widgets/controls",
      "model_module_version": "1.5.0",
      "model_name": "HBoxModel",
      "state": {
       "children": [
        "IPY_MODEL_b1f6d8ea98f944e2b6c3e86c570265f7",
        "IPY_MODEL_5c3df1b8d154433db03f1aab1a124338"
       ],
       "layout": "IPY_MODEL_4de787b2bca7405e960078c18357b9c1"
      }
     },
     "bb5803281300422191ea88e2dd1264cd": {
      "model_module": "@jupyter-widgets/base",
      "model_module_version": "1.2.0",
      "model_name": "LayoutModel",
      "state": {}
     },
     "bbb7d2de486c44779fee7d8c83c408f5": {
      "model_module": "@jupyter-widgets/controls",
      "model_module_version": "1.5.0",
      "model_name": "IntProgressModel",
      "state": {
       "bar_style": "danger",
       "layout": "IPY_MODEL_2d071433c8c3451bb2ca481b1de13583",
       "max": 100000,
       "style": "IPY_MODEL_9221231126b54359934a6aafe8d80f09",
       "value": 7126
      }
     },
     "bbd13148942a47ff90b1e0dcb937173a": {
      "model_module": "@jupyter-widgets/controls",
      "model_module_version": "1.5.0",
      "model_name": "ProgressStyleModel",
      "state": {
       "description_width": ""
      }
     },
     "bbf52b2a3822406288b8edd27f026c66": {
      "model_module": "@jupyter-widgets/base",
      "model_module_version": "1.2.0",
      "model_name": "LayoutModel",
      "state": {}
     },
     "bc2ecaff06d64f3fa4ddd3316975bd34": {
      "model_module": "@jupyter-widgets/base",
      "model_module_version": "1.2.0",
      "model_name": "LayoutModel",
      "state": {}
     },
     "bc36f12d5c184f39840d563b003229dc": {
      "model_module": "@jupyter-widgets/controls",
      "model_module_version": "1.5.0",
      "model_name": "ProgressStyleModel",
      "state": {
       "description_width": ""
      }
     },
     "bc6bece6d5ff4c40a9df7fd3ed0099b0": {
      "model_module": "@jupyter-widgets/base",
      "model_module_version": "1.2.0",
      "model_name": "LayoutModel",
      "state": {}
     },
     "bde50fd7b66f4282a32d40976f5659b6": {
      "model_module": "@jupyter-widgets/base",
      "model_module_version": "1.2.0",
      "model_name": "LayoutModel",
      "state": {}
     },
     "be22456720b14f4f943ac543c7809c68": {
      "model_module": "@jupyter-widgets/controls",
      "model_module_version": "1.5.0",
      "model_name": "HBoxModel",
      "state": {
       "children": [
        "IPY_MODEL_5773ce3d042f47a2a69d09b722e48e91",
        "IPY_MODEL_3026d0fb0e5343f18270e27fd686fba0"
       ],
       "layout": "IPY_MODEL_533bbe47899747059558499b2f72b100"
      }
     },
     "be48fa3f9cbe4bb8a5efc6bfdd48a72f": {
      "model_module": "@jupyter-widgets/controls",
      "model_module_version": "1.5.0",
      "model_name": "ProgressStyleModel",
      "state": {
       "description_width": ""
      }
     },
     "be99c03646f44eb18a7b93ea07e2c7d1": {
      "model_module": "@jupyter-widgets/base",
      "model_module_version": "1.2.0",
      "model_name": "LayoutModel",
      "state": {}
     },
     "c04d5fe9f48f44598987c5ab2c6dc8dd": {
      "model_module": "@jupyter-widgets/base",
      "model_module_version": "1.2.0",
      "model_name": "LayoutModel",
      "state": {}
     },
     "c0723509029f4bc8a2618a388e8844c6": {
      "model_module": "@jupyter-widgets/controls",
      "model_module_version": "1.5.0",
      "model_name": "IntProgressModel",
      "state": {
       "bar_style": "success",
       "layout": "IPY_MODEL_dc98151d271448c3b403aa3a042c6f1f",
       "max": 1000000,
       "style": "IPY_MODEL_8e18879dde5d42b2b4fc34f241e37fde",
       "value": 1000000
      }
     },
     "c09681d33ee04b6e8227e520692a9fcf": {
      "model_module": "@jupyter-widgets/controls",
      "model_module_version": "1.5.0",
      "model_name": "HBoxModel",
      "state": {
       "children": [
        "IPY_MODEL_23ae0fb3107747cd8a13592d1e60eb3f",
        "IPY_MODEL_0736b3d1824f49b3a1927bbe754a3be9"
       ],
       "layout": "IPY_MODEL_d5763147b930452e8410b1af9f81ecfd"
      }
     },
     "c1234ac72c674af1850939751f372998": {
      "model_module": "@jupyter-widgets/controls",
      "model_module_version": "1.5.0",
      "model_name": "DescriptionStyleModel",
      "state": {
       "description_width": ""
      }
     },
     "c143ab6ea9914a78820622f658976135": {
      "model_module": "@jupyter-widgets/base",
      "model_module_version": "1.2.0",
      "model_name": "LayoutModel",
      "state": {}
     },
     "c14b1bf3a14e4691b9664ddf6dcf94c9": {
      "model_module": "@jupyter-widgets/controls",
      "model_module_version": "1.5.0",
      "model_name": "ProgressStyleModel",
      "state": {
       "description_width": ""
      }
     },
     "c193ba0034654777a591d6f1d90ff7ff": {
      "model_module": "@jupyter-widgets/controls",
      "model_module_version": "1.5.0",
      "model_name": "HBoxModel",
      "state": {
       "children": [
        "IPY_MODEL_f01a0bbb57a44e82ad6434a119f31a80",
        "IPY_MODEL_2a58e9eed9ac48f78769a2ca3d955599"
       ],
       "layout": "IPY_MODEL_eca24d0474fb4788b3469c2e55981e62"
      }
     },
     "c24447279d66496ab4799ead6a640b59": {
      "model_module": "@jupyter-widgets/controls",
      "model_module_version": "1.5.0",
      "model_name": "DescriptionStyleModel",
      "state": {
       "description_width": ""
      }
     },
     "c43372c5c5984994a1f36552ddb57c5f": {
      "model_module": "@jupyter-widgets/controls",
      "model_module_version": "1.5.0",
      "model_name": "HTMLModel",
      "state": {
       "layout": "IPY_MODEL_3392624adc324f4192e04ba62a2a405a",
       "style": "IPY_MODEL_69da43e6cffc448bb00a8917179ca198",
       "value": "100% 100000/100000 [00:01&lt;00:00, 94165.04it/s]"
      }
     },
     "c472b7aaafda4e4090910fad16f66c40": {
      "model_module": "@jupyter-widgets/base",
      "model_module_version": "1.2.0",
      "model_name": "LayoutModel",
      "state": {}
     },
     "c47573ca55b547fc8729319c480013b0": {
      "model_module": "@jupyter-widgets/base",
      "model_module_version": "1.2.0",
      "model_name": "LayoutModel",
      "state": {}
     },
     "c4fec3af1a5f4bb4aaf71af576da1e7f": {
      "model_module": "@jupyter-widgets/base",
      "model_module_version": "1.2.0",
      "model_name": "LayoutModel",
      "state": {}
     },
     "c58767c5c4554d269b93b36f076af213": {
      "model_module": "@jupyter-widgets/controls",
      "model_module_version": "1.5.0",
      "model_name": "ProgressStyleModel",
      "state": {
       "description_width": ""
      }
     },
     "c5b8616b933845739a4ca550484815bb": {
      "model_module": "@jupyter-widgets/base",
      "model_module_version": "1.2.0",
      "model_name": "LayoutModel",
      "state": {}
     },
     "c5bc377527da43bc822ce117d1efe81e": {
      "model_module": "@jupyter-widgets/controls",
      "model_module_version": "1.5.0",
      "model_name": "IntProgressModel",
      "state": {
       "bar_style": "success",
       "layout": "IPY_MODEL_b9b16e0067734fa79b0635e05649a675",
       "max": 100000,
       "style": "IPY_MODEL_43cb7fd04de8456ba774ab1527e02d69",
       "value": 100000
      }
     },
     "c66004a2168747a793f64bbf359e81e9": {
      "model_module": "@jupyter-widgets/controls",
      "model_module_version": "1.5.0",
      "model_name": "IntProgressModel",
      "state": {
       "bar_style": "success",
       "layout": "IPY_MODEL_f77765d724db4b7c971b93f83bbbf38b",
       "max": 1000000,
       "style": "IPY_MODEL_687d6daaef2b4c8bbe5a60cc7210c8f1",
       "value": 1000000
      }
     },
     "c69a871b21ea4bf098f9c5c71f3cdb49": {
      "model_module": "@jupyter-widgets/controls",
      "model_module_version": "1.5.0",
      "model_name": "HTMLModel",
      "state": {
       "layout": "IPY_MODEL_14d1069246a4486cb365abb5749f957b",
       "style": "IPY_MODEL_3f4ae25f6ebb4e698615b9c533352034",
       "value": "  0% 0/100000 [00:00&lt;?, ?it/s]"
      }
     },
     "c6c693681e49433680e2a90f0f5912ee": {
      "model_module": "@jupyter-widgets/controls",
      "model_module_version": "1.5.0",
      "model_name": "IntProgressModel",
      "state": {
       "bar_style": "danger",
       "layout": "IPY_MODEL_2f581d27b51f4bb684a7b6bfc67adeb5",
       "max": 100000,
       "style": "IPY_MODEL_1e07a2cd47ef452faa207895825c08ac"
      }
     },
     "c6fdb3ee55cd402d964fb08d7b6de207": {
      "model_module": "@jupyter-widgets/base",
      "model_module_version": "1.2.0",
      "model_name": "LayoutModel",
      "state": {}
     },
     "c732513e850a401b83ba8ca8e4d4e936": {
      "model_module": "@jupyter-widgets/base",
      "model_module_version": "1.2.0",
      "model_name": "LayoutModel",
      "state": {}
     },
     "c74289cdf4fb41039d1da518ac41fde3": {
      "model_module": "@jupyter-widgets/base",
      "model_module_version": "1.2.0",
      "model_name": "LayoutModel",
      "state": {}
     },
     "c91c753d34334265b587303234b86a00": {
      "model_module": "@jupyter-widgets/controls",
      "model_module_version": "1.5.0",
      "model_name": "HBoxModel",
      "state": {
       "children": [
        "IPY_MODEL_0ca670aba6a54573b8dfbec4e3c72143",
        "IPY_MODEL_68b0da2bb93141708a82e2e679eee55e"
       ],
       "layout": "IPY_MODEL_642a48f5d3ba4f2f895e6e660004c178"
      }
     },
     "c92aadb8cdb74040832d9d5154ce3324": {
      "model_module": "@jupyter-widgets/base",
      "model_module_version": "1.2.0",
      "model_name": "LayoutModel",
      "state": {}
     },
     "c963f981f4ec4c799eaa2659ab1e56f8": {
      "model_module": "@jupyter-widgets/base",
      "model_module_version": "1.2.0",
      "model_name": "LayoutModel",
      "state": {}
     },
     "c9cf84e6f2e94c8897594528f8e6953b": {
      "model_module": "@jupyter-widgets/controls",
      "model_module_version": "1.5.0",
      "model_name": "HTMLModel",
      "state": {
       "layout": "IPY_MODEL_0c29d4f9b9d1498fb2dd395a3a07324d",
       "style": "IPY_MODEL_1857b1d672a041bfb0d40aaf1f3e48c4",
       "value": "100% 1000000/1000000 [00:04&lt;00:00, 222321.41it/s]"
      }
     },
     "caf4f12bd215470aad567f9c8ecb7e73": {
      "model_module": "@jupyter-widgets/controls",
      "model_module_version": "1.5.0",
      "model_name": "DescriptionStyleModel",
      "state": {
       "description_width": ""
      }
     },
     "cc98228cc8184acaadc514798f0056d3": {
      "model_module": "@jupyter-widgets/controls",
      "model_module_version": "1.5.0",
      "model_name": "HBoxModel",
      "state": {
       "children": [
        "IPY_MODEL_9a77ba760e724a489a8178b104b185d3",
        "IPY_MODEL_35b0bbefb5024b50b403a956140ba25c"
       ],
       "layout": "IPY_MODEL_383bcaa540e64a3bbdadd3025e171187"
      }
     },
     "ccd8f18a438e4115be46585460d60f7d": {
      "model_module": "@jupyter-widgets/base",
      "model_module_version": "1.2.0",
      "model_name": "LayoutModel",
      "state": {}
     },
     "cd912be344dd42ff90a35ada5056e00c": {
      "model_module": "@jupyter-widgets/controls",
      "model_module_version": "1.5.0",
      "model_name": "ProgressStyleModel",
      "state": {
       "description_width": ""
      }
     },
     "ce9928f8c87d427eaa5886c986997b31": {
      "model_module": "@jupyter-widgets/controls",
      "model_module_version": "1.5.0",
      "model_name": "HTMLModel",
      "state": {
       "layout": "IPY_MODEL_f35f2f4680af41439fec13a0c7f97784",
       "style": "IPY_MODEL_9e29ed0080a84a1981b32c2a5e9b5937",
       "value": "100% 100000/100000 [00:00&lt;00:00, 174850.60it/s]"
      }
     },
     "ced9be2cea4646b193d1c066a54df6db": {
      "model_module": "@jupyter-widgets/controls",
      "model_module_version": "1.5.0",
      "model_name": "HTMLModel",
      "state": {
       "layout": "IPY_MODEL_6bf80221a46b445989179c03c7d19812",
       "style": "IPY_MODEL_8e46654237e44899a21d7378d580fa03",
       "value": "100% 1000000/1000000 [00:04&lt;00:00, 207293.37it/s]"
      }
     },
     "cf0d616fda604b49b4690ceb30d41f2b": {
      "model_module": "@jupyter-widgets/base",
      "model_module_version": "1.2.0",
      "model_name": "LayoutModel",
      "state": {}
     },
     "cfe7c1bd7cb64c3db9b6b270f9dfda96": {
      "model_module": "@jupyter-widgets/controls",
      "model_module_version": "1.5.0",
      "model_name": "HTMLModel",
      "state": {
       "layout": "IPY_MODEL_b45ac3d1353b4b558d19a425b7e4419e",
       "style": "IPY_MODEL_23332ea8247c45ba8a553b55eb1aa403",
       "value": "100% 100000/100000 [00:11&lt;00:00, 8806.11it/s]"
      }
     },
     "d023704fa3c3439eb6f5fd9b017d9a6f": {
      "model_module": "@jupyter-widgets/base",
      "model_module_version": "1.2.0",
      "model_name": "LayoutModel",
      "state": {}
     },
     "d0568028c106426d81e8dee09edbf00a": {
      "model_module": "@jupyter-widgets/controls",
      "model_module_version": "1.5.0",
      "model_name": "IntProgressModel",
      "state": {
       "bar_style": "danger",
       "layout": "IPY_MODEL_275f50b9121b4dbd81d64d49533e2c58",
       "max": 100000,
       "style": "IPY_MODEL_b7f1cb20c39f40e19e628c275dcd47ec"
      }
     },
     "d094968f74e848e090bdace78e29b7d9": {
      "model_module": "@jupyter-widgets/controls",
      "model_module_version": "1.5.0",
      "model_name": "IntProgressModel",
      "state": {
       "bar_style": "danger",
       "layout": "IPY_MODEL_2098041b0deb408caf08eb4baf3f4f4f",
       "max": 100000,
       "style": "IPY_MODEL_70c2d65162ce47ae86c3bb0c88d482d1",
       "value": 7006
      }
     },
     "d1a7e91796eb4a9ab1f87324017c2399": {
      "model_module": "@jupyter-widgets/base",
      "model_module_version": "1.2.0",
      "model_name": "LayoutModel",
      "state": {}
     },
     "d1cdfc1677524afa83ac49401aa7b0e1": {
      "model_module": "@jupyter-widgets/controls",
      "model_module_version": "1.5.0",
      "model_name": "HTMLModel",
      "state": {
       "layout": "IPY_MODEL_a26044be69074eab84aca15cf74720d0",
       "style": "IPY_MODEL_39f5e78f34c04d9ea4e72d5499cf5930",
       "value": "  0% 0/1000000 [00:00&lt;?, ?it/s]"
      }
     },
     "d27bb525062d4485b00a7795766b4cb5": {
      "model_module": "@jupyter-widgets/controls",
      "model_module_version": "1.5.0",
      "model_name": "DescriptionStyleModel",
      "state": {
       "description_width": ""
      }
     },
     "d2c0837e90d74f53ac9768e8929c93ae": {
      "model_module": "@jupyter-widgets/base",
      "model_module_version": "1.2.0",
      "model_name": "LayoutModel",
      "state": {}
     },
     "d5606f65010946d4b265a04e4b5620b9": {
      "model_module": "@jupyter-widgets/controls",
      "model_module_version": "1.5.0",
      "model_name": "DescriptionStyleModel",
      "state": {
       "description_width": ""
      }
     },
     "d5763147b930452e8410b1af9f81ecfd": {
      "model_module": "@jupyter-widgets/base",
      "model_module_version": "1.2.0",
      "model_name": "LayoutModel",
      "state": {}
     },
     "d5953378004f42ce998b9b8ab07f1d13": {
      "model_module": "@jupyter-widgets/controls",
      "model_module_version": "1.5.0",
      "model_name": "IntProgressModel",
      "state": {
       "bar_style": "success",
       "layout": "IPY_MODEL_04bf2294410a41299970a30b777a9317",
       "max": 1000000,
       "style": "IPY_MODEL_945e3089cfdf40afab16ee4dcaeac214",
       "value": 1000000
      }
     },
     "d6575651c4b74758bdd943108ffa100f": {
      "model_module": "@jupyter-widgets/base",
      "model_module_version": "1.2.0",
      "model_name": "LayoutModel",
      "state": {}
     },
     "d6d809ab740048168a57a026e529cb1a": {
      "model_module": "@jupyter-widgets/controls",
      "model_module_version": "1.5.0",
      "model_name": "IntProgressModel",
      "state": {
       "bar_style": "danger",
       "layout": "IPY_MODEL_806303a600194ec784439e5afda4e008",
       "max": 100000,
       "style": "IPY_MODEL_3dad2e0bffc646518c456b9378249fb2",
       "value": 7243
      }
     },
     "d71417b5c9fb40b98a619230d70d2a46": {
      "model_module": "@jupyter-widgets/base",
      "model_module_version": "1.2.0",
      "model_name": "LayoutModel",
      "state": {}
     },
     "d73a14c5770c459db6324c901689cb0d": {
      "model_module": "@jupyter-widgets/controls",
      "model_module_version": "1.5.0",
      "model_name": "HBoxModel",
      "state": {
       "children": [
        "IPY_MODEL_862e6e91dfcf4bed9f459624fb763aa9",
        "IPY_MODEL_9df3800a2e9e4fd4bcaac2ed2cef2cfe"
       ],
       "layout": "IPY_MODEL_26818cfac3134b69b7ce60507d3c919c"
      }
     },
     "d761ca91ef59402e97bc577567bf5ad0": {
      "model_module": "@jupyter-widgets/controls",
      "model_module_version": "1.5.0",
      "model_name": "ProgressStyleModel",
      "state": {
       "description_width": ""
      }
     },
     "d81070e25e0840e3bd3e832cd552bff4": {
      "model_module": "@jupyter-widgets/base",
      "model_module_version": "1.2.0",
      "model_name": "LayoutModel",
      "state": {}
     },
     "d87a7f9502c148ba84e35bef9e3177b5": {
      "model_module": "@jupyter-widgets/controls",
      "model_module_version": "1.5.0",
      "model_name": "DescriptionStyleModel",
      "state": {
       "description_width": ""
      }
     },
     "d8ed46f76c3649fcaaf5678912dab02f": {
      "model_module": "@jupyter-widgets/controls",
      "model_module_version": "1.5.0",
      "model_name": "DescriptionStyleModel",
      "state": {
       "description_width": ""
      }
     },
     "d981a8cae6044b638d47238f106ae0c5": {
      "model_module": "@jupyter-widgets/controls",
      "model_module_version": "1.5.0",
      "model_name": "HTMLModel",
      "state": {
       "layout": "IPY_MODEL_370b334823d84db99158f3b098854f36",
       "style": "IPY_MODEL_25c71de29a9d414da87e3f44e53792de",
       "value": "  7% 6817/100000 [00:00&lt;00:14, 6306.61it/s]"
      }
     },
     "da1edac0e570469b8e6dde1fcc26d960": {
      "model_module": "@jupyter-widgets/controls",
      "model_module_version": "1.5.0",
      "model_name": "HBoxModel",
      "state": {
       "children": [
        "IPY_MODEL_343a2d06d1034873b26a5edb54f1375e",
        "IPY_MODEL_a6d80aaac6ea4a5987a3d9607a7ede99"
       ],
       "layout": "IPY_MODEL_da9f354ae2d14a1cba101a2da0fee92f"
      }
     },
     "da9f354ae2d14a1cba101a2da0fee92f": {
      "model_module": "@jupyter-widgets/base",
      "model_module_version": "1.2.0",
      "model_name": "LayoutModel",
      "state": {}
     },
     "dab2eaed16fe4bbc94c114fe79ee92d1": {
      "model_module": "@jupyter-widgets/base",
      "model_module_version": "1.2.0",
      "model_name": "LayoutModel",
      "state": {}
     },
     "db1721d7b55c4737a2076a53c75077f9": {
      "model_module": "@jupyter-widgets/controls",
      "model_module_version": "1.5.0",
      "model_name": "IntProgressModel",
      "state": {
       "bar_style": "danger",
       "layout": "IPY_MODEL_08c16bab826d4bfb8a8992b73e385254",
       "max": 100000,
       "style": "IPY_MODEL_1cb21fdce0594debbf32bc7108408383"
      }
     },
     "dc09f364b8e74c58b064d7a04ca4ff50": {
      "model_module": "@jupyter-widgets/controls",
      "model_module_version": "1.5.0",
      "model_name": "HTMLModel",
      "state": {
       "layout": "IPY_MODEL_53c2a2e3987e46ce8f3b8bf8224a1609",
       "style": "IPY_MODEL_aa14067468a343f1889108d1c1a41b35",
       "value": "100% 100000/100000 [00:06&lt;00:00, 16036.00it/s]"
      }
     },
     "dc1767f3ad454d71aca04492c9847f61": {
      "model_module": "@jupyter-widgets/controls",
      "model_module_version": "1.5.0",
      "model_name": "IntProgressModel",
      "state": {
       "bar_style": "success",
       "layout": "IPY_MODEL_99566b752a004a5f81283b3ffc2dca23",
       "max": 1000000,
       "style": "IPY_MODEL_b4e9e2192bb04bd494913c3bfa48613b",
       "value": 1000000
      }
     },
     "dc421d5e133d48af821a017f23a73263": {
      "model_module": "@jupyter-widgets/controls",
      "model_module_version": "1.5.0",
      "model_name": "DescriptionStyleModel",
      "state": {
       "description_width": ""
      }
     },
     "dc4db23031dd4b46bec924aabd374c78": {
      "model_module": "@jupyter-widgets/controls",
      "model_module_version": "1.5.0",
      "model_name": "HTMLModel",
      "state": {
       "layout": "IPY_MODEL_15ebd7cb4b5644deac51f43ba2767910",
       "style": "IPY_MODEL_b01098eef29f4bc7a03f8d0541e884cf",
       "value": "100% 1000000/1000000 [00:04&lt;00:00, 219405.23it/s]"
      }
     },
     "dc98151d271448c3b403aa3a042c6f1f": {
      "model_module": "@jupyter-widgets/base",
      "model_module_version": "1.2.0",
      "model_name": "LayoutModel",
      "state": {}
     },
     "dcb89fd6cc034d06a36518b030c9f914": {
      "model_module": "@jupyter-widgets/controls",
      "model_module_version": "1.5.0",
      "model_name": "ProgressStyleModel",
      "state": {
       "description_width": ""
      }
     },
     "dcfa6944012e4659943ed86765661c4b": {
      "model_module": "@jupyter-widgets/controls",
      "model_module_version": "1.5.0",
      "model_name": "IntProgressModel",
      "state": {
       "bar_style": "danger",
       "layout": "IPY_MODEL_a56c6e494e2c42178135b863071a8193",
       "max": 100000,
       "style": "IPY_MODEL_472e7d36286e4200805e0a91bed455e8",
       "value": 6415
      }
     },
     "dd1e4038d3a7485fbf8e62ae01d7ebb7": {
      "model_module": "@jupyter-widgets/controls",
      "model_module_version": "1.5.0",
      "model_name": "ProgressStyleModel",
      "state": {
       "description_width": ""
      }
     },
     "ddd6e04bf7814273befdf8e6174444e9": {
      "model_module": "@jupyter-widgets/controls",
      "model_module_version": "1.5.0",
      "model_name": "IntProgressModel",
      "state": {
       "bar_style": "success",
       "layout": "IPY_MODEL_32046b35d7384c70a7e2967c4d5da3f2",
       "max": 100000,
       "style": "IPY_MODEL_dcb89fd6cc034d06a36518b030c9f914",
       "value": 100000
      }
     },
     "dee2cf9a65c3403f940efa2d75884cc4": {
      "model_module": "@jupyter-widgets/controls",
      "model_module_version": "1.5.0",
      "model_name": "IntProgressModel",
      "state": {
       "bar_style": "success",
       "layout": "IPY_MODEL_763ea1eeca6243b095d966eb0ec33852",
       "max": 1000000,
       "style": "IPY_MODEL_f53876f6bb9241938a1798b8946b1b47",
       "value": 1000000
      }
     },
     "df2ee66c37a7454dac2def8f29b45f85": {
      "model_module": "@jupyter-widgets/base",
      "model_module_version": "1.2.0",
      "model_name": "LayoutModel",
      "state": {}
     },
     "df9f3c5052194b14ac399c2e7bd012dc": {
      "model_module": "@jupyter-widgets/controls",
      "model_module_version": "1.5.0",
      "model_name": "HTMLModel",
      "state": {
       "layout": "IPY_MODEL_e945c9521e8d4a57b9d0f12b43c21368",
       "style": "IPY_MODEL_d87a7f9502c148ba84e35bef9e3177b5",
       "value": "100% 1000000/1000000 [00:05&lt;00:00, 193758.68it/s]"
      }
     },
     "dfa56fc5acd54218b03cbf51350bc26c": {
      "model_module": "@jupyter-widgets/base",
      "model_module_version": "1.2.0",
      "model_name": "LayoutModel",
      "state": {}
     },
     "e25259e0fff147d78d59be0e3c70e58f": {
      "model_module": "@jupyter-widgets/controls",
      "model_module_version": "1.5.0",
      "model_name": "DescriptionStyleModel",
      "state": {
       "description_width": ""
      }
     },
     "e279f73a5a21404d92f1f90395ba9620": {
      "model_module": "@jupyter-widgets/base",
      "model_module_version": "1.2.0",
      "model_name": "LayoutModel",
      "state": {}
     },
     "e44f0217ee774b0cb2c6e5afc6c562da": {
      "model_module": "@jupyter-widgets/controls",
      "model_module_version": "1.5.0",
      "model_name": "IntProgressModel",
      "state": {
       "bar_style": "success",
       "layout": "IPY_MODEL_82e44a6f6a6649b28d16b74b00844ff5",
       "max": 1000000,
       "style": "IPY_MODEL_64172925726c4e4ead3ea5819da5eddd",
       "value": 1000000
      }
     },
     "e498c351a81c40c2b7ff75a7fe197f1c": {
      "model_module": "@jupyter-widgets/controls",
      "model_module_version": "1.5.0",
      "model_name": "HBoxModel",
      "state": {
       "children": [
        "IPY_MODEL_5ea0b211c315499ab5e355a2e04d32d0",
        "IPY_MODEL_c43372c5c5984994a1f36552ddb57c5f"
       ],
       "layout": "IPY_MODEL_8fb95ef643b04519852abbc35fb7e85a"
      }
     },
     "e51c2b08256a4d4db035f524cd2f89ef": {
      "model_module": "@jupyter-widgets/controls",
      "model_module_version": "1.5.0",
      "model_name": "DescriptionStyleModel",
      "state": {
       "description_width": ""
      }
     },
     "e53d532507dc415781bf989092c3aaec": {
      "model_module": "@jupyter-widgets/controls",
      "model_module_version": "1.5.0",
      "model_name": "ProgressStyleModel",
      "state": {
       "description_width": ""
      }
     },
     "e58406f002b941fba01ae6e1e4293683": {
      "model_module": "@jupyter-widgets/base",
      "model_module_version": "1.2.0",
      "model_name": "LayoutModel",
      "state": {}
     },
     "e6dcee07362d4feaad29392d568a1f70": {
      "model_module": "@jupyter-widgets/base",
      "model_module_version": "1.2.0",
      "model_name": "LayoutModel",
      "state": {}
     },
     "e7cfad263fd34d08b5e0f5ee43d410dd": {
      "model_module": "@jupyter-widgets/controls",
      "model_module_version": "1.5.0",
      "model_name": "ProgressStyleModel",
      "state": {
       "description_width": ""
      }
     },
     "e8d23b0ace32434fa571e40aeaa6cebd": {
      "model_module": "@jupyter-widgets/controls",
      "model_module_version": "1.5.0",
      "model_name": "IntProgressModel",
      "state": {
       "bar_style": "success",
       "layout": "IPY_MODEL_324a199050264e79b102f977d407221b",
       "max": 100000,
       "style": "IPY_MODEL_7065ed658c734a94893444c4645c7fc7",
       "value": 100000
      }
     },
     "e8fe18d2d33544f894d8821fe79b2fa3": {
      "model_module": "@jupyter-widgets/controls",
      "model_module_version": "1.5.0",
      "model_name": "DescriptionStyleModel",
      "state": {
       "description_width": ""
      }
     },
     "e945c9521e8d4a57b9d0f12b43c21368": {
      "model_module": "@jupyter-widgets/base",
      "model_module_version": "1.2.0",
      "model_name": "LayoutModel",
      "state": {}
     },
     "e9a55f64bc6a4bb1baacae898bbc5175": {
      "model_module": "@jupyter-widgets/controls",
      "model_module_version": "1.5.0",
      "model_name": "ProgressStyleModel",
      "state": {
       "description_width": ""
      }
     },
     "e9b6b8847a3c44f2a2b32baf99b97b67": {
      "model_module": "@jupyter-widgets/base",
      "model_module_version": "1.2.0",
      "model_name": "LayoutModel",
      "state": {}
     },
     "e9c4ee4a5c0843e9b7e7eee5d07765cb": {
      "model_module": "@jupyter-widgets/base",
      "model_module_version": "1.2.0",
      "model_name": "LayoutModel",
      "state": {}
     },
     "e9c5ca57f59a4810b80e6a68994fd668": {
      "model_module": "@jupyter-widgets/controls",
      "model_module_version": "1.5.0",
      "model_name": "IntProgressModel",
      "state": {
       "bar_style": "success",
       "layout": "IPY_MODEL_357be22f4f584ac99fe455f873d444f9",
       "max": 1000000,
       "style": "IPY_MODEL_ab70985555454915ad29f81ac1063e61",
       "value": 1000000
      }
     },
     "ea3c8ea246064cf88f8275167b83d0aa": {
      "model_module": "@jupyter-widgets/controls",
      "model_module_version": "1.5.0",
      "model_name": "ProgressStyleModel",
      "state": {
       "description_width": ""
      }
     },
     "ea83457a8db9417eaeff669d3467d634": {
      "model_module": "@jupyter-widgets/controls",
      "model_module_version": "1.5.0",
      "model_name": "HTMLModel",
      "state": {
       "layout": "IPY_MODEL_ab62e4d5e2a04af286b9faabc3ac5d6b",
       "style": "IPY_MODEL_97005c57e78848cfb30d309ae3cf6e01",
       "value": "100% 1000000/1000000 [00:09&lt;00:00, 104266.94it/s]"
      }
     },
     "eaaa10cf5cca45a5a85f45f19811460c": {
      "model_module": "@jupyter-widgets/controls",
      "model_module_version": "1.5.0",
      "model_name": "IntProgressModel",
      "state": {
       "bar_style": "success",
       "layout": "IPY_MODEL_9dc3b10ed214425888db30a46f00e8b3",
       "max": 100000,
       "style": "IPY_MODEL_154deb4ec4fa4cc4ab6fc49d2632c009",
       "value": 100000
      }
     },
     "ec059d9370f3470d87ee8b3bef1431bf": {
      "model_module": "@jupyter-widgets/controls",
      "model_module_version": "1.5.0",
      "model_name": "HBoxModel",
      "state": {
       "children": [
        "IPY_MODEL_21566426b77543388662fb674046d10a",
        "IPY_MODEL_595f192f7cbe47998db60a44d372f28b"
       ],
       "layout": "IPY_MODEL_97ec2f520d8f40fe9d2495fe9903ed8e"
      }
     },
     "eca24d0474fb4788b3469c2e55981e62": {
      "model_module": "@jupyter-widgets/base",
      "model_module_version": "1.2.0",
      "model_name": "LayoutModel",
      "state": {}
     },
     "ed76527546f04017aac5ebfd4cdacfe6": {
      "model_module": "@jupyter-widgets/base",
      "model_module_version": "1.2.0",
      "model_name": "LayoutModel",
      "state": {}
     },
     "edd1d3b255824f43adcd39cc52afdced": {
      "model_module": "@jupyter-widgets/base",
      "model_module_version": "1.2.0",
      "model_name": "LayoutModel",
      "state": {}
     },
     "edeb1070112944ca99e6703c0e7b10e5": {
      "model_module": "@jupyter-widgets/controls",
      "model_module_version": "1.5.0",
      "model_name": "HBoxModel",
      "state": {
       "children": [
        "IPY_MODEL_db1721d7b55c4737a2076a53c75077f9",
        "IPY_MODEL_504b4df1b25a41ba94fbae0475767bf6"
       ],
       "layout": "IPY_MODEL_7deefbef22064cb9a1583d9b2f99131c"
      }
     },
     "eeb87b9567124198a3ba8401d7e537e8": {
      "model_module": "@jupyter-widgets/controls",
      "model_module_version": "1.5.0",
      "model_name": "DescriptionStyleModel",
      "state": {
       "description_width": ""
      }
     },
     "eff77eaeb955495984dc051442b90cda": {
      "model_module": "@jupyter-widgets/controls",
      "model_module_version": "1.5.0",
      "model_name": "DescriptionStyleModel",
      "state": {
       "description_width": ""
      }
     },
     "effaeef3eb2e43f6b97ebf52d7b61c25": {
      "model_module": "@jupyter-widgets/controls",
      "model_module_version": "1.5.0",
      "model_name": "IntProgressModel",
      "state": {
       "bar_style": "danger",
       "layout": "IPY_MODEL_ccd8f18a438e4115be46585460d60f7d",
       "max": 100000,
       "style": "IPY_MODEL_b7c0ff81ac7d4a9a968d5b22091c780f"
      }
     },
     "f01a0bbb57a44e82ad6434a119f31a80": {
      "model_module": "@jupyter-widgets/controls",
      "model_module_version": "1.5.0",
      "model_name": "IntProgressModel",
      "state": {
       "bar_style": "success",
       "layout": "IPY_MODEL_c5b8616b933845739a4ca550484815bb",
       "max": 1000000,
       "style": "IPY_MODEL_6ec24db576a34b09953cdcf53429c6c8",
       "value": 1000000
      }
     },
     "f06a364450f04d9eaade6cfcf5fcc6cd": {
      "model_module": "@jupyter-widgets/controls",
      "model_module_version": "1.5.0",
      "model_name": "HBoxModel",
      "state": {
       "children": [
        "IPY_MODEL_b5ab1c3634124faca8f85844358863c1",
        "IPY_MODEL_b8af10fe60414fec9ae7691ef9ed0ab5"
       ],
       "layout": "IPY_MODEL_ed76527546f04017aac5ebfd4cdacfe6"
      }
     },
     "f1d3a1bbd3ec41feb261d33077b8d0d7": {
      "model_module": "@jupyter-widgets/controls",
      "model_module_version": "1.5.0",
      "model_name": "DescriptionStyleModel",
      "state": {
       "description_width": ""
      }
     },
     "f20ba75f5fa446998a1f36533e80bec6": {
      "model_module": "@jupyter-widgets/controls",
      "model_module_version": "1.5.0",
      "model_name": "IntProgressModel",
      "state": {
       "bar_style": "success",
       "layout": "IPY_MODEL_c143ab6ea9914a78820622f658976135",
       "max": 1000000,
       "style": "IPY_MODEL_c58767c5c4554d269b93b36f076af213",
       "value": 1000000
      }
     },
     "f33f92c4168748dca5686623177d0157": {
      "model_module": "@jupyter-widgets/controls",
      "model_module_version": "1.5.0",
      "model_name": "DescriptionStyleModel",
      "state": {
       "description_width": ""
      }
     },
     "f35f2f4680af41439fec13a0c7f97784": {
      "model_module": "@jupyter-widgets/base",
      "model_module_version": "1.2.0",
      "model_name": "LayoutModel",
      "state": {}
     },
     "f4997085cd7d4b7a93228266e6aea0fa": {
      "model_module": "@jupyter-widgets/controls",
      "model_module_version": "1.5.0",
      "model_name": "IntProgressModel",
      "state": {
       "bar_style": "success",
       "layout": "IPY_MODEL_13f4f80116ee41318c926bc6b6162b38",
       "max": 100000,
       "style": "IPY_MODEL_6c0acb1621744a78a002d4beab38ac04",
       "value": 100000
      }
     },
     "f534f431931d475dae0a83ac1ea78181": {
      "model_module": "@jupyter-widgets/controls",
      "model_module_version": "1.5.0",
      "model_name": "DescriptionStyleModel",
      "state": {
       "description_width": ""
      }
     },
     "f53876f6bb9241938a1798b8946b1b47": {
      "model_module": "@jupyter-widgets/controls",
      "model_module_version": "1.5.0",
      "model_name": "ProgressStyleModel",
      "state": {
       "description_width": ""
      }
     },
     "f57705df968f4e6aab803ba614c0a708": {
      "model_module": "@jupyter-widgets/controls",
      "model_module_version": "1.5.0",
      "model_name": "HBoxModel",
      "state": {
       "children": [
        "IPY_MODEL_bbb7d2de486c44779fee7d8c83c408f5",
        "IPY_MODEL_01205e71b2fb4ce5b5dc1cc05c72cbed"
       ],
       "layout": "IPY_MODEL_30d80230843744beabafc493432916af"
      }
     },
     "f57cf63f18d64d7d9fb23804ca8aff45": {
      "model_module": "@jupyter-widgets/base",
      "model_module_version": "1.2.0",
      "model_name": "LayoutModel",
      "state": {}
     },
     "f5d7aab2804247388e7d0c269bc6b794": {
      "model_module": "@jupyter-widgets/base",
      "model_module_version": "1.2.0",
      "model_name": "LayoutModel",
      "state": {}
     },
     "f5e4ac0558fc4ac2a5d0b0305b2d7816": {
      "model_module": "@jupyter-widgets/controls",
      "model_module_version": "1.5.0",
      "model_name": "IntProgressModel",
      "state": {
       "bar_style": "success",
       "layout": "IPY_MODEL_b5d5842f4f2f4f569e5ab84928f7cea5",
       "max": 1000000,
       "style": "IPY_MODEL_e9a55f64bc6a4bb1baacae898bbc5175",
       "value": 1000000
      }
     },
     "f6f0cd0a9196464285ee89998edb699f": {
      "model_module": "@jupyter-widgets/base",
      "model_module_version": "1.2.0",
      "model_name": "LayoutModel",
      "state": {}
     },
     "f77765d724db4b7c971b93f83bbbf38b": {
      "model_module": "@jupyter-widgets/base",
      "model_module_version": "1.2.0",
      "model_name": "LayoutModel",
      "state": {}
     },
     "f7bc4ab58bee4909b326f7bfefd07163": {
      "model_module": "@jupyter-widgets/controls",
      "model_module_version": "1.5.0",
      "model_name": "IntProgressModel",
      "state": {
       "bar_style": "success",
       "layout": "IPY_MODEL_1b9fba5dec3e49ebae0eceb5e81f74c4",
       "max": 100000,
       "style": "IPY_MODEL_41035a87dfe041169ff39cc4e0c8c29a",
       "value": 100000
      }
     },
     "f87da69a20ac432c9bf72071ab3f34aa": {
      "model_module": "@jupyter-widgets/base",
      "model_module_version": "1.2.0",
      "model_name": "LayoutModel",
      "state": {}
     },
     "f8edf39ab5f44c349101b37e59eab929": {
      "model_module": "@jupyter-widgets/base",
      "model_module_version": "1.2.0",
      "model_name": "LayoutModel",
      "state": {}
     },
     "f9547416fd3f4c5eac78fa978785eb6e": {
      "model_module": "@jupyter-widgets/controls",
      "model_module_version": "1.5.0",
      "model_name": "IntProgressModel",
      "state": {
       "bar_style": "success",
       "layout": "IPY_MODEL_fe535866cfa34f69a79340f63d3cec68",
       "max": 1000000,
       "style": "IPY_MODEL_5fa932df62a24ab5b2168225d095b41f",
       "value": 1000000
      }
     },
     "f959796433dd4422bc4823ecc006c2cf": {
      "model_module": "@jupyter-widgets/base",
      "model_module_version": "1.2.0",
      "model_name": "LayoutModel",
      "state": {}
     },
     "f96fa4a003cb4214af9c5ae992fac90f": {
      "model_module": "@jupyter-widgets/controls",
      "model_module_version": "1.5.0",
      "model_name": "HBoxModel",
      "state": {
       "children": [
        "IPY_MODEL_5bf6239a5226420db69df30884470305",
        "IPY_MODEL_aa3e200818974a40b3e8038e9222a171"
       ],
       "layout": "IPY_MODEL_20c85fa53fc344c3bbe38e02f3a440ea"
      }
     },
     "f9a523db2fa8403891e4e0ee5ae1c84c": {
      "model_module": "@jupyter-widgets/base",
      "model_module_version": "1.2.0",
      "model_name": "LayoutModel",
      "state": {}
     },
     "f9ee7a9add4049eebd6a75577f934d23": {
      "model_module": "@jupyter-widgets/controls",
      "model_module_version": "1.5.0",
      "model_name": "DescriptionStyleModel",
      "state": {
       "description_width": ""
      }
     },
     "fa38671092b24185ab928bdc9d58487b": {
      "model_module": "@jupyter-widgets/controls",
      "model_module_version": "1.5.0",
      "model_name": "HBoxModel",
      "state": {
       "children": [
        "IPY_MODEL_d6d809ab740048168a57a026e529cb1a",
        "IPY_MODEL_23abf440369f4096a242424f7fe082db"
       ],
       "layout": "IPY_MODEL_a81f56cbf5614ecaab538b15f41dfa00"
      }
     },
     "fa6003ea205b4a368aef7301b1efae02": {
      "model_module": "@jupyter-widgets/controls",
      "model_module_version": "1.5.0",
      "model_name": "HTMLModel",
      "state": {
       "layout": "IPY_MODEL_0eb326af3bae4c669350ef5ab2781f82",
       "style": "IPY_MODEL_eff77eaeb955495984dc051442b90cda",
       "value": "100% 100000/100000 [00:10&lt;00:00, 9283.11it/s]"
      }
     },
     "fa93cd27beeb47d98688b9caa6529886": {
      "model_module": "@jupyter-widgets/controls",
      "model_module_version": "1.5.0",
      "model_name": "HBoxModel",
      "state": {
       "children": [
        "IPY_MODEL_8c75e2d8f6d5487e8cc8c9884d18d133",
        "IPY_MODEL_9aa08ff5109b44ce8d9241489b411bb0"
       ],
       "layout": "IPY_MODEL_3079d46b77f34eff9ab7de69edf0d216"
      }
     },
     "fab03f8bcb7248058d9d1cc639c07e9c": {
      "model_module": "@jupyter-widgets/controls",
      "model_module_version": "1.5.0",
      "model_name": "IntProgressModel",
      "state": {
       "bar_style": "success",
       "layout": "IPY_MODEL_4f642567c1724a859493ea88cc0a6bde",
       "max": 100000,
       "style": "IPY_MODEL_55f804a76a8445c0aa97d823b55d68ff",
       "value": 100000
      }
     },
     "fab60f3a4f5547d59350018285b472a0": {
      "model_module": "@jupyter-widgets/controls",
      "model_module_version": "1.5.0",
      "model_name": "HBoxModel",
      "state": {
       "children": [
        "IPY_MODEL_f4997085cd7d4b7a93228266e6aea0fa",
        "IPY_MODEL_dc09f364b8e74c58b064d7a04ca4ff50"
       ],
       "layout": "IPY_MODEL_1f674055626c48f2b4c5c9b3d03996ef"
      }
     },
     "fac89d0de50542f98207306889c8a494": {
      "model_module": "@jupyter-widgets/base",
      "model_module_version": "1.2.0",
      "model_name": "LayoutModel",
      "state": {}
     },
     "fb9e67bc26bd47f1baae4566fd92e789": {
      "model_module": "@jupyter-widgets/controls",
      "model_module_version": "1.5.0",
      "model_name": "ProgressStyleModel",
      "state": {
       "description_width": ""
      }
     },
     "fbb276383e4e4affb61fdfcd719c53d7": {
      "model_module": "@jupyter-widgets/controls",
      "model_module_version": "1.5.0",
      "model_name": "HTMLModel",
      "state": {
       "layout": "IPY_MODEL_c04d5fe9f48f44598987c5ab2c6dc8dd",
       "style": "IPY_MODEL_d5606f65010946d4b265a04e4b5620b9",
       "value": "100% 100000/100000 [00:00&lt;00:00, 179104.61it/s]"
      }
     },
     "fcec01eea71844ddbf341df4f17125fa": {
      "model_module": "@jupyter-widgets/controls",
      "model_module_version": "1.5.0",
      "model_name": "HTMLModel",
      "state": {
       "layout": "IPY_MODEL_96fc19322bd94fb68d78f8edafd7d020",
       "style": "IPY_MODEL_31ec67bad1284d6590f7785f52afa10e",
       "value": "100% 500000/500000 [00:02&lt;00:00, 218855.62it/s]"
      }
     },
     "fd74004146f844fc92008c974473b8a9": {
      "model_module": "@jupyter-widgets/controls",
      "model_module_version": "1.5.0",
      "model_name": "HTMLModel",
      "state": {
       "layout": "IPY_MODEL_1ed8c638abac46319d275e2b36ac44bb",
       "style": "IPY_MODEL_102c1217415b42c5852104df970e2d13",
       "value": "100% 100000/100000 [00:02&lt;00:00, 46895.80it/s]"
      }
     },
     "fdf2cd8a405f4da6836ed263c7e010cf": {
      "model_module": "@jupyter-widgets/base",
      "model_module_version": "1.2.0",
      "model_name": "LayoutModel",
      "state": {}
     },
     "fe535866cfa34f69a79340f63d3cec68": {
      "model_module": "@jupyter-widgets/base",
      "model_module_version": "1.2.0",
      "model_name": "LayoutModel",
      "state": {}
     },
     "feb13c4ca12d42bc991338fffcedb155": {
      "model_module": "@jupyter-widgets/controls",
      "model_module_version": "1.5.0",
      "model_name": "ProgressStyleModel",
      "state": {
       "description_width": ""
      }
     },
     "fefd6f3222404e5e9f6468f715a538e3": {
      "model_module": "@jupyter-widgets/base",
      "model_module_version": "1.2.0",
      "model_name": "LayoutModel",
      "state": {}
     },
     "ffef2742c76e4fdd9d766bfa949dcf9d": {
      "model_module": "@jupyter-widgets/controls",
      "model_module_version": "1.5.0",
      "model_name": "DescriptionStyleModel",
      "state": {
       "description_width": ""
      }
     }
    },
    "version_major": 2,
    "version_minor": 0
   }
  }
 },
 "nbformat": 4,
 "nbformat_minor": 4
}
