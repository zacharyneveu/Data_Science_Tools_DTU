{
 "cells": [
  {
   "cell_type": "markdown",
   "metadata": {},
   "source": [
    "# Join exercises\n",
    "Solve exercise 1 to 4 in this notebook.\n",
    "\n",
    "Run the following cells to prepare a database with data."
   ]
  },
  {
   "cell_type": "code",
   "execution_count": 25,
   "metadata": {},
   "outputs": [],
   "source": [
    "!rm cars.sqlite"
   ]
  },
  {
   "cell_type": "code",
   "execution_count": 26,
   "metadata": {},
   "outputs": [],
   "source": [
    "import sqlite3\n",
    "import pandas\n",
    "conn = sqlite3.connect('cars.sqlite')\n",
    "c = conn.cursor()"
   ]
  },
  {
   "cell_type": "code",
   "execution_count": 27,
   "metadata": {},
   "outputs": [],
   "source": [
    "people = '''\n",
    "CREATE TABLE IF NOT EXISTS people (\n",
    "    id INT NOT NULL,\n",
    "    name STRING NOT NULL,\n",
    "    PRIMARY KEY(Id)\n",
    ")\n",
    "'''\n",
    "c.execute(people)\n",
    "conn.commit()"
   ]
  },
  {
   "cell_type": "code",
   "execution_count": 28,
   "metadata": {},
   "outputs": [],
   "source": [
    "people_rows = '''\n",
    "INSERT INTO people (id, name) VALUES \n",
    "    (1, 'John'),\n",
    "    (2, 'Pat'),\n",
    "    (3, 'Michael'),\n",
    "    (4, 'Scott'),\n",
    "    (5, 'Jason'),\n",
    "    (6, 'Jane'),\n",
    "    (7, 'Miranda'),\n",
    "    (8, 'Simon')\n",
    "'''\n",
    "c.execute(people_rows)\n",
    "conn.commit()"
   ]
  },
  {
   "cell_type": "code",
   "execution_count": 29,
   "metadata": {},
   "outputs": [],
   "source": [
    "cars = '''\n",
    "CREATE TABLE IF NOT EXISTS cars (\n",
    "    people_id INT,\n",
    "    car STRING NOT NULL,\n",
    "    license STRING NOT NULL\n",
    ")\n",
    "'''\n",
    "c.execute(cars)\n",
    "conn.commit()"
   ]
  },
  {
   "cell_type": "code",
   "execution_count": 30,
   "metadata": {},
   "outputs": [],
   "source": [
    "cars_rows = '''\n",
    "INSERT INTO cars (people_id, car, license) VALUES \n",
    "    (1, 'Ford Escort', 'AB 12345'),\n",
    "    (3, 'Ford Escort', 'CD 98765'),\n",
    "    (1, 'Porsche 911', 'QW 13578'),\n",
    "    (6, 'Fiat Multipla', 'MORS DYT'),\n",
    "    (2, 'VW Golf GTI', 'AA 99999'),\n",
    "    (5, 'VW Polo', 'BB 74873'),\n",
    "    (4, 'Opel Kadett', 'TT 12345'),\n",
    "    (0, 'Mercedes', 'ZZ 76345'),\n",
    "    (1, 'Audi R8', 'QQ 23897')\n",
    "'''\n",
    "c.execute(cars_rows)\n",
    "conn.commit()"
   ]
  },
  {
   "cell_type": "markdown",
   "metadata": {},
   "source": [
    "If things went right, you should see two tables, `people` and `cars`, in the output from the following cells. You will query these in the exercises. "
   ]
  },
  {
   "cell_type": "code",
   "execution_count": 31,
   "metadata": {},
   "outputs": [
    {
     "data": {
      "text/html": [
       "<div>\n",
       "<style scoped>\n",
       "    .dataframe tbody tr th:only-of-type {\n",
       "        vertical-align: middle;\n",
       "    }\n",
       "\n",
       "    .dataframe tbody tr th {\n",
       "        vertical-align: top;\n",
       "    }\n",
       "\n",
       "    .dataframe thead th {\n",
       "        text-align: right;\n",
       "    }\n",
       "</style>\n",
       "<table border=\"1\" class=\"dataframe\">\n",
       "  <thead>\n",
       "    <tr style=\"text-align: right;\">\n",
       "      <th></th>\n",
       "      <th>id</th>\n",
       "      <th>name</th>\n",
       "    </tr>\n",
       "  </thead>\n",
       "  <tbody>\n",
       "    <tr>\n",
       "      <th>0</th>\n",
       "      <td>1</td>\n",
       "      <td>John</td>\n",
       "    </tr>\n",
       "    <tr>\n",
       "      <th>1</th>\n",
       "      <td>2</td>\n",
       "      <td>Pat</td>\n",
       "    </tr>\n",
       "    <tr>\n",
       "      <th>2</th>\n",
       "      <td>3</td>\n",
       "      <td>Michael</td>\n",
       "    </tr>\n",
       "    <tr>\n",
       "      <th>3</th>\n",
       "      <td>4</td>\n",
       "      <td>Scott</td>\n",
       "    </tr>\n",
       "    <tr>\n",
       "      <th>4</th>\n",
       "      <td>5</td>\n",
       "      <td>Jason</td>\n",
       "    </tr>\n",
       "    <tr>\n",
       "      <th>5</th>\n",
       "      <td>6</td>\n",
       "      <td>Jane</td>\n",
       "    </tr>\n",
       "    <tr>\n",
       "      <th>6</th>\n",
       "      <td>7</td>\n",
       "      <td>Miranda</td>\n",
       "    </tr>\n",
       "    <tr>\n",
       "      <th>7</th>\n",
       "      <td>8</td>\n",
       "      <td>Simon</td>\n",
       "    </tr>\n",
       "  </tbody>\n",
       "</table>\n",
       "</div>"
      ],
      "text/plain": [
       "   id     name\n",
       "0   1     John\n",
       "1   2      Pat\n",
       "2   3  Michael\n",
       "3   4    Scott\n",
       "4   5    Jason\n",
       "5   6     Jane\n",
       "6   7  Miranda\n",
       "7   8    Simon"
      ]
     },
     "execution_count": 31,
     "metadata": {},
     "output_type": "execute_result"
    }
   ],
   "source": [
    "import pandas\n",
    "c.execute('SELECT * FROM people')\n",
    "pandas.DataFrame(c.fetchall(), columns=['id', 'name'])"
   ]
  },
  {
   "cell_type": "code",
   "execution_count": 36,
   "metadata": {},
   "outputs": [
    {
     "data": {
      "text/html": [
       "<div>\n",
       "<style scoped>\n",
       "    .dataframe tbody tr th:only-of-type {\n",
       "        vertical-align: middle;\n",
       "    }\n",
       "\n",
       "    .dataframe tbody tr th {\n",
       "        vertical-align: top;\n",
       "    }\n",
       "\n",
       "    .dataframe thead th {\n",
       "        text-align: right;\n",
       "    }\n",
       "</style>\n",
       "<table border=\"1\" class=\"dataframe\">\n",
       "  <thead>\n",
       "    <tr style=\"text-align: right;\">\n",
       "      <th></th>\n",
       "      <th>people_id</th>\n",
       "      <th>car</th>\n",
       "      <th>license</th>\n",
       "    </tr>\n",
       "  </thead>\n",
       "  <tbody>\n",
       "    <tr>\n",
       "      <th>0</th>\n",
       "      <td>1</td>\n",
       "      <td>Ford Escort</td>\n",
       "      <td>AB 12345</td>\n",
       "    </tr>\n",
       "    <tr>\n",
       "      <th>1</th>\n",
       "      <td>3</td>\n",
       "      <td>Ford Escort</td>\n",
       "      <td>CD 98765</td>\n",
       "    </tr>\n",
       "    <tr>\n",
       "      <th>2</th>\n",
       "      <td>1</td>\n",
       "      <td>Porsche 911</td>\n",
       "      <td>QW 13578</td>\n",
       "    </tr>\n",
       "    <tr>\n",
       "      <th>3</th>\n",
       "      <td>6</td>\n",
       "      <td>Fiat Multipla</td>\n",
       "      <td>MORS DYT</td>\n",
       "    </tr>\n",
       "    <tr>\n",
       "      <th>4</th>\n",
       "      <td>2</td>\n",
       "      <td>VW Golf GTI</td>\n",
       "      <td>AA 99999</td>\n",
       "    </tr>\n",
       "    <tr>\n",
       "      <th>5</th>\n",
       "      <td>5</td>\n",
       "      <td>VW Polo</td>\n",
       "      <td>BB 74873</td>\n",
       "    </tr>\n",
       "    <tr>\n",
       "      <th>6</th>\n",
       "      <td>4</td>\n",
       "      <td>Opel Kadett</td>\n",
       "      <td>TT 12345</td>\n",
       "    </tr>\n",
       "    <tr>\n",
       "      <th>7</th>\n",
       "      <td>0</td>\n",
       "      <td>Mercedes</td>\n",
       "      <td>ZZ 76345</td>\n",
       "    </tr>\n",
       "    <tr>\n",
       "      <th>8</th>\n",
       "      <td>1</td>\n",
       "      <td>Audi R8</td>\n",
       "      <td>QQ 23897</td>\n",
       "    </tr>\n",
       "  </tbody>\n",
       "</table>\n",
       "</div>"
      ],
      "text/plain": [
       "   people_id            car   license\n",
       "0          1    Ford Escort  AB 12345\n",
       "1          3    Ford Escort  CD 98765\n",
       "2          1    Porsche 911  QW 13578\n",
       "3          6  Fiat Multipla  MORS DYT\n",
       "4          2    VW Golf GTI  AA 99999\n",
       "5          5        VW Polo  BB 74873\n",
       "6          4    Opel Kadett  TT 12345\n",
       "7          0       Mercedes  ZZ 76345\n",
       "8          1        Audi R8  QQ 23897"
      ]
     },
     "execution_count": 36,
     "metadata": {},
     "output_type": "execute_result"
    }
   ],
   "source": [
    "c.execute('SELECT * FROM cars')\n",
    "pandas.DataFrame(c.fetchall(), columns=['people_id', 'car', 'license'])"
   ]
  },
  {
   "cell_type": "code",
   "execution_count": 42,
   "metadata": {},
   "outputs": [
    {
     "data": {
      "text/plain": [
       "[(1, 'Ford Escort', 'AB 12345'),\n",
       " (3, 'Ford Escort', 'CD 98765'),\n",
       " (1, 'Porsche 911', 'QW 13578'),\n",
       " (6, 'Fiat Multipla', 'MORS DYT'),\n",
       " (2, 'VW Golf GTI', 'AA 99999'),\n",
       " (5, 'VW Polo', 'BB 74873'),\n",
       " (4, 'Opel Kadett', 'TT 12345'),\n",
       " (0, 'Mercedes', 'ZZ 76345'),\n",
       " (1, 'Audi R8', 'QQ 23897')]"
      ]
     },
     "execution_count": 42,
     "metadata": {},
     "output_type": "execute_result"
    }
   ],
   "source": [
    "c.execute('SELECT * FROM cars')\n",
    "c.fetchall()"
   ]
  },
  {
   "cell_type": "code",
   "execution_count": 43,
   "metadata": {},
   "outputs": [
    {
     "data": {
      "text/plain": [
       "[(1, 'John'),\n",
       " (2, 'Pat'),\n",
       " (3, 'Michael'),\n",
       " (4, 'Scott'),\n",
       " (5, 'Jason'),\n",
       " (6, 'Jane'),\n",
       " (7, 'Miranda'),\n",
       " (8, 'Simon')]"
      ]
     },
     "execution_count": 43,
     "metadata": {},
     "output_type": "execute_result"
    }
   ],
   "source": [
    "c.execute('SELECT * from people')\n",
    "c.fetchall()"
   ]
  },
  {
   "cell_type": "code",
   "execution_count": 51,
   "metadata": {},
   "outputs": [
    {
     "data": {
      "text/plain": [
       "[(1, 'John', 'Ford Escort', 'AB 12345'),\n",
       " (3, 'Michael', 'Ford Escort', 'CD 98765'),\n",
       " (1, 'John', 'Porsche 911', 'QW 13578'),\n",
       " (6, 'Jane', 'Fiat Multipla', 'MORS DYT'),\n",
       " (2, 'Pat', 'VW Golf GTI', 'AA 99999'),\n",
       " (5, 'Jason', 'VW Polo', 'BB 74873'),\n",
       " (4, 'Scott', 'Opel Kadett', 'TT 12345'),\n",
       " (1, 'John', 'Audi R8', 'QQ 23897')]"
      ]
     },
     "execution_count": 51,
     "metadata": {},
     "output_type": "execute_result"
    }
   ],
   "source": [
    "c.execute('SELECT people_id, name, car, license FROM cars INNER JOIN people on cars.people_id = people.id')\n",
    "c.fetchall()"
   ]
  },
  {
   "cell_type": "markdown",
   "metadata": {},
   "source": [
    "# Exercises\n",
    "## Exercise 1\n",
    "Write an SQL query using a join that produces the following result (the order of the rows is not important)."
   ]
  },
  {
   "cell_type": "markdown",
   "metadata": {},
   "source": [
    "```\n",
    "    Name            Car    License\n",
    "    John    Ford Escort   AB 12345\n",
    " Michael    Ford Escort   CD 98765\n",
    "    John    Porsche 911   QW 13578\n",
    "    Jane  Fiat Multipla   MORS DYT\n",
    "     Pat    VW Golf GTI   AA 99999\n",
    "   Jason        VW Polo  BB 748723\n",
    "   Scott    Opel Kadett   TT 12345\n",
    "    John        Audi R8   QQ 23897\n",
    "```"
   ]
  },
  {
   "cell_type": "code",
   "execution_count": 52,
   "metadata": {},
   "outputs": [
    {
     "name": "stdout",
     "output_type": "stream",
     "text": [
      "Name            Car   License\n",
      "   John    Ford Escort  AB 12345\n",
      "Michael    Ford Escort  CD 98765\n",
      "   John    Porsche 911  QW 13578\n",
      "   Jane  Fiat Multipla  MORS DYT\n",
      "    Pat    VW Golf GTI  AA 99999\n",
      "  Jason        VW Polo  BB 74873\n",
      "  Scott    Opel Kadett  TT 12345\n",
      "   John        Audi R8  QQ 23897\n"
     ]
    }
   ],
   "source": [
    "# Your query here (the cursor is called c)\n",
    "c.execute('SELECT name, car, license FROM cars JOIN people on people.id = cars.people_id')\n",
    "print(pandas.DataFrame(c.fetchall(), columns=['Name', 'Car', 'License']).to_string(index=False))"
   ]
  },
  {
   "cell_type": "markdown",
   "metadata": {},
   "source": [
    "## Exercise 2\n",
    "Write an SQL query using a join that produces the following result (the order of the rows is not important)."
   ]
  },
  {
   "cell_type": "markdown",
   "metadata": {},
   "source": [
    "```\n",
    "    Name            Car    License\n",
    "    John    Ford Escort   AB 12345\n",
    "    John    Porsche 911   QW 13578\n",
    "     Pat    VW Golf GTI   AA 99999\n",
    " Michael    Ford Escort   CD 98765\n",
    "   Scott    Opel Kadett   TT 12345\n",
    "   Jason        VW Polo  BB 748723\n",
    "    Jane  Fiat Multipla   MORS DYT\n",
    " Miranda\n",
    "    John        Audi R8   QQ 23897\n",
    "   Simon\n",
    "```"
   ]
  },
  {
   "cell_type": "code",
   "execution_count": 57,
   "metadata": {},
   "outputs": [
    {
     "name": "stdout",
     "output_type": "stream",
     "text": [
      "Name            Car   License\n",
      "   Jane  Fiat Multipla  MORS DYT\n",
      "  Jason        VW Polo  BB 74873\n",
      "   John    Ford Escort  AB 12345\n",
      "Michael    Ford Escort  CD 98765\n",
      "    Pat    VW Golf GTI  AA 99999\n",
      "  Scott    Opel Kadett  TT 12345\n"
     ]
    }
   ],
   "source": [
    "c.execute('SELECT name, car, license from cars JOIN people on people.id = cars.people_id GROUP BY name')\n",
    "print(pandas.DataFrame(c.fetchall(), columns=['Name', 'Car', 'License']).to_string(index=False))"
   ]
  },
  {
   "cell_type": "markdown",
   "metadata": {},
   "source": [
    "## Exercise 3\n",
    "Write an SQL query using a join that produces the following result (the order of the rows is not important)."
   ]
  },
  {
   "cell_type": "markdown",
   "metadata": {},
   "source": [
    "```\n",
    "    Name   Car License\n",
    " Miranda\n",
    "   Simon\n",
    "```"
   ]
  },
  {
   "cell_type": "code",
   "execution_count": 11,
   "metadata": {},
   "outputs": [],
   "source": [
    "# Your query here"
   ]
  },
  {
   "cell_type": "markdown",
   "metadata": {},
   "source": [
    "## Exercise 4\n",
    "Write an SQL query using a join that produces the following result (the order of the rows is not important)."
   ]
  },
  {
   "cell_type": "markdown",
   "metadata": {},
   "source": [
    "```\n",
    "     Car   License\n",
    "Mercedes   ZZ 76345\n",
    "```"
   ]
  },
  {
   "cell_type": "code",
   "execution_count": null,
   "metadata": {},
   "outputs": [],
   "source": [
    "# Your query here"
   ]
  }
 ],
 "metadata": {
  "kernelspec": {
   "display_name": "Python 3",
   "language": "python",
   "name": "python3"
  },
  "language_info": {
   "codemirror_mode": {
    "name": "ipython",
    "version": 3
   },
   "file_extension": ".py",
   "mimetype": "text/x-python",
   "name": "python",
   "nbconvert_exporter": "python",
   "pygments_lexer": "ipython3",
   "version": "3.7.1"
  }
 },
 "nbformat": 4,
 "nbformat_minor": 4
}
