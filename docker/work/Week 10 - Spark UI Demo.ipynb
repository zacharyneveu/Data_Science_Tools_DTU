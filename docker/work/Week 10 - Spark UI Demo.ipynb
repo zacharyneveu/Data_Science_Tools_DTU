{
 "cells": [
  {
   "cell_type": "markdown",
   "metadata": {},
   "source": [
    "# Creating a Spark session"
   ]
  },
  {
   "cell_type": "code",
   "execution_count": 1,
   "metadata": {},
   "outputs": [],
   "source": [
    "from pyspark.sql import *\n",
    "from pyspark.sql import functions as f\n",
    "from pyspark.sql.types import *\n",
    "\n",
    "spark = SparkSession.builder.appName(\"SparkIntro\").getOrCreate()"
   ]
  },
  {
   "cell_type": "markdown",
   "metadata": {},
   "source": [
    "# The Spark UI\n",
    "When you run a cell with Spark code in Jupyter, the code is submitted as a job to Spark. You can access the Spark UI on [http://127.0.0.1:4040/](http://127.0.0.1:4040/).\n",
    "\n",
    "The Spark UI gives you all the information you need about your Spark job."
   ]
  },
  {
   "cell_type": "markdown",
   "metadata": {},
   "source": [
    "# The web traffic data"
   ]
  },
  {
   "cell_type": "code",
   "execution_count": 2,
   "metadata": {},
   "outputs": [],
   "source": [
    "df = spark.read.option('delimiter', '\\t').csv('data/traffic_2')"
   ]
  },
  {
   "cell_type": "code",
   "execution_count": 3,
   "metadata": {},
   "outputs": [
    {
     "name": "stdout",
     "output_type": "stream",
     "text": [
      "+---------------+-----------------+\n",
      "|            _c0|              _c1|\n",
      "+---------------+-----------------+\n",
      "| 186.99.192.116|       python.org|\n",
      "| 202.152.82.171|    wikipedia.org|\n",
      "|130.126.231.205|       python.org|\n",
      "|116.142.112.214|pandas.pydata.org|\n",
      "|113.124.204.127|       python.org|\n",
      "|  143.30.183.87|    wikipedia.org|\n",
      "| 138.74.228.219|       python.org|\n",
      "|  56.120.106.87|    wikipedia.org|\n",
      "| 189.119.55.225|    wikipedia.org|\n",
      "| 180.110.73.101|    wikipedia.org|\n",
      "|125.147.103.124|       python.org|\n",
      "|   89.161.15.82|    wikipedia.org|\n",
      "| 64.108.133.139|pandas.pydata.org|\n",
      "|   87.91.133.89|pandas.pydata.org|\n",
      "|111.141.147.118|    wikipedia.org|\n",
      "|    97.65.99.76|    wikipedia.org|\n",
      "|   80.99.56.157|    wikipedia.org|\n",
      "| 122.86.146.117|    wikipedia.org|\n",
      "| 200.132.86.152|pandas.pydata.org|\n",
      "|  98.200.179.72|       python.org|\n",
      "+---------------+-----------------+\n",
      "only showing top 20 rows\n",
      "\n"
     ]
    }
   ],
   "source": [
    "df.show()"
   ]
  },
  {
   "cell_type": "code",
   "execution_count": 4,
   "metadata": {},
   "outputs": [],
   "source": [
    "distinct_ips = df.groupBy('_c1').agg(f.countDistinct('_c0'))"
   ]
  },
  {
   "cell_type": "code",
   "execution_count": 5,
   "metadata": {},
   "outputs": [
    {
     "name": "stdout",
     "output_type": "stream",
     "text": [
      "+-----------------+-------------------+\n",
      "|              _c1|count(DISTINCT _c0)|\n",
      "+-----------------+-------------------+\n",
      "|pandas.pydata.org|           60714478|\n",
      "|   databricks.com|            6265888|\n",
      "|    datarobot.com|            1266847|\n",
      "|       github.com|            6270433|\n",
      "|       google.com|           12483960|\n",
      "|   scala-lang.org|                  1|\n",
      "|    wikipedia.org|          221880372|\n",
      "|       python.org|          117667749|\n",
      "|           dtu.dk|           12485696|\n",
      "| spark.apache.org|            2522151|\n",
      "+-----------------+-------------------+\n",
      "\n"
     ]
    }
   ],
   "source": [
    "distinct_ips.show()"
   ]
  },
  {
   "cell_type": "code",
   "execution_count": 18,
   "metadata": {},
   "outputs": [
    {
     "name": "stdout",
     "output_type": "stream",
     "text": [
      "== Physical Plan ==\n",
      "*(3) HashAggregate(keys=[_c1#105], functions=[count(distinct _c0#104)])\n",
      "+- Exchange hashpartitioning(_c1#105, 200)\n",
      "   +- *(2) HashAggregate(keys=[_c1#105], functions=[partial_count(distinct _c0#104)])\n",
      "      +- *(2) HashAggregate(keys=[_c1#105, _c0#104], functions=[])\n",
      "         +- Exchange hashpartitioning(_c1#105, _c0#104, 200)\n",
      "            +- *(1) HashAggregate(keys=[_c1#105, _c0#104], functions=[])\n",
      "               +- *(1) FileScan csv [_c0#104,_c1#105] Batched: false, Format: CSV, Location: InMemoryFileIndex[file:/home/jovyan/work/data/traffic_2], PartitionFilters: [], PushedFilters: [], ReadSchema: struct<_c0:string,_c1:string>\n"
     ]
    }
   ],
   "source": [
    "distinct_ips.explain()"
   ]
  }
 ],
 "metadata": {
  "kernelspec": {
   "display_name": "Python 3",
   "language": "python",
   "name": "python3"
  },
  "language_info": {
   "codemirror_mode": {
    "name": "ipython",
    "version": 3
   },
   "file_extension": ".py",
   "mimetype": "text/x-python",
   "name": "python",
   "nbconvert_exporter": "python",
   "pygments_lexer": "ipython3",
   "version": "3.7.3"
  }
 },
 "nbformat": 4,
 "nbformat_minor": 2
}
