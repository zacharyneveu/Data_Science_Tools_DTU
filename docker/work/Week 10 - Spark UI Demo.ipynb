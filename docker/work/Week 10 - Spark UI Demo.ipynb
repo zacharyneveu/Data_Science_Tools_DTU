{
 "cells": [
  {
   "cell_type": "markdown",
   "metadata": {},
   "source": [
    "# Creating a Spark session"
   ]
  },
  {
   "cell_type": "code",
   "execution_count": 1,
   "metadata": {},
   "outputs": [],
   "source": [
    "from pyspark.sql import *\n",
    "from pyspark.sql import functions as f\n",
    "from pyspark.sql.types import *\n",
    "\n",
    "spark = SparkSession.builder.appName(\"SparkIntro\").getOrCreate()"
   ]
  },
  {
   "cell_type": "code",
   "execution_count": 9,
   "metadata": {},
   "outputs": [],
   "source": [
    "spark.conf.set('spark.executor.memory', '2g')"
   ]
  },
  {
   "cell_type": "markdown",
   "metadata": {},
   "source": [
    "# The Spark UI\n",
    "When you run a cell with Spark code in Jupyter, the code is submitted as a job to Spark. You can access the Spark UI on [http://127.0.0.1:4040/](http://127.0.0.1:4040/).\n",
    "\n",
    "The Spark UI gives you all the information you need about your Spark job."
   ]
  },
  {
   "cell_type": "markdown",
   "metadata": {},
   "source": [
    "# The web traffic data"
   ]
  },
  {
   "cell_type": "code",
   "execution_count": 2,
   "metadata": {},
   "outputs": [],
   "source": [
    "df = spark.read.option('delimiter', '\\t').csv('/home/zach/Downloads/traffic_2')"
   ]
  },
  {
   "cell_type": "code",
   "execution_count": 3,
   "metadata": {},
   "outputs": [],
   "source": [
    "df = spark.read.option('delimiter', '\\t').parquet('/home/zach/Downloads/traffic_2.parquet')"
   ]
  },
  {
   "cell_type": "code",
   "execution_count": 4,
   "metadata": {},
   "outputs": [
    {
     "name": "stdout",
     "output_type": "stream",
     "text": [
      "+---------------+-----------------+-----+\n",
      "|             IP|           domain|index|\n",
      "+---------------+-----------------+-----+\n",
      "|  131.27.117.99|pandas.pydata.org|    0|\n",
      "|  40.141.84.255|       python.org|    1|\n",
      "| 49.118.194.141|pandas.pydata.org|    2|\n",
      "| 170.43.117.137|    wikipedia.org|    3|\n",
      "|  175.82.161.42|    wikipedia.org|    4|\n",
      "|  200.96.13.120|       python.org|    5|\n",
      "|134.140.117.109|    wikipedia.org|    6|\n",
      "| 111.136.74.104|       python.org|    7|\n",
      "|  97.146.214.83|    wikipedia.org|    8|\n",
      "|149.159.115.127|pandas.pydata.org|    9|\n",
      "| 81.142.132.131|       python.org|   10|\n",
      "|161.250.127.110|       python.org|   11|\n",
      "|  178.79.180.72|pandas.pydata.org|   12|\n",
      "|  53.33.196.126|       python.org|   13|\n",
      "|  61.33.198.125|       python.org|   14|\n",
      "|  87.167.123.33|           dtu.dk|   15|\n",
      "| 147.151.200.52|       python.org|   16|\n",
      "|174.208.121.101|    wikipedia.org|   17|\n",
      "| 123.155.85.124|    wikipedia.org|   18|\n",
      "|119.119.206.121|           dtu.dk|   19|\n",
      "+---------------+-----------------+-----+\n",
      "only showing top 20 rows\n",
      "\n"
     ]
    }
   ],
   "source": [
    "df.show()"
   ]
  },
  {
   "cell_type": "code",
   "execution_count": 13,
   "metadata": {},
   "outputs": [],
   "source": [
    "distinct_ips = df.groupBy('_c1').agg(f.countDistinct('_c0'))"
   ]
  },
  {
   "cell_type": "code",
   "execution_count": null,
   "metadata": {},
   "outputs": [],
   "source": [
    "distinct_ips.show()"
   ]
  },
  {
   "cell_type": "code",
   "execution_count": 18,
   "metadata": {},
   "outputs": [
    {
     "name": "stdout",
     "output_type": "stream",
     "text": [
      "== Physical Plan ==\n",
      "*(3) HashAggregate(keys=[_c1#105], functions=[count(distinct _c0#104)])\n",
      "+- Exchange hashpartitioning(_c1#105, 200)\n",
      "   +- *(2) HashAggregate(keys=[_c1#105], functions=[partial_count(distinct _c0#104)])\n",
      "      +- *(2) HashAggregate(keys=[_c1#105, _c0#104], functions=[])\n",
      "         +- Exchange hashpartitioning(_c1#105, _c0#104, 200)\n",
      "            +- *(1) HashAggregate(keys=[_c1#105, _c0#104], functions=[])\n",
      "               +- *(1) FileScan csv [_c0#104,_c1#105] Batched: false, Format: CSV, Location: InMemoryFileIndex[file:/home/jovyan/work/data/traffic_2], PartitionFilters: [], PushedFilters: [], ReadSchema: struct<_c0:string,_c1:string>\n"
     ]
    }
   ],
   "source": [
    "distinct_ips.explain()"
   ]
  },
  {
   "cell_type": "markdown",
   "metadata": {},
   "source": [
    "## Ex 2."
   ]
  },
  {
   "cell_type": "code",
   "execution_count": 3,
   "metadata": {},
   "outputs": [],
   "source": [
    "titan_df = spark.read.option('header', True).option('inferSchema', True).csv(\"data/titanic.csv\")"
   ]
  },
  {
   "cell_type": "code",
   "execution_count": 4,
   "metadata": {},
   "outputs": [
    {
     "name": "stdout",
     "output_type": "stream",
     "text": [
      "+-----------+--------+------+--------------------+------+----+-----+-----+----------------+-------+-----+--------+\n",
      "|PassengerId|Survived|Pclass|                Name|   Sex| Age|SibSp|Parch|          Ticket|   Fare|Cabin|Embarked|\n",
      "+-----------+--------+------+--------------------+------+----+-----+-----+----------------+-------+-----+--------+\n",
      "|          1|   false|     3|Braund, Mr. Owen ...|  male|22.0|    1|    0|       A/5 21171|   7.25| null|       S|\n",
      "|          2|    true|     1|Cumings, Mrs. Joh...|female|38.0|    1|    0|        PC 17599|71.2833|  C85|       C|\n",
      "|          3|    true|     3|Heikkinen, Miss. ...|female|26.0|    0|    0|STON/O2. 3101282|  7.925| null|       S|\n",
      "|          4|    true|     1|Futrelle, Mrs. Ja...|female|35.0|    1|    0|          113803|   53.1| C123|       S|\n",
      "|          5|   false|     3|Allen, Mr. Willia...|  male|35.0|    0|    0|          373450|   8.05| null|       S|\n",
      "|          6|   false|     3|    Moran, Mr. James|  male|null|    0|    0|          330877| 8.4583| null|       Q|\n",
      "|          7|   false|     1|McCarthy, Mr. Tim...|  male|54.0|    0|    0|           17463|51.8625|  E46|       S|\n",
      "|          8|   false|     3|Palsson, Master. ...|  male| 2.0|    3|    1|          349909| 21.075| null|       S|\n",
      "|          9|    true|     3|Johnson, Mrs. Osc...|female|27.0|    0|    2|          347742|11.1333| null|       S|\n",
      "|         10|    true|     2|Nasser, Mrs. Nich...|female|14.0|    1|    0|          237736|30.0708| null|       C|\n",
      "|         11|    true|     3|Sandstrom, Miss. ...|female| 4.0|    1|    1|         PP 9549|   16.7|   G6|       S|\n",
      "|         12|    true|     1|Bonnell, Miss. El...|female|58.0|    0|    0|          113783|  26.55| C103|       S|\n",
      "|         13|   false|     3|Saundercock, Mr. ...|  male|20.0|    0|    0|       A/5. 2151|   8.05| null|       S|\n",
      "|         14|   false|     3|Andersson, Mr. An...|  male|39.0|    1|    5|          347082| 31.275| null|       S|\n",
      "|         15|   false|     3|Vestrom, Miss. Hu...|female|14.0|    0|    0|          350406| 7.8542| null|       S|\n",
      "|         16|    true|     2|Hewlett, Mrs. (Ma...|female|55.0|    0|    0|          248706|   16.0| null|       S|\n",
      "|         17|   false|     3|Rice, Master. Eugene|  male| 2.0|    4|    1|          382652| 29.125| null|       Q|\n",
      "|         18|    true|     2|Williams, Mr. Cha...|  male|null|    0|    0|          244373|   13.0| null|       S|\n",
      "|         19|   false|     3|Vander Planke, Mr...|female|31.0|    1|    0|          345763|   18.0| null|       S|\n",
      "|         20|    true|     3|Masselmani, Mrs. ...|female|null|    0|    0|            2649|  7.225| null|       C|\n",
      "+-----------+--------+------+--------------------+------+----+-----+-----+----------------+-------+-----+--------+\n",
      "only showing top 20 rows\n",
      "\n"
     ]
    }
   ],
   "source": [
    "titan_df.show()"
   ]
  },
  {
   "cell_type": "code",
   "execution_count": 10,
   "metadata": {},
   "outputs": [],
   "source": [
    "titan_df = titan_df.where(\"Age is not null\")"
   ]
  },
  {
   "cell_type": "code",
   "execution_count": 17,
   "metadata": {},
   "outputs": [
    {
     "name": "stdout",
     "output_type": "stream",
     "text": [
      "+-----------+--------+------+--------------------+------+----+-----+-----+----------------+-------+-----+--------+\n",
      "|PassengerId|Survived|Pclass|                Name|   Sex| Age|SibSp|Parch|          Ticket|   Fare|Cabin|Embarked|\n",
      "+-----------+--------+------+--------------------+------+----+-----+-----+----------------+-------+-----+--------+\n",
      "|          1|   false|     3|Braund, Mr. Owen ...|  male|22.0|    1|    0|       A/5 21171|   7.25| null|       S|\n",
      "|          2|    true|     1|Cumings, Mrs. Joh...|female|38.0|    1|    0|        PC 17599|71.2833|  C85|       C|\n",
      "|          3|    true|     3|Heikkinen, Miss. ...|female|26.0|    0|    0|STON/O2. 3101282|  7.925| null|       S|\n",
      "|          4|    true|     1|Futrelle, Mrs. Ja...|female|35.0|    1|    0|          113803|   53.1| C123|       S|\n",
      "|          5|   false|     3|Allen, Mr. Willia...|  male|35.0|    0|    0|          373450|   8.05| null|       S|\n",
      "|          7|   false|     1|McCarthy, Mr. Tim...|  male|54.0|    0|    0|           17463|51.8625|  E46|       S|\n",
      "|          8|   false|     3|Palsson, Master. ...|  male| 2.0|    3|    1|          349909| 21.075| null|       S|\n",
      "|          9|    true|     3|Johnson, Mrs. Osc...|female|27.0|    0|    2|          347742|11.1333| null|       S|\n",
      "|         10|    true|     2|Nasser, Mrs. Nich...|female|14.0|    1|    0|          237736|30.0708| null|       C|\n",
      "|         11|    true|     3|Sandstrom, Miss. ...|female| 4.0|    1|    1|         PP 9549|   16.7|   G6|       S|\n",
      "|         12|    true|     1|Bonnell, Miss. El...|female|58.0|    0|    0|          113783|  26.55| C103|       S|\n",
      "|         13|   false|     3|Saundercock, Mr. ...|  male|20.0|    0|    0|       A/5. 2151|   8.05| null|       S|\n",
      "|         14|   false|     3|Andersson, Mr. An...|  male|39.0|    1|    5|          347082| 31.275| null|       S|\n",
      "|         15|   false|     3|Vestrom, Miss. Hu...|female|14.0|    0|    0|          350406| 7.8542| null|       S|\n",
      "|         16|    true|     2|Hewlett, Mrs. (Ma...|female|55.0|    0|    0|          248706|   16.0| null|       S|\n",
      "|         17|   false|     3|Rice, Master. Eugene|  male| 2.0|    4|    1|          382652| 29.125| null|       Q|\n",
      "|         19|   false|     3|Vander Planke, Mr...|female|31.0|    1|    0|          345763|   18.0| null|       S|\n",
      "|         21|   false|     2|Fynney, Mr. Joseph J|  male|35.0|    0|    0|          239865|   26.0| null|       S|\n",
      "|         22|    true|     2|Beesley, Mr. Lawr...|  male|34.0|    0|    0|          248698|   13.0|  D56|       S|\n",
      "|         23|    true|     3|\"McGowan, Miss. A...|female|15.0|    0|    0|          330923| 8.0292| null|       Q|\n",
      "+-----------+--------+------+--------------------+------+----+-----+-----+----------------+-------+-----+--------+\n",
      "only showing top 20 rows\n",
      "\n"
     ]
    }
   ],
   "source": [
    "titan_df.show()"
   ]
  },
  {
   "cell_type": "code",
   "execution_count": 18,
   "metadata": {},
   "outputs": [
    {
     "ename": "TypeError",
     "evalue": "'DataFrame' object does not support item assignment",
     "output_type": "error",
     "traceback": [
      "\u001b[0;31m---------------------------------------------------------------------------\u001b[0m",
      "\u001b[0;31mTypeError\u001b[0m                                 Traceback (most recent call last)",
      "\u001b[0;32m<ipython-input-18-c4361f35493a>\u001b[0m in \u001b[0;36m<module>\u001b[0;34m\u001b[0m\n\u001b[0;32m----> 1\u001b[0;31m \u001b[0mtitan_df\u001b[0m\u001b[0;34m[\u001b[0m\u001b[0;34m\"Age_Bracket\"\u001b[0m\u001b[0;34m]\u001b[0m \u001b[0;34m=\u001b[0m \u001b[0mtitan_df\u001b[0m\u001b[0;34m.\u001b[0m\u001b[0mAge\u001b[0m \u001b[0;34m%\u001b[0m \u001b[0;36m10\u001b[0m\u001b[0;34m\u001b[0m\u001b[0;34m\u001b[0m\u001b[0m\n\u001b[0m",
      "\u001b[0;31mTypeError\u001b[0m: 'DataFrame' object does not support item assignment"
     ]
    }
   ],
   "source": [
    "titan_df[\"Age_Bracket\"] = titan_df.Age % 10"
   ]
  },
  {
   "cell_type": "code",
   "execution_count": 25,
   "metadata": {},
   "outputs": [],
   "source": [
    "titan_df = titan_df.withColumn(\"Age_Bracket\", f.floor(f.col('Age')/10))"
   ]
  },
  {
   "cell_type": "code",
   "execution_count": 44,
   "metadata": {},
   "outputs": [],
   "source": [
    "age_hist = titan_df.groupby(f.col('Age_Bracket')).count().orderBy(f.col('Age_Bracket'))"
   ]
  },
  {
   "cell_type": "code",
   "execution_count": 45,
   "metadata": {},
   "outputs": [
    {
     "name": "stdout",
     "output_type": "stream",
     "text": [
      "+-----------+-----+\n",
      "|Age_Bracket|count|\n",
      "+-----------+-----+\n",
      "|          0|   62|\n",
      "|          1|  102|\n",
      "|          2|  220|\n",
      "|          3|  167|\n",
      "|          4|   89|\n",
      "|          5|   48|\n",
      "|          6|   19|\n",
      "|          7|    6|\n",
      "|          8|    1|\n",
      "+-----------+-----+\n",
      "\n"
     ]
    }
   ],
   "source": [
    "age_hist.show()"
   ]
  },
  {
   "cell_type": "code",
   "execution_count": 46,
   "metadata": {},
   "outputs": [],
   "source": [
    "import matplotlib.pyplot as plt"
   ]
  },
  {
   "cell_type": "code",
   "execution_count": 55,
   "metadata": {},
   "outputs": [
    {
     "data": {
      "text/plain": [
       "<BarContainer object of 9 artists>"
      ]
     },
     "execution_count": 55,
     "metadata": {},
     "output_type": "execute_result"
    },
    {
     "data": {
      "image/png": "[encoded data removed]",
      "text/plain": [
       "<Figure size 432x288 with 1 Axes>"
      ]
     },
     "metadata": {
      "needs_background": "light"
     },
     "output_type": "display_data"
    }
   ],
   "source": [
    "pddf = age_hist.toPandas()\n",
    "plt.bar(pddf['Age_Bracket'], pddf['count'])"
   ]
  },
  {
   "cell_type": "markdown",
   "metadata": {},
   "source": [
    "# Ex 3\n",
    "Come back to this..."
   ]
  },
  {
   "cell_type": "markdown",
   "metadata": {},
   "source": [
    "# EX 4."
   ]
  },
  {
   "cell_type": "code",
   "execution_count": 57,
   "metadata": {},
   "outputs": [
    {
     "name": "stdout",
     "output_type": "stream",
     "text": [
      "Archive:  /home/zach/Downloads/simplemaps_worldcities_basicv1.5.zip\n",
      "  inflating: ./data/simplemaps/license.txt  \n",
      "  inflating: ./data/simplemaps/worldcities.csv  \n",
      "  inflating: ./data/simplemaps/worldcities.xlsx  \n"
     ]
    }
   ],
   "source": [
    "!unzip ~/Downloads/simplemaps* -d ./data/simplemaps"
   ]
  },
  {
   "cell_type": "code",
   "execution_count": 59,
   "metadata": {},
   "outputs": [],
   "source": [
    "cities = spark.read.option('header', True).option('inferSchema', True).csv('data/simplemaps/worldcities.csv')"
   ]
  },
  {
   "cell_type": "code",
   "execution_count": 60,
   "metadata": {},
   "outputs": [
    {
     "name": "stdout",
     "output_type": "stream",
     "text": [
      "+------------+------------+-------+-------+-------+----+----+------------+-------+----------+----------+\n",
      "|        city|  city_ascii|    lat|    lng|country|iso2|iso3|  admin_name|capital|population|        id|\n",
      "+------------+------------+-------+-------+-------+----+----+------------+-------+----------+----------+\n",
      "|   Malishevë|   Malisheve|42.4822|20.7458| Kosovo|  XK| XKS|   Malishevë|  admin|      null|1901597212|\n",
      "|     Prizren|     Prizren|42.2139|20.7397| Kosovo|  XK| XKS|     Prizren|  admin|      null|1901360309|\n",
      "| Zubin Potok| Zubin Potok|42.9144|20.6897| Kosovo|  XK| XKS| Zubin Potok|  admin|      null|1901608808|\n",
      "|    Kamenicë|    Kamenice|42.5781|21.5803| Kosovo|  XK| XKS|    Kamenicë|  admin|      null|1901851592|\n",
      "|        Viti|        Viti|42.3214|21.3583| Kosovo|  XK| XKS|        Viti|  admin|      null|1901328795|\n",
      "|    Shtërpcë|    Shterpce|42.2394|21.0272| Kosovo|  XK| XKS|    Shtërpcë|  admin|      null|1901828239|\n",
      "|      Shtime|      Shtime|42.4331|21.0397| Kosovo|  XK| XKS|      Shtime|  admin|      null|1901598505|\n",
      "|    Vushtrri|    Vushtrri|42.8231|20.9675| Kosovo|  XK| XKS|    Vushtrri|  admin|      null|1901107642|\n",
      "|     Dragash|     Dragash|42.0265|20.6533| Kosovo|  XK| XKS|     Dragash|  admin|      null|1901112530|\n",
      "|    Podujevë|    Podujeve|42.9111|21.1899| Kosovo|  XK| XKS|    Podujevë|  admin|      null|1901550082|\n",
      "|Fushë Kosovë|Fushe Kosove|42.6639|21.0961| Kosovo|  XK| XKS|Fushë Kosovë|  admin|      null|1901134407|\n",
      "|     Kaçanik|     Kacanik|42.2319|21.2594| Kosovo|  XK| XKS|     Kaçanik|  admin|      null|1901200321|\n",
      "|       Klinë|       Kline|42.6217|20.5778| Kosovo|  XK| XKS|       Klinë|  admin|      null|1901230162|\n",
      "|   Leposaviq|   Leposaviq|43.1039|20.8028| Kosovo|  XK| XKS|   Leposaviq|  admin|      null|1901974597|\n",
      "|        Pejë|        Peje|  42.66|20.2922| Kosovo|  XK| XKS|        Pejë|  admin|      null|1901339694|\n",
      "|     Rahovec|     Rahovec|42.3994|20.6547| Kosovo|  XK| XKS|     Rahovec|  admin|      null|1901336358|\n",
      "|      Gjilan|      Gjilan|42.4689|21.4633| Kosovo|  XK| XKS|      Gjilan|  admin|      null|1901235642|\n",
      "|      Lipjan|      Lipjan|42.5217|21.1258| Kosovo|  XK| XKS|      Lipjan|  admin|      null|1901682048|\n",
      "|      Obiliq|      Obiliq|42.6869|21.0703| Kosovo|  XK| XKS|      Obiliq|  admin|      null|1901102771|\n",
      "|     Gjakovë|     Gjakove|42.3803|20.4308| Kosovo|  XK| XKS|     Gjakovë|  admin|      null|1901089874|\n",
      "+------------+------------+-------+-------+-------+----+----+------------+-------+----------+----------+\n",
      "only showing top 20 rows\n",
      "\n"
     ]
    }
   ],
   "source": [
    "cities.show()"
   ]
  },
  {
   "cell_type": "code",
   "execution_count": 123,
   "metadata": {},
   "outputs": [],
   "source": [
    "from math import radians, cos, sin, asin, sqrt\n",
    "def haversine(lon1, lat1, lon2, lat2):\n",
    "    lon1, lat1, lon2, lat2 = map(radians, [lon1, lat1, lon2, lat2])\n",
    "    \n",
    "    dlon = lon2 - lon1\n",
    "    dlat = lat2 - lat1\n",
    "    a = sin(dlat/2)**2 + cos(lat1) * cos(lat2) * sin(dlon/2)**2\n",
    "    c = 2*asin(sqrt(a))\n",
    "    r = 6371\n",
    "    return round(c*r, 2)"
   ]
  },
  {
   "cell_type": "code",
   "execution_count": 124,
   "metadata": {},
   "outputs": [],
   "source": [
    "pdcities = cities.toPandas()"
   ]
  },
  {
   "cell_type": "code",
   "execution_count": 90,
   "metadata": {},
   "outputs": [],
   "source": [
    "norman = pdcities[pdcities.city == \"Norman\"]\n",
    "okc = pdcities[pdcities.city == \"Oklahoma City\"]"
   ]
  },
  {
   "cell_type": "code",
   "execution_count": 92,
   "metadata": {},
   "outputs": [
    {
     "data": {
      "text/plain": [
       "30.093570374953007"
      ]
     },
     "execution_count": 92,
     "metadata": {},
     "output_type": "execute_result"
    }
   ],
   "source": [
    "haversine(norman.lng, norman.lat, okc.lng, okc.lat)"
   ]
  },
  {
   "cell_type": "code",
   "execution_count": 145,
   "metadata": {},
   "outputs": [],
   "source": [
    "hs_dist_udf = f.udf(haversine, FloatType())"
   ]
  },
  {
   "cell_type": "code",
   "execution_count": 108,
   "metadata": {},
   "outputs": [
    {
     "data": {
      "text/plain": [
       "-97.5136"
      ]
     },
     "execution_count": 108,
     "metadata": {},
     "output_type": "execute_result"
    }
   ],
   "source": [
    "okc.iloc[0].lng"
   ]
  },
  {
   "cell_type": "code",
   "execution_count": 158,
   "metadata": {},
   "outputs": [
    {
     "name": "stdout",
     "output_type": "stream",
     "text": [
      "+-------------+-------------+-------+--------+-------------+----+----+----------+-------+----------+----------+-------+\n",
      "|         city|   city_ascii|    lat|     lng|      country|iso2|iso3|admin_name|capital|population|        id|dist_to|\n",
      "+-------------+-------------+-------+--------+-------------+----+----+----------+-------+----------+----------+-------+\n",
      "|Oklahoma City|Oklahoma City|35.4676|-97.5136|United States|  US| USA|  Oklahoma|  admin|  955998.0|1840020428|    0.0|\n",
      "|       Norman|       Norman|35.2335|-97.3471|United States|  US| USA|  Oklahoma|   null|  115065.0|1840020451|  30.09|\n",
      "|        Tulsa|        Tulsa|36.1284|-95.9042|United States|  US| USA|  Oklahoma|   null|  672054.0|1840021672| 162.68|\n",
      "| Broken Arrow| Broken Arrow|36.0365|-95.7808|United States|  US| USA|  Oklahoma|   null|  108303.0|1840019059| 168.68|\n",
      "|      Wichita|      Wichita|37.6897|-97.3442|United States|  US| USA|    Kansas|   null|  483057.0|1840001686| 247.55|\n",
      "|       Denton|       Denton|33.2176|-97.1421|United States|  US| USA|     Texas|   null|  440146.0|1840019390|  252.5|\n",
      "|     McKinney|     McKinney|33.2016|-96.6669|United States|  US| USA|     Texas|   null|  235134.0|1840020657| 263.69|\n",
      "|       Frisco|       Frisco|33.1553|-96.8218|United States|  US| USA|     Texas|   null|  177286.0|1840020654| 264.85|\n",
      "|        Allen|        Allen|33.1088|-96.6735|United States|  US| USA|     Texas|   null|  100685.0|1840019396|  273.4|\n",
      "|   Lewisville|   Lewisville|33.0453|-96.9823|United States|  US| USA|     Texas|   null|  106021.0|1840020639| 273.74|\n",
      "|        Plano|        Plano|33.0502|-96.7487|United States|  US| USA|     Texas|   null|  286143.0|1840020662| 277.84|\n",
      "|   Carrollton|   Carrollton|32.9886|   -96.9|United States|  US| USA|     Texas|   null|  135710.0|1840019436| 281.36|\n",
      "|   Fort Smith|   Fort Smith|35.3494|-94.3695|United States|  US| USA|  Arkansas|   null|  125562.0|1840013456| 285.24|\n",
      "|   Richardson|   Richardson|32.9717|-96.7092|United States|  US| USA|     Texas|   null|  116783.0|1840020710| 287.21|\n",
      "|       Irving|       Irving|32.8584|-96.9702|United States|  US| USA|     Texas|   null|  240373.0|1840019438|  294.4|\n",
      "|      Garland|      Garland|  32.91|-96.6305|United States|  US| USA|     Texas|   null|  238002.0|1840020707| 295.76|\n",
      "|   Fort Worth|   Fort Worth|32.7814|-97.3473|United States|  US| USA|     Texas|   null|  874168.0|1840020696| 299.08|\n",
      "|       Dallas|       Dallas|32.7937|-96.7662|United States|  US| USA|     Texas|   null| 5733259.0|1840019440| 305.18|\n",
      "| Fayetteville| Fayetteville|36.0713| -94.166|United States|  US| USA|  Arkansas|   null|  341890.0|1840013368| 309.38|\n",
      "|    Arlington|    Arlington|32.6998| -97.125|United States|  US| USA|     Texas|   null|  396394.0|1840019422| 309.84|\n",
      "+-------------+-------------+-------+--------+-------------+----+----+----------+-------+----------+----------+-------+\n",
      "only showing top 20 rows\n",
      "\n"
     ]
    }
   ],
   "source": [
    "lng, lat = f.lit(okc.iloc[0].lng), f.lit(okc.iloc[0].lat)\n",
    "n = 100000\n",
    "cities = cities.withColumn(\"dist_to\", hs_dist_udf(lng, lat, f.col('lng'), f.col('lat'))).orderBy(f.col(\"dist_to\"))\n",
    "cities.where(f.col(\"population\") > n).show()"
   ]
  },
  {
   "cell_type": "code",
   "execution_count": null,
   "metadata": {},
   "outputs": [],
   "source": [
    "cities..joinwithColumn(\"dist_to\")"
   ]
  },
  {
   "cell_type": "code",
   "execution_count": null,
   "metadata": {},
   "outputs": [],
   "source": [
    "cities.join(cities)"
   ]
  }
 ],
 "metadata": {
  "kernelspec": {
   "display_name": "Python 3",
   "language": "python",
   "name": "python3"
  },
  "language_info": {
   "codemirror_mode": {
    "name": "ipython",
    "version": 3
   },
   "file_extension": ".py",
   "mimetype": "text/x-python",
   "name": "python",
   "nbconvert_exporter": "python",
   "pygments_lexer": "ipython3",
   "version": "3.7.4"
  },
  "widgets": {
   "application/vnd.jupyter.widget-state+json": {
    "state": {},
    "version_major": 2,
    "version_minor": 0
   }
  }
 },
 "nbformat": 4,
 "nbformat_minor": 4
}
