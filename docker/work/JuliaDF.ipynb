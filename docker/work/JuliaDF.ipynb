{
 "cells": [
  {
   "cell_type": "code",
   "execution_count": 1,
   "metadata": {},
   "outputs": [],
   "source": [
    "using DataFrames, Query\n",
    "using CSV"
   ]
  },
  {
   "cell_type": "code",
   "execution_count": 9,
   "metadata": {},
   "outputs": [],
   "source": [
    "df = CSV.File(\"data/titanic.csv\") |> DataFrame;"
   ]
  },
  {
   "cell_type": "code",
   "execution_count": 11,
   "metadata": {},
   "outputs": [
    {
     "data": {
      "text/html": [
       "<table class=\"data-frame\"><thead><tr><th></th><th>PassengerId</th><th>Survived</th><th>Pclass</th><th>Name</th></tr><tr><th></th><th>Int64</th><th>String</th><th>Int64</th><th>String</th></tr></thead><tbody><p>10 rows × 12 columns (omitted printing of 8 columns)</p><tr><th>1</th><td>1</td><td>FALSE</td><td>3</td><td>Braund, Mr. Owen Harris</td></tr><tr><th>2</th><td>2</td><td>TRUE</td><td>1</td><td>Cumings, Mrs. John Bradley (Florence Briggs Thayer)</td></tr><tr><th>3</th><td>3</td><td>TRUE</td><td>3</td><td>Heikkinen, Miss. Laina</td></tr><tr><th>4</th><td>4</td><td>TRUE</td><td>1</td><td>Futrelle, Mrs. Jacques Heath (Lily May Peel)</td></tr><tr><th>5</th><td>5</td><td>FALSE</td><td>3</td><td>Allen, Mr. William Henry</td></tr><tr><th>6</th><td>6</td><td>FALSE</td><td>3</td><td>Moran, Mr. James</td></tr><tr><th>7</th><td>7</td><td>FALSE</td><td>1</td><td>McCarthy, Mr. Timothy J</td></tr><tr><th>8</th><td>8</td><td>FALSE</td><td>3</td><td>Palsson, Master. Gosta Leonard</td></tr><tr><th>9</th><td>9</td><td>TRUE</td><td>3</td><td>Johnson, Mrs. Oscar W (Elisabeth Vilhelmina Berg)</td></tr><tr><th>10</th><td>10</td><td>TRUE</td><td>2</td><td>Nasser, Mrs. Nicholas (Adele Achem)</td></tr></tbody></table>"
      ],
      "text/latex": [
       "\\begin{tabular}{r|ccccc}\n",
       "\t& PassengerId & Survived & Pclass & Name & \\\\\n",
       "\t\\hline\n",
       "\t& Int64 & String & Int64 & String & \\\\\n",
       "\t\\hline\n",
       "\t1 & 1 & FALSE & 3 & Braund, Mr. Owen Harris & $\\dots$ \\\\\n",
       "\t2 & 2 & TRUE & 1 & Cumings, Mrs. John Bradley (Florence Briggs Thayer) & $\\dots$ \\\\\n",
       "\t3 & 3 & TRUE & 3 & Heikkinen, Miss. Laina & $\\dots$ \\\\\n",
       "\t4 & 4 & TRUE & 1 & Futrelle, Mrs. Jacques Heath (Lily May Peel) & $\\dots$ \\\\\n",
       "\t5 & 5 & FALSE & 3 & Allen, Mr. William Henry & $\\dots$ \\\\\n",
       "\t6 & 6 & FALSE & 3 & Moran, Mr. James & $\\dots$ \\\\\n",
       "\t7 & 7 & FALSE & 1 & McCarthy, Mr. Timothy J & $\\dots$ \\\\\n",
       "\t8 & 8 & FALSE & 3 & Palsson, Master. Gosta Leonard & $\\dots$ \\\\\n",
       "\t9 & 9 & TRUE & 3 & Johnson, Mrs. Oscar W (Elisabeth Vilhelmina Berg) & $\\dots$ \\\\\n",
       "\t10 & 10 & TRUE & 2 & Nasser, Mrs. Nicholas (Adele Achem) & $\\dots$ \\\\\n",
       "\\end{tabular}\n"
      ],
      "text/plain": [
       "10×12 DataFrame. Omitted printing of 9 columns\n",
       "│ Row │ PassengerId │ Survived │ Pclass │\n",
       "│     │ \u001b[90mInt64\u001b[39m       │ \u001b[90mString\u001b[39m   │ \u001b[90mInt64\u001b[39m  │\n",
       "├─────┼─────────────┼──────────┼────────┤\n",
       "│ 1   │ 1           │ FALSE    │ 3      │\n",
       "│ 2   │ 2           │ TRUE     │ 1      │\n",
       "│ 3   │ 3           │ TRUE     │ 3      │\n",
       "│ 4   │ 4           │ TRUE     │ 1      │\n",
       "│ 5   │ 5           │ FALSE    │ 3      │\n",
       "│ 6   │ 6           │ FALSE    │ 3      │\n",
       "│ 7   │ 7           │ FALSE    │ 1      │\n",
       "│ 8   │ 8           │ FALSE    │ 3      │\n",
       "│ 9   │ 9           │ TRUE     │ 3      │\n",
       "│ 10  │ 10          │ TRUE     │ 2      │"
      ]
     },
     "execution_count": 11,
     "metadata": {},
     "output_type": "execute_result"
    }
   ],
   "source": [
    "first(df, 10)"
   ]
  },
  {
   "cell_type": "code",
   "execution_count": 26,
   "metadata": {},
   "outputs": [
    {
     "name": "stdout",
     "output_type": "stream",
     "text": [
      "  0.065509 seconds (133.60 k allocations: 7.127 MiB, 18.13% gc time)\n"
     ]
    },
    {
     "data": {
      "text/plain": [
       "577"
      ]
     },
     "execution_count": 26,
     "metadata": {},
     "output_type": "execute_result"
    }
   ],
   "source": [
    "@time males = df |> @filter(_.Sex == \"male\") |> DataFrame;\n",
    "nrow(males)"
   ]
  },
  {
   "cell_type": "code",
   "execution_count": 25,
   "metadata": {},
   "outputs": [
    {
     "data": {
      "text/latex": [
       "The analogue of IPython's \\texttt{\\%time statement} (also \\texttt{\\%timeit}) in Julia is \\texttt{@time statement}.  The analogue of \\texttt{\\%\\%time ...code...} is\n",
       "\n",
       "\\begin{verbatim}\n",
       "@time begin\n",
       "    ...code...\n",
       "end\n",
       "\\end{verbatim}\n",
       "Note, however, that you should put all performance-critical code into a function, avoiding global variables, before doing performance measurements in Julia; see the \\href{http://docs.julialang.org/en/latest/manual/performance-tips/}{performance tips in the Julia manual}.\n",
       "\n",
       "The \\texttt{@time} macro prints the timing results, and returns the value of evaluating the expression.  To instead return the time (in seconds), use \\texttt{@elapsed statement}.\n",
       "\n",
       "For more extensive benchmarking tools, including the ability to collect statistics from multiple runs, see the \\href{https://github.com/JuliaCI/BenchmarkTools.jl}{BenchmarkTools package}.\n",
       "\n"
      ],
      "text/markdown": [
       "The analogue of IPython's `%time statement` (also `%timeit`) in Julia is `@time statement`.  The analogue of `%%time ...code...` is\n",
       "\n",
       "```\n",
       "@time begin\n",
       "    ...code...\n",
       "end\n",
       "```\n",
       "\n",
       "Note, however, that you should put all performance-critical code into a function, avoiding global variables, before doing performance measurements in Julia; see the [performance tips in the Julia manual](http://docs.julialang.org/en/latest/manual/performance-tips/).\n",
       "\n",
       "The `@time` macro prints the timing results, and returns the value of evaluating the expression.  To instead return the time (in seconds), use `@elapsed statement`.\n",
       "\n",
       "For more extensive benchmarking tools, including the ability to collect statistics from multiple runs, see the [BenchmarkTools package](https://github.com/JuliaCI/BenchmarkTools.jl).\n"
      ],
      "text/plain": [
       "  The analogue of IPython's \u001b[36m%time statement\u001b[39m (also \u001b[36m%timeit\u001b[39m) in Julia is \u001b[36m@time\n",
       "  statement\u001b[39m. The analogue of \u001b[36m%%time ...code...\u001b[39m is\n",
       "\n",
       "\u001b[36m  @time begin\u001b[39m\n",
       "\u001b[36m      ...code...\u001b[39m\n",
       "\u001b[36m  end\u001b[39m\n",
       "\n",
       "  Note, however, that you should put all performance-critical code into a\n",
       "  function, avoiding global variables, before doing performance measurements\n",
       "  in Julia; see the performance tips in the Julia manual\n",
       "  (http://docs.julialang.org/en/latest/manual/performance-tips/).\n",
       "\n",
       "  The \u001b[36m@time\u001b[39m macro prints the timing results, and returns the value of\n",
       "  evaluating the expression. To instead return the time (in seconds), use\n",
       "  \u001b[36m@elapsed statement\u001b[39m.\n",
       "\n",
       "  For more extensive benchmarking tools, including the ability to collect\n",
       "  statistics from multiple runs, see the BenchmarkTools package\n",
       "  (https://github.com/JuliaCI/BenchmarkTools.jl)."
      ]
     },
     "metadata": {},
     "output_type": "display_data"
    }
   ],
   "source": [
    "%time"
   ]
  },
  {
   "cell_type": "code",
   "execution_count": 40,
   "metadata": {},
   "outputs": [],
   "source": [
    "using Statistics"
   ]
  },
  {
   "cell_type": "code",
   "execution_count": 90,
   "metadata": {},
   "outputs": [
    {
     "data": {
      "text/html": [
       "<table class=\"data-frame\"><thead><tr><th></th><th>Key</th><th>Count</th><th>Age</th></tr><tr><th></th><th>String</th><th>Int64</th><th>Float64</th></tr></thead><tbody><p>6 rows × 3 columns</p><tr><th>1</th><td>class 1 female</td><td>74</td><td>34.0946</td></tr><tr><th>2</th><td>class 1 male</td><td>84</td><td>40.6717</td></tr><tr><th>3</th><td>class 3 female</td><td>5</td><td>17.2</td></tr><tr><th>4</th><td>class 2 male</td><td>6</td><td>18.75</td></tr><tr><th>5</th><td>class 2 female</td><td>9</td><td>29.6111</td></tr><tr><th>6</th><td>class 3 male</td><td>5</td><td>24.8</td></tr></tbody></table>"
      ],
      "text/latex": [
       "\\begin{tabular}{r|ccc}\n",
       "\t& Key & Count & Age\\\\\n",
       "\t\\hline\n",
       "\t& String & Int64 & Float64\\\\\n",
       "\t\\hline\n",
       "\t1 & class 1 female & 74 & 34.0946 \\\\\n",
       "\t2 & class 1 male & 84 & 40.6717 \\\\\n",
       "\t3 & class 3 female & 5 & 17.2 \\\\\n",
       "\t4 & class 2 male & 6 & 18.75 \\\\\n",
       "\t5 & class 2 female & 9 & 29.6111 \\\\\n",
       "\t6 & class 3 male & 5 & 24.8 \\\\\n",
       "\\end{tabular}\n"
      ],
      "text/plain": [
       "6×3 DataFrame\n",
       "│ Row │ Key            │ Count │ Age     │\n",
       "│     │ \u001b[90mString\u001b[39m         │ \u001b[90mInt64\u001b[39m │ \u001b[90mFloat64\u001b[39m │\n",
       "├─────┼────────────────┼───────┼─────────┤\n",
       "│ 1   │ class 1 female │ 74    │ 34.0946 │\n",
       "│ 2   │ class 1 male   │ 84    │ 40.6717 │\n",
       "│ 3   │ class 3 female │ 5     │ 17.2    │\n",
       "│ 4   │ class 2 male   │ 6     │ 18.75   │\n",
       "│ 5   │ class 2 female │ 9     │ 29.6111 │\n",
       "│ 6   │ class 3 male   │ 5     │ 24.8    │"
      ]
     },
     "execution_count": 90,
     "metadata": {},
     "output_type": "execute_result"
    }
   ],
   "source": [
    "sexes = df |> @groupby(\"class \"*string(_.Pclass)*\" \"*_.Sex) |> @map({Key=key(_), Count=length(_), Age=mean(_.Age)}) |> DataFrame"
   ]
  },
  {
   "cell_type": "code",
   "execution_count": null,
   "metadata": {},
   "outputs": [],
   "source": []
  },
  {
   "cell_type": "code",
   "execution_count": 69,
   "metadata": {},
   "outputs": [
    {
     "data": {
      "text/plain": [
       "35.6744262295082"
      ]
     },
     "execution_count": 69,
     "metadata": {},
     "output_type": "execute_result"
    }
   ],
   "source": [
    "mean(df.Age)"
   ]
  },
  {
   "cell_type": "code",
   "execution_count": 68,
   "metadata": {},
   "outputs": [
    {
     "data": {
      "text/html": [
       "<table class=\"data-frame\"><thead><tr><th></th><th>PassengerId</th><th>Survived</th><th>Pclass</th><th>Name</th></tr><tr><th></th><th>Int64</th><th>String</th><th>Int64</th><th>String</th></tr></thead><tbody><p>183 rows × 12 columns (omitted printing of 8 columns)</p><tr><th>1</th><td>2</td><td>TRUE</td><td>1</td><td>Cumings, Mrs. John Bradley (Florence Briggs Thayer)</td></tr><tr><th>2</th><td>4</td><td>TRUE</td><td>1</td><td>Futrelle, Mrs. Jacques Heath (Lily May Peel)</td></tr><tr><th>3</th><td>7</td><td>FALSE</td><td>1</td><td>McCarthy, Mr. Timothy J</td></tr><tr><th>4</th><td>11</td><td>TRUE</td><td>3</td><td>Sandstrom, Miss. Marguerite Rut</td></tr><tr><th>5</th><td>12</td><td>TRUE</td><td>1</td><td>Bonnell, Miss. Elizabeth</td></tr><tr><th>6</th><td>22</td><td>TRUE</td><td>2</td><td>Beesley, Mr. Lawrence</td></tr><tr><th>7</th><td>24</td><td>TRUE</td><td>1</td><td>Sloper, Mr. William Thompson</td></tr><tr><th>8</th><td>28</td><td>FALSE</td><td>1</td><td>Fortune, Mr. Charles Alexander</td></tr><tr><th>9</th><td>53</td><td>TRUE</td><td>1</td><td>Harper, Mrs. Henry Sleeper (Myna Haxtun)</td></tr><tr><th>10</th><td>55</td><td>FALSE</td><td>1</td><td>Ostby, Mr. Engelhart Cornelius</td></tr><tr><th>11</th><td>63</td><td>FALSE</td><td>1</td><td>Harris, Mr. Henry Birkhardt</td></tr><tr><th>12</th><td>67</td><td>TRUE</td><td>2</td><td>Nye, Mrs. (Elizabeth Ramell)</td></tr><tr><th>13</th><td>76</td><td>FALSE</td><td>3</td><td>Moen, Mr. Sigurd Hansen</td></tr><tr><th>14</th><td>89</td><td>TRUE</td><td>1</td><td>Fortune, Miss. Mabel Helen</td></tr><tr><th>15</th><td>93</td><td>FALSE</td><td>1</td><td>Chaffee, Mr. Herbert Fuller</td></tr><tr><th>16</th><td>97</td><td>FALSE</td><td>1</td><td>Goldschmidt, Mr. George B</td></tr><tr><th>17</th><td>98</td><td>TRUE</td><td>1</td><td>Greenfield, Mr. William Bertram</td></tr><tr><th>18</th><td>103</td><td>FALSE</td><td>1</td><td>White, Mr. Richard Frasar</td></tr><tr><th>19</th><td>111</td><td>FALSE</td><td>1</td><td>Porter, Mr. Walter Chamberlain</td></tr><tr><th>20</th><td>119</td><td>FALSE</td><td>1</td><td>Baxter, Mr. Quigg Edmond</td></tr><tr><th>21</th><td>124</td><td>TRUE</td><td>2</td><td>Webber, Miss. Susan</td></tr><tr><th>22</th><td>125</td><td>FALSE</td><td>1</td><td>White, Mr. Percival Wayland</td></tr><tr><th>23</th><td>137</td><td>TRUE</td><td>1</td><td>Newsom, Miss. Helen Monypeny</td></tr><tr><th>24</th><td>138</td><td>FALSE</td><td>1</td><td>Futrelle, Mr. Jacques Heath</td></tr><tr><th>25</th><td>140</td><td>FALSE</td><td>1</td><td>Giglio, Mr. Victor</td></tr><tr><th>26</th><td>149</td><td>FALSE</td><td>2</td><td>Navratil, Mr. Michel (\"Louis M Hoffman\")</td></tr><tr><th>27</th><td>152</td><td>TRUE</td><td>1</td><td>Pears, Mrs. Thomas (Edith Wearne)</td></tr><tr><th>28</th><td>171</td><td>FALSE</td><td>1</td><td>Van der hoef, Mr. Wyckoff</td></tr><tr><th>29</th><td>175</td><td>FALSE</td><td>1</td><td>Smith, Mr. James Clinch</td></tr><tr><th>30</th><td>178</td><td>FALSE</td><td>1</td><td>Isham, Miss. Ann Elizabeth</td></tr><tr><th>&vellip;</th><td>&vellip;</td><td>&vellip;</td><td>&vellip;</td><td>&vellip;</td></tr></tbody></table>"
      ],
      "text/latex": [
       "\\begin{tabular}{r|ccccc}\n",
       "\t& PassengerId & Survived & Pclass & Name & \\\\\n",
       "\t\\hline\n",
       "\t& Int64 & String & Int64 & String & \\\\\n",
       "\t\\hline\n",
       "\t1 & 2 & TRUE & 1 & Cumings, Mrs. John Bradley (Florence Briggs Thayer) & $\\dots$ \\\\\n",
       "\t2 & 4 & TRUE & 1 & Futrelle, Mrs. Jacques Heath (Lily May Peel) & $\\dots$ \\\\\n",
       "\t3 & 7 & FALSE & 1 & McCarthy, Mr. Timothy J & $\\dots$ \\\\\n",
       "\t4 & 11 & TRUE & 3 & Sandstrom, Miss. Marguerite Rut & $\\dots$ \\\\\n",
       "\t5 & 12 & TRUE & 1 & Bonnell, Miss. Elizabeth & $\\dots$ \\\\\n",
       "\t6 & 22 & TRUE & 2 & Beesley, Mr. Lawrence & $\\dots$ \\\\\n",
       "\t7 & 24 & TRUE & 1 & Sloper, Mr. William Thompson & $\\dots$ \\\\\n",
       "\t8 & 28 & FALSE & 1 & Fortune, Mr. Charles Alexander & $\\dots$ \\\\\n",
       "\t9 & 53 & TRUE & 1 & Harper, Mrs. Henry Sleeper (Myna Haxtun) & $\\dots$ \\\\\n",
       "\t10 & 55 & FALSE & 1 & Ostby, Mr. Engelhart Cornelius & $\\dots$ \\\\\n",
       "\t11 & 63 & FALSE & 1 & Harris, Mr. Henry Birkhardt & $\\dots$ \\\\\n",
       "\t12 & 67 & TRUE & 2 & Nye, Mrs. (Elizabeth Ramell) & $\\dots$ \\\\\n",
       "\t13 & 76 & FALSE & 3 & Moen, Mr. Sigurd Hansen & $\\dots$ \\\\\n",
       "\t14 & 89 & TRUE & 1 & Fortune, Miss. Mabel Helen & $\\dots$ \\\\\n",
       "\t15 & 93 & FALSE & 1 & Chaffee, Mr. Herbert Fuller & $\\dots$ \\\\\n",
       "\t16 & 97 & FALSE & 1 & Goldschmidt, Mr. George B & $\\dots$ \\\\\n",
       "\t17 & 98 & TRUE & 1 & Greenfield, Mr. William Bertram & $\\dots$ \\\\\n",
       "\t18 & 103 & FALSE & 1 & White, Mr. Richard Frasar & $\\dots$ \\\\\n",
       "\t19 & 111 & FALSE & 1 & Porter, Mr. Walter Chamberlain & $\\dots$ \\\\\n",
       "\t20 & 119 & FALSE & 1 & Baxter, Mr. Quigg Edmond & $\\dots$ \\\\\n",
       "\t21 & 124 & TRUE & 2 & Webber, Miss. Susan & $\\dots$ \\\\\n",
       "\t22 & 125 & FALSE & 1 & White, Mr. Percival Wayland & $\\dots$ \\\\\n",
       "\t23 & 137 & TRUE & 1 & Newsom, Miss. Helen Monypeny & $\\dots$ \\\\\n",
       "\t24 & 138 & FALSE & 1 & Futrelle, Mr. Jacques Heath & $\\dots$ \\\\\n",
       "\t25 & 140 & FALSE & 1 & Giglio, Mr. Victor & $\\dots$ \\\\\n",
       "\t26 & 149 & FALSE & 2 & Navratil, Mr. Michel (\"Louis M Hoffman\") & $\\dots$ \\\\\n",
       "\t27 & 152 & TRUE & 1 & Pears, Mrs. Thomas (Edith Wearne) & $\\dots$ \\\\\n",
       "\t28 & 171 & FALSE & 1 & Van der hoef, Mr. Wyckoff & $\\dots$ \\\\\n",
       "\t29 & 175 & FALSE & 1 & Smith, Mr. James Clinch & $\\dots$ \\\\\n",
       "\t30 & 178 & FALSE & 1 & Isham, Miss. Ann Elizabeth & $\\dots$ \\\\\n",
       "\t$\\dots$ & $\\dots$ & $\\dots$ & $\\dots$ & $\\dots$ &  \\\\\n",
       "\\end{tabular}\n"
      ],
      "text/plain": [
       "183×12 DataFrame. Omitted printing of 9 columns\n",
       "│ Row │ PassengerId │ Survived │ Pclass │\n",
       "│     │ \u001b[90mInt64\u001b[39m       │ \u001b[90mString\u001b[39m   │ \u001b[90mInt64\u001b[39m  │\n",
       "├─────┼─────────────┼──────────┼────────┤\n",
       "│ 1   │ 2           │ TRUE     │ 1      │\n",
       "│ 2   │ 4           │ TRUE     │ 1      │\n",
       "│ 3   │ 7           │ FALSE    │ 1      │\n",
       "│ 4   │ 11          │ TRUE     │ 3      │\n",
       "│ 5   │ 12          │ TRUE     │ 1      │\n",
       "│ 6   │ 22          │ TRUE     │ 2      │\n",
       "│ 7   │ 24          │ TRUE     │ 1      │\n",
       "│ 8   │ 28          │ FALSE    │ 1      │\n",
       "│ 9   │ 53          │ TRUE     │ 1      │\n",
       "│ 10  │ 55          │ FALSE    │ 1      │\n",
       "⋮\n",
       "│ 173 │ 824         │ TRUE     │ 3      │\n",
       "│ 174 │ 836         │ TRUE     │ 1      │\n",
       "│ 175 │ 854         │ TRUE     │ 1      │\n",
       "│ 176 │ 858         │ TRUE     │ 1      │\n",
       "│ 177 │ 863         │ TRUE     │ 1      │\n",
       "│ 178 │ 868         │ FALSE    │ 1      │\n",
       "│ 179 │ 872         │ TRUE     │ 1      │\n",
       "│ 180 │ 873         │ FALSE    │ 1      │\n",
       "│ 181 │ 880         │ TRUE     │ 1      │\n",
       "│ 182 │ 888         │ TRUE     │ 1      │\n",
       "│ 183 │ 890         │ TRUE     │ 1      │"
      ]
     },
     "execution_count": 68,
     "metadata": {},
     "output_type": "execute_result"
    }
   ],
   "source": [
    "dropmissing!(df)"
   ]
  },
  {
   "cell_type": "code",
   "execution_count": 58,
   "metadata": {},
   "outputs": [
    {
     "data": {
      "text/plain": [
       "342"
      ]
     },
     "execution_count": 58,
     "metadata": {},
     "output_type": "execute_result"
    }
   ],
   "source": [
    "df |> @filter(_.Survived == \"TRUE\") |> DataFrame |> nrow"
   ]
  },
  {
   "cell_type": "markdown",
   "metadata": {},
   "source": [
    "# IP Addrs"
   ]
  },
  {
   "cell_type": "code",
   "execution_count": null,
   "metadata": {},
   "outputs": [],
   "source": [
    "ipcsv = CSV.File(\"/home/zach/Downloads/traffic_2\", header=[\"IP\", \"domain\"])"
   ]
  },
  {
   "cell_type": "code",
   "execution_count": 3,
   "metadata": {},
   "outputs": [
    {
     "ename": "UndefVarError",
     "evalue": "UndefVarError: ipcsv not defined",
     "output_type": "error",
     "traceback": [
      "UndefVarError: ipcsv not defined",
      "",
      "Stacktrace:",
      " [1] top-level scope at In[3]:1"
     ]
    }
   ],
   "source": [
    "ipdf = DataFrame!(ipcsv, [\"IP\", \"domain\"])"
   ]
  },
  {
   "cell_type": "code",
   "execution_count": null,
   "metadata": {},
   "outputs": [],
   "source": [
    "ipdf |> @groupby()"
   ]
  },
  {
   "cell_type": "markdown",
   "metadata": {},
   "source": [
    "# JuliaDB IP Addrs"
   ]
  },
  {
   "cell_type": "code",
   "execution_count": 1,
   "metadata": {},
   "outputs": [],
   "source": [
    "using Distributed"
   ]
  },
  {
   "cell_type": "code",
   "execution_count": 3,
   "metadata": {},
   "outputs": [
    {
     "data": {
      "text/plain": [
       "11-element Array{Int64,1}:\n",
       "  2\n",
       "  3\n",
       "  4\n",
       "  5\n",
       "  6\n",
       "  7\n",
       "  8\n",
       "  9\n",
       " 10\n",
       " 11\n",
       " 12"
      ]
     },
     "execution_count": 3,
     "metadata": {},
     "output_type": "execute_result"
    }
   ],
   "source": [
    "if nprocs() == 1\n",
    "    addprocs(11);\n",
    "end"
   ]
  },
  {
   "cell_type": "code",
   "execution_count": 5,
   "metadata": {},
   "outputs": [],
   "source": [
    "using JuliaDB"
   ]
  },
  {
   "cell_type": "code",
   "execution_count": 18,
   "metadata": {},
   "outputs": [],
   "source": [
    "using OnlineStats, ProgressMeter"
   ]
  },
  {
   "cell_type": "code",
   "execution_count": 8,
   "metadata": {},
   "outputs": [
    {
     "data": {
      "text/plain": [
       "\"/home/zach/Downloads/traffic_2\""
      ]
     },
     "execution_count": 8,
     "metadata": {},
     "output_type": "execute_result"
    }
   ],
   "source": [
    "fn = \"/home/zach/Downloads/loads/traffic_2\""
   ]
  },
  {
   "cell_type": "code",
   "execution_count": 34,
   "metadata": {},
   "outputs": [
    {
     "name": "stderr",
     "output_type": "stream",
     "text": [
      "\u001b[32mItems Processed: 99905977 \t Time: 0:01:01\u001b[39m"
     ]
    }
   ],
   "source": [
    "o = HyperLogLog(SubString{String})\n",
    "p = ProgressUnknown(\"Items Processed:\")\n",
    "for line in eachline(fn)\n",
    "    IP,domain = split(line, '\\t')\n",
    "    fit!(o, IP)\n",
    "    ProgressMeter.next!(p)\n",
    "    if o.n > 100_000_000\n",
    "        break\n",
    "    end\n",
    "end"
   ]
  },
  {
   "cell_type": "code",
   "execution_count": null,
   "metadata": {},
   "outputs": [
    {
     "name": "stdout",
     "output_type": "stream",
     "text": [
      "HBox(children=(IntProgress(value=0, max=10), HTML(value='')))\n",
      "\n",
      "HBox(children=(IntProgress(value=0, max=10), HTML(value='')))\n",
      "\n"
     ]
    }
   ],
   "source": [
    "ips = loadtable(\"/home/zach/Downloads/traffic_2\"; output=\"/scratch/bin\", chunks=1000)"
   ]
  },
  {
   "cell_type": "code",
   "execution_count": null,
   "metadata": {},
   "outputs": [],
   "source": [
    "ips = load(\"/scratch/bin\")"
   ]
  },
  {
   "cell_type": "code",
   "execution_count": null,
   "metadata": {},
   "outputs": [],
   "source": []
  }
 ],
 "metadata": {
  "kernelspec": {
   "display_name": "Julia 1.4.0-DEV",
   "language": "julia",
   "name": "julia-1.4"
  },
  "language_info": {
   "file_extension": ".jl",
   "mimetype": "application/julia",
   "name": "julia",
   "version": "1.4.0"
  },
  "widgets": {
   "application/vnd.jupyter.widget-state+json": {
    "state": {},
    "version_major": 2,
    "version_minor": 0
   }
  }
 },
 "nbformat": 4,
 "nbformat_minor": 4
}
