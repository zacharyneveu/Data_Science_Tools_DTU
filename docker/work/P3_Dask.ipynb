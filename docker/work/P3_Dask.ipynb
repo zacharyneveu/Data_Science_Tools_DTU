{
 "cells": [
  {
   "cell_type": "code",
   "execution_count": 1,
   "metadata": {
    "Collapsed": "false"
   },
   "outputs": [
    {
     "data": {
      "text/html": [
       "<table style=\"border: 2px solid white;\">\n",
       "<tr>\n",
       "<td style=\"vertical-align: top; border: 0px solid white\">\n",
       "<h3 style=\"text-align: left;\">Client</h3>\n",
       "<ul style=\"text-align: left; list-style: none; margin: 0; padding: 0;\">\n",
       "  <li><b>Scheduler: </b>tcp://127.0.0.1:32937</li>\n",
       "  <li><b>Dashboard: </b><a href='http://127.0.0.1:8787/status' target='_blank'>http://127.0.0.1:8787/status</a>\n",
       "</ul>\n",
       "</td>\n",
       "<td style=\"vertical-align: top; border: 0px solid white\">\n",
       "<h3 style=\"text-align: left;\">Cluster</h3>\n",
       "<ul style=\"text-align: left; list-style:none; margin: 0; padding: 0;\">\n",
       "  <li><b>Workers: </b>4</li>\n",
       "  <li><b>Cores: </b>8</li>\n",
       "  <li><b>Memory: </b>16.00 GB</li>\n",
       "</ul>\n",
       "</td>\n",
       "</tr>\n",
       "</table>"
      ],
      "text/plain": [
       "<Client: 'tcp://127.0.0.1:32937' processes=4 threads=8, memory=16.00 GB>"
      ]
     },
     "execution_count": 1,
     "metadata": {},
     "output_type": "execute_result"
    }
   ],
   "source": [
    "from dask.distributed import Client, progress\n",
    "client = Client(n_workers=4, threads_per_worker=2, memory_limit='4GB')\n",
    "client"
   ]
  },
  {
   "cell_type": "code",
   "execution_count": 2,
   "metadata": {
    "Collapsed": "false"
   },
   "outputs": [],
   "source": [
    "import dask\n",
    "import pandas as pd\n",
    "import dask.dataframe as dd\n",
    "from pathlib import Path"
   ]
  },
  {
   "cell_type": "code",
   "execution_count": 29,
   "metadata": {
    "Collapsed": "false"
   },
   "outputs": [],
   "source": [
    "%matplotlib inline\n",
    "import matplotlib\n",
    "import matplotlib.pyplot as plt"
   ]
  },
  {
   "cell_type": "code",
   "execution_count": 30,
   "metadata": {
    "Collapsed": "false"
   },
   "outputs": [],
   "source": [
    "plt.style.use('Solarize_Light2')  # Just changes plotting theme, comment out if annoying\\n\n",
    "matplotlib.rcParams['figure.figsize'] = [14, 8]"
   ]
  },
  {
   "cell_type": "code",
   "execution_count": 3,
   "metadata": {
    "Collapsed": "false"
   },
   "outputs": [],
   "source": [
    "data_p = Path('/home/zach/Downloads')"
   ]
  },
  {
   "cell_type": "code",
   "execution_count": 4,
   "metadata": {
    "Collapsed": "false"
   },
   "outputs": [],
   "source": [
    "listings = dd.read_parquet(data_p/'listings2.parquet')"
   ]
  },
  {
   "cell_type": "code",
   "execution_count": 5,
   "metadata": {
    "Collapsed": "false"
   },
   "outputs": [
    {
     "data": {
      "text/plain": [
       "755"
      ]
     },
     "execution_count": 5,
     "metadata": {},
     "output_type": "execute_result"
    }
   ],
   "source": [
    "listings.npartitions"
   ]
  },
  {
   "cell_type": "code",
   "execution_count": 15,
   "metadata": {
    "Collapsed": "false"
   },
   "outputs": [],
   "source": [
    "boston = listings[listings.city == 'Boston']"
   ]
  },
  {
   "cell_type": "code",
   "execution_count": 17,
   "metadata": {
    "Collapsed": "false"
   },
   "outputs": [
    {
     "data": {
      "text/html": [
       "<div>\n",
       "<style scoped>\n",
       "    .dataframe tbody tr th:only-of-type {\n",
       "        vertical-align: middle;\n",
       "    }\n",
       "\n",
       "    .dataframe tbody tr th {\n",
       "        vertical-align: top;\n",
       "    }\n",
       "\n",
       "    .dataframe thead th {\n",
       "        text-align: right;\n",
       "    }\n",
       "</style>\n",
       "<table border=\"1\" class=\"dataframe\">\n",
       "  <thead>\n",
       "    <tr style=\"text-align: right;\">\n",
       "      <th></th>\n",
       "      <th>id</th>\n",
       "      <th>listing_url</th>\n",
       "      <th>scrape_id</th>\n",
       "      <th>last_scraped</th>\n",
       "      <th>name</th>\n",
       "      <th>summary</th>\n",
       "      <th>space</th>\n",
       "      <th>description</th>\n",
       "      <th>experiences_offered</th>\n",
       "      <th>neighborhood_overview</th>\n",
       "      <th>...</th>\n",
       "      <th>is_business_travel_ready</th>\n",
       "      <th>cancellation_policy</th>\n",
       "      <th>require_guest_profile_picture</th>\n",
       "      <th>require_guest_phone_verification</th>\n",
       "      <th>calculated_host_listings_count</th>\n",
       "      <th>calculated_host_listings_count_entire_homes</th>\n",
       "      <th>calculated_host_listings_count_private_rooms</th>\n",
       "      <th>calculated_host_listings_count_shared_rooms</th>\n",
       "      <th>reviews_per_month</th>\n",
       "      <th>property_type</th>\n",
       "    </tr>\n",
       "  </thead>\n",
       "  <tbody>\n",
       "    <tr>\n",
       "      <td>23562</td>\n",
       "      <td>3781</td>\n",
       "      <td>https://www.airbnb.com/rooms/3781</td>\n",
       "      <td>20190922191643</td>\n",
       "      <td>2019-09-22</td>\n",
       "      <td>HARBORSIDE-Walk to subway</td>\n",
       "      <td>Fully separate apartment in a two apartment bu...</td>\n",
       "      <td>This is a totally separate apartment located o...</td>\n",
       "      <td>Fully separate apartment in a two apartment bu...</td>\n",
       "      <td>none</td>\n",
       "      <td>Mostly quiet ( no loud music, no crowed sidewa...</td>\n",
       "      <td>...</td>\n",
       "      <td>f</td>\n",
       "      <td>super_strict_30</td>\n",
       "      <td>f</td>\n",
       "      <td>f</td>\n",
       "      <td>2</td>\n",
       "      <td>2</td>\n",
       "      <td>0</td>\n",
       "      <td>0</td>\n",
       "      <td>0.29</td>\n",
       "      <td>Apartment</td>\n",
       "    </tr>\n",
       "    <tr>\n",
       "      <td>23564</td>\n",
       "      <td>6976</td>\n",
       "      <td>https://www.airbnb.com/rooms/6976</td>\n",
       "      <td>20190922191643</td>\n",
       "      <td>2019-09-22</td>\n",
       "      <td>Mexican Folk Art Showcase in Boston Neighborhood</td>\n",
       "      <td>Come stay with me in Boston's Roslindale neigh...</td>\n",
       "      <td>This is a well-maintained, two-family house bu...</td>\n",
       "      <td>Come stay with me in Boston's Roslindale neigh...</td>\n",
       "      <td>none</td>\n",
       "      <td>The LOCATION: Roslindale is a safe and diverse...</td>\n",
       "      <td>...</td>\n",
       "      <td>f</td>\n",
       "      <td>moderate</td>\n",
       "      <td>t</td>\n",
       "      <td>f</td>\n",
       "      <td>1</td>\n",
       "      <td>0</td>\n",
       "      <td>1</td>\n",
       "      <td>0</td>\n",
       "      <td>0.67</td>\n",
       "      <td>Apartment</td>\n",
       "    </tr>\n",
       "    <tr>\n",
       "      <td>23566</td>\n",
       "      <td>8789</td>\n",
       "      <td>https://www.airbnb.com/rooms/8789</td>\n",
       "      <td>20190922191643</td>\n",
       "      <td>2019-09-22</td>\n",
       "      <td>Curved Glass Studio/1bd facing Park</td>\n",
       "      <td>Bright, 1 bed with curved glass windows facing...</td>\n",
       "      <td>Fully Furnished studio with enclosed bedroom. ...</td>\n",
       "      <td>Bright, 1 bed with curved glass windows facing...</td>\n",
       "      <td>none</td>\n",
       "      <td>Beacon Hill is a historic neighborhood filled ...</td>\n",
       "      <td>...</td>\n",
       "      <td>f</td>\n",
       "      <td>strict_14_with_grace_period</td>\n",
       "      <td>f</td>\n",
       "      <td>f</td>\n",
       "      <td>10</td>\n",
       "      <td>10</td>\n",
       "      <td>0</td>\n",
       "      <td>0</td>\n",
       "      <td>0.37</td>\n",
       "      <td>Apartment</td>\n",
       "    </tr>\n",
       "    <tr>\n",
       "      <td>23568</td>\n",
       "      <td>9273</td>\n",
       "      <td>https://www.airbnb.com/rooms/9273</td>\n",
       "      <td>20190922191643</td>\n",
       "      <td>2019-09-22</td>\n",
       "      <td>Stay at \"HARBORVIEW\" Walk to subway</td>\n",
       "      <td>None</td>\n",
       "      <td>Available $200.00 per night/seven night minim...</td>\n",
       "      <td>Available $200.00 per night/seven night minim...</td>\n",
       "      <td>none</td>\n",
       "      <td>None</td>\n",
       "      <td>...</td>\n",
       "      <td>f</td>\n",
       "      <td>super_strict_30</td>\n",
       "      <td>f</td>\n",
       "      <td>f</td>\n",
       "      <td>2</td>\n",
       "      <td>2</td>\n",
       "      <td>0</td>\n",
       "      <td>0</td>\n",
       "      <td>0.13</td>\n",
       "      <td>Apartment</td>\n",
       "    </tr>\n",
       "    <tr>\n",
       "      <td>23570</td>\n",
       "      <td>10730</td>\n",
       "      <td>https://www.airbnb.com/rooms/10730</td>\n",
       "      <td>20190922191643</td>\n",
       "      <td>2019-09-22</td>\n",
       "      <td>Bright 1bed facing Golden Dome</td>\n",
       "      <td>Bright, spacious unit, new galley kitchen, new...</td>\n",
       "      <td>Bright one bed facing the golden dome of the S...</td>\n",
       "      <td>Bright, spacious unit, new galley kitchen, new...</td>\n",
       "      <td>none</td>\n",
       "      <td>Beacon Hill is located downtown and is conveni...</td>\n",
       "      <td>...</td>\n",
       "      <td>f</td>\n",
       "      <td>strict_14_with_grace_period</td>\n",
       "      <td>f</td>\n",
       "      <td>f</td>\n",
       "      <td>10</td>\n",
       "      <td>10</td>\n",
       "      <td>0</td>\n",
       "      <td>0</td>\n",
       "      <td>0.25</td>\n",
       "      <td>Apartment</td>\n",
       "    </tr>\n",
       "  </tbody>\n",
       "</table>\n",
       "<p>5 rows × 106 columns</p>\n",
       "</div>"
      ],
      "text/plain": [
       "          id                         listing_url       scrape_id last_scraped  \\\n",
       "23562   3781   https://www.airbnb.com/rooms/3781  20190922191643   2019-09-22   \n",
       "23564   6976   https://www.airbnb.com/rooms/6976  20190922191643   2019-09-22   \n",
       "23566   8789   https://www.airbnb.com/rooms/8789  20190922191643   2019-09-22   \n",
       "23568   9273   https://www.airbnb.com/rooms/9273  20190922191643   2019-09-22   \n",
       "23570  10730  https://www.airbnb.com/rooms/10730  20190922191643   2019-09-22   \n",
       "\n",
       "                                                   name  \\\n",
       "23562                         HARBORSIDE-Walk to subway   \n",
       "23564  Mexican Folk Art Showcase in Boston Neighborhood   \n",
       "23566               Curved Glass Studio/1bd facing Park   \n",
       "23568               Stay at \"HARBORVIEW\" Walk to subway   \n",
       "23570                    Bright 1bed facing Golden Dome   \n",
       "\n",
       "                                                 summary  \\\n",
       "23562  Fully separate apartment in a two apartment bu...   \n",
       "23564  Come stay with me in Boston's Roslindale neigh...   \n",
       "23566  Bright, 1 bed with curved glass windows facing...   \n",
       "23568                                               None   \n",
       "23570  Bright, spacious unit, new galley kitchen, new...   \n",
       "\n",
       "                                                   space  \\\n",
       "23562  This is a totally separate apartment located o...   \n",
       "23564  This is a well-maintained, two-family house bu...   \n",
       "23566  Fully Furnished studio with enclosed bedroom. ...   \n",
       "23568   Available $200.00 per night/seven night minim...   \n",
       "23570  Bright one bed facing the golden dome of the S...   \n",
       "\n",
       "                                             description experiences_offered  \\\n",
       "23562  Fully separate apartment in a two apartment bu...                none   \n",
       "23564  Come stay with me in Boston's Roslindale neigh...                none   \n",
       "23566  Bright, 1 bed with curved glass windows facing...                none   \n",
       "23568   Available $200.00 per night/seven night minim...                none   \n",
       "23570  Bright, spacious unit, new galley kitchen, new...                none   \n",
       "\n",
       "                                   neighborhood_overview  ...  \\\n",
       "23562  Mostly quiet ( no loud music, no crowed sidewa...  ...   \n",
       "23564  The LOCATION: Roslindale is a safe and diverse...  ...   \n",
       "23566  Beacon Hill is a historic neighborhood filled ...  ...   \n",
       "23568                                               None  ...   \n",
       "23570  Beacon Hill is located downtown and is conveni...  ...   \n",
       "\n",
       "      is_business_travel_ready          cancellation_policy  \\\n",
       "23562                        f              super_strict_30   \n",
       "23564                        f                     moderate   \n",
       "23566                        f  strict_14_with_grace_period   \n",
       "23568                        f              super_strict_30   \n",
       "23570                        f  strict_14_with_grace_period   \n",
       "\n",
       "      require_guest_profile_picture require_guest_phone_verification  \\\n",
       "23562                             f                                f   \n",
       "23564                             t                                f   \n",
       "23566                             f                                f   \n",
       "23568                             f                                f   \n",
       "23570                             f                                f   \n",
       "\n",
       "      calculated_host_listings_count  \\\n",
       "23562                              2   \n",
       "23564                              1   \n",
       "23566                             10   \n",
       "23568                              2   \n",
       "23570                             10   \n",
       "\n",
       "      calculated_host_listings_count_entire_homes  \\\n",
       "23562                                           2   \n",
       "23564                                           0   \n",
       "23566                                          10   \n",
       "23568                                           2   \n",
       "23570                                          10   \n",
       "\n",
       "      calculated_host_listings_count_private_rooms  \\\n",
       "23562                                            0   \n",
       "23564                                            1   \n",
       "23566                                            0   \n",
       "23568                                            0   \n",
       "23570                                            0   \n",
       "\n",
       "      calculated_host_listings_count_shared_rooms reviews_per_month  \\\n",
       "23562                                           0              0.29   \n",
       "23564                                           0              0.67   \n",
       "23566                                           0              0.37   \n",
       "23568                                           0              0.13   \n",
       "23570                                           0              0.25   \n",
       "\n",
       "      property_type  \n",
       "23562     Apartment  \n",
       "23564     Apartment  \n",
       "23566     Apartment  \n",
       "23568     Apartment  \n",
       "23570     Apartment  \n",
       "\n",
       "[5 rows x 106 columns]"
      ]
     },
     "execution_count": 17,
     "metadata": {},
     "output_type": "execute_result"
    }
   ],
   "source": [
    "boston.compute().head()"
   ]
  },
  {
   "cell_type": "code",
   "execution_count": 46,
   "metadata": {
    "Collapsed": "false"
   },
   "outputs": [],
   "source": [
    "types_and_hoods = boston[['neighbourhood', 'property_type', 'id']]\\\n",
    "    .groupby(['neighbourhood', 'property_type'])\\\n",
    "    .count()"
   ]
  },
  {
   "cell_type": "code",
   "execution_count": 55,
   "metadata": {
    "Collapsed": "false"
   },
   "outputs": [],
   "source": [
    "types_and_hoods = types_and_hoods[types_and_hoods.id >= 5]"
   ]
  },
  {
   "cell_type": "code",
   "execution_count": 62,
   "metadata": {
    "Collapsed": "false"
   },
   "outputs": [
    {
     "data": {
      "text/html": [
       "<div>\n",
       "<style scoped>\n",
       "    .dataframe tbody tr th:only-of-type {\n",
       "        vertical-align: middle;\n",
       "    }\n",
       "\n",
       "    .dataframe tbody tr th {\n",
       "        vertical-align: top;\n",
       "    }\n",
       "\n",
       "    .dataframe thead th {\n",
       "        text-align: right;\n",
       "    }\n",
       "</style>\n",
       "<table border=\"1\" class=\"dataframe\">\n",
       "  <thead>\n",
       "    <tr style=\"text-align: right;\">\n",
       "      <th></th>\n",
       "      <th></th>\n",
       "      <th>id</th>\n",
       "    </tr>\n",
       "    <tr>\n",
       "      <th>neighbourhood</th>\n",
       "      <th>property_type</th>\n",
       "      <th></th>\n",
       "    </tr>\n",
       "  </thead>\n",
       "  <tbody>\n",
       "    <tr>\n",
       "      <td rowspan=\"5\" valign=\"top\">Allston-Brighton</td>\n",
       "      <td>Apartment</td>\n",
       "      <td>352.0</td>\n",
       "    </tr>\n",
       "    <tr>\n",
       "      <td>Condominium</td>\n",
       "      <td>64.0</td>\n",
       "    </tr>\n",
       "    <tr>\n",
       "      <td>Guest suite</td>\n",
       "      <td>9.0</td>\n",
       "    </tr>\n",
       "    <tr>\n",
       "      <td>Hotel</td>\n",
       "      <td>6.0</td>\n",
       "    </tr>\n",
       "    <tr>\n",
       "      <td>House</td>\n",
       "      <td>166.0</td>\n",
       "    </tr>\n",
       "  </tbody>\n",
       "</table>\n",
       "</div>"
      ],
      "text/plain": [
       "                                   id\n",
       "neighbourhood    property_type       \n",
       "Allston-Brighton Apartment      352.0\n",
       "                 Condominium     64.0\n",
       "                 Guest suite      9.0\n",
       "                 Hotel            6.0\n",
       "                 House          166.0"
      ]
     },
     "execution_count": 62,
     "metadata": {},
     "output_type": "execute_result"
    }
   ],
   "source": [
    "types_and_hoods.compute().head()"
   ]
  },
  {
   "cell_type": "code",
   "execution_count": 58,
   "metadata": {
    "Collapsed": "false"
   },
   "outputs": [
    {
     "data": {
      "text/plain": [
       "Text(0.5, 1.0, 'Count of Property Types by Neighborhood')"
      ]
     },
     "execution_count": 58,
     "metadata": {},
     "output_type": "execute_result"
    },
    {
     "data": {
      "image/png": "[encoded data removed]",
      "text/plain": [
       "<Figure size 1008x576 with 1 Axes>"
      ]
     },
     "metadata": {},
     "output_type": "display_data"
    }
   ],
   "source": [
    "types_and_hoods.compute().unstack().plot(kind='bar', stacked=True)\n",
    "plt.legend(loc='upper right', ncol=2)\n",
    "plt.title('Count of Property Types by Neighborhood')"
   ]
  },
  {
   "cell_type": "code",
   "execution_count": null,
   "metadata": {
    "Collapsed": "false"
   },
   "outputs": [],
   "source": [
    "reviews = dd.read_parquet(data_p/'reviews3.parquet')"
   ]
  },
  {
   "cell_type": "code",
   "execution_count": null,
   "metadata": {
    "Collapsed": "false"
   },
   "outputs": [],
   "source": [
    "reviews.head(10)"
   ]
  }
 ],
 "metadata": {
  "kernelspec": {
   "display_name": "Python 3",
   "language": "python",
   "name": "python3"
  },
  "language_info": {
   "codemirror_mode": {
    "name": "ipython",
    "version": 3
   },
   "file_extension": ".py",
   "mimetype": "text/x-python",
   "name": "python",
   "nbconvert_exporter": "python",
   "pygments_lexer": "ipython3",
   "version": "3.7.4"
  },
  "widgets": {
   "application/vnd.jupyter.widget-state+json": {
    "state": {},
    "version_major": 2,
    "version_minor": 0
   }
  }
 },
 "nbformat": 4,
 "nbformat_minor": 4
}
